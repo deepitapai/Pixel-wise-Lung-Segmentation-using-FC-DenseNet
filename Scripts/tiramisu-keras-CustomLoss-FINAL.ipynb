{
 "cells": [
  {
   "cell_type": "markdown",
   "metadata": {},
   "source": [
    "This notebook contains an implementation of the One Hundred Layers Tiramisu as described in Simon Jegou et al.'s paper [The One Hundred Layers Tiramisu: Fully Convolutional DenseNets for Semantic Segmentation](https://arxiv.org/abs/1611.09326). "
   ]
  },
  {
   "cell_type": "code",
   "execution_count": 1,
   "metadata": {},
   "outputs": [
    {
     "name": "stderr",
     "output_type": "stream",
     "text": [
      "Using TensorFlow backend.\n"
     ]
    }
   ],
   "source": [
    "import tensorflow as tf\n",
    "import keras\n",
    "from keras.layers.convolutional import Conv2D, MaxPooling2D, UpSampling2D, Cropping2D\n",
    "from keras.regularizers import l2\n",
    "from keras.layers.normalization import BatchNormalization\n",
    "from keras.layers.core import Layer, Dense, Dropout, Activation, Flatten, Reshape, Permute\n",
    "from keras.layers import Conv2D, Conv2DTranspose, merge, concatenate, Lambda\n"
   ]
  },
  {
   "cell_type": "code",
   "execution_count": 2,
   "metadata": {},
   "outputs": [],
   "source": [
    "%matplotlib inline\n",
    "import importlib\n",
    "# import utils2; importlib.reload(utils2)\n",
    "# from utils2 import *"
   ]
  },
  {
   "cell_type": "code",
   "execution_count": 3,
   "metadata": {},
   "outputs": [],
   "source": [
    "import warnings\n",
    "import matplotlib.pyplot as plt\n",
    "warnings.filterwarnings(\"ignore\",category=DeprecationWarning)\n",
    "import numpy as np\n",
    "import keras.backend as K"
   ]
  },
  {
   "cell_type": "code",
   "execution_count": 10,
   "metadata": {},
   "outputs": [
    {
     "name": "stdout",
     "output_type": "stream",
     "text": [
      "[[0.06599238 0.44086157 0.44425399]\n",
      " [0.16597055 0.43799355 0.66500001]\n",
      " [0.64311515 0.61364598 0.32943608]]\n"
     ]
    }
   ],
   "source": [
    "r=np.random.rand(3,3)\n",
    "print(r)\n",
    "g = (r >= 0.5).astype(np.int32)\n"
   ]
  },
  {
   "cell_type": "code",
   "execution_count": 52,
   "metadata": {},
   "outputs": [
    {
     "name": "stdout",
     "output_type": "stream",
     "text": [
      "[[1 0 0]\n",
      " [0 1 0]\n",
      " [1 1 1]]\n"
     ]
    }
   ],
   "source": [
    "print(g)"
   ]
  },
  {
   "cell_type": "code",
   "execution_count": 3,
   "metadata": {
    "collapsed": true
   },
   "outputs": [],
   "source": [
    "limit_mem()"
   ]
  },
  {
   "cell_type": "markdown",
   "metadata": {},
   "source": [
    "# Tiramisu / Camvid"
   ]
  },
  {
   "cell_type": "markdown",
   "metadata": {},
   "source": [
    "Tiramisu is a fully-convolutional neural network based on DenseNet architecture. It was designed as a state-of-the-art approach to semantic image segmentation.\n",
    "\n",
    "We're going to use the same dataset they did, CamVid.\n",
    "\n",
    "CamVid is a dataset of images from a video. It has ~ 600 images, so it's quite small, and given that it is from a video the information content of the dataset is small. \n",
    "\n",
    "We're going to train this Tiramisu network from scratch to segment the CamVid dataset. This seems extremely ambitious!"
   ]
  },
  {
   "cell_type": "markdown",
   "metadata": {},
   "source": [
    "## Setup"
   ]
  },
  {
   "cell_type": "markdown",
   "metadata": {},
   "source": [
    "Modify the following to point to the appropriate paths on your machine"
   ]
  },
  {
   "cell_type": "code",
   "execution_count": 4,
   "metadata": {},
   "outputs": [
    {
     "name": "stdout",
     "output_type": "stream",
     "text": [
      "(110, 50176, 1, 2)\n",
      "(110, 224, 224, 3)\n"
     ]
    }
   ],
   "source": [
    "train_data = np.load('./data/train_data_anant.npy')\n",
    "#train_data = train_data.reshape((367, 224, 224, 3))\n",
    "#train_data = train_data.reshape((5, 224, 224, 3,2))\n",
    "train_data_abnormal_labels = train_data.reshape((442, 224, 224, 3,2))\n",
    "#train_label =  np.load('./data/train_label.npy')#[:,:,:-1]\n",
    "train_label=  np.load('./data/train_label_anant.npy')#[:,:,:-1]\n",
    "#train_label = train_label_abnormal[:,:,:,0]#[:,:,:-1]\n",
    "train_data = train_data_abnormal_labels[:, :,:, :,0]\n",
    "train_data = train_data.reshape((442, 224, 224, 3))\n",
    "#print(train_data_disease.shape)\n",
    "# test_data = np.load('./data/test_data.npy')\n",
    "test_data=  np.load('./data/test_data_anant.npy')\n",
    "# test_data = test_data.reshape((233, 224, 224, 3,2))\n",
    "test_data_abnormal_labels = test_data.reshape((110, 224, 224, 3,2))\n",
    "test_data = test_data_abnormal_labels[:, :,:, :,0]\n",
    "test_data = test_data.reshape((110, 224, 224, 3))\n",
    "\n",
    "\n",
    "\n",
    "# test_label = np.load('./data/test_label.npy')#[:,:,:-1]\n",
    "#test_label = np.load('./data/test_label_sample.npy')#[:,:,:\n",
    "test_label_abnormal = np.load('./data/test_label_anant.npy')#[:,:,:\n",
    "test_label = test_label_abnormal\n",
    "\n",
    "print(test_label.shape)\n",
    "print(test_data.shape)\n",
    "###"
   ]
  },
  {
   "cell_type": "code",
   "execution_count": 28,
   "metadata": {},
   "outputs": [],
   "source": [
    "test_label_temp = test_label[ :,:, :,0]\n",
    "train_label_temp = train_label[ :,:, :,0]#[:,:,:-1]"
   ]
  },
  {
   "cell_type": "code",
   "execution_count": 248,
   "metadata": {},
   "outputs": [
    {
     "name": "stdout",
     "output_type": "stream",
     "text": [
      "(5, 50176, 1)\n",
      "(5, 224, 224, 3)\n",
      "(5, 50176, 1)\n",
      "(5, 224, 224, 3)\n"
     ]
    }
   ],
   "source": [
    "print(test_label.shape)\n",
    "print(test_data.shape)\n",
    "print(train_label.shape)\n",
    "print(train_data.shape)"
   ]
  },
  {
   "cell_type": "code",
   "execution_count": 91,
   "metadata": {},
   "outputs": [],
   "source": [
    "hash_table = dict()"
   ]
  },
  {
   "cell_type": "code",
   "execution_count": 251,
   "metadata": {},
   "outputs": [
    {
     "name": "stdout",
     "output_type": "stream",
     "text": [
      "1\n",
      "1\n",
      "0\n",
      "0\n",
      "0\n"
     ]
    }
   ],
   "source": [
    "for i in range(len(train_label)):\n",
    "    key = train_label[i,:,:].sum()\n",
    "    value = train_label_abnormal[i,0,0,1]\n",
    "    print(value)\n"
   ]
  },
  {
   "cell_type": "code",
   "execution_count": 187,
   "metadata": {},
   "outputs": [
    {
     "name": "stdout",
     "output_type": "stream",
     "text": [
      "5\n"
     ]
    },
    {
     "ename": "IndexError",
     "evalue": "too many indices for array",
     "output_type": "error",
     "traceback": [
      "\u001b[0;31m---------------------------------------------------------------------------\u001b[0m",
      "\u001b[0;31mIndexError\u001b[0m                                Traceback (most recent call last)",
      "\u001b[0;32m<ipython-input-187-461c43231528>\u001b[0m in \u001b[0;36m<module>\u001b[0;34m()\u001b[0m\n\u001b[1;32m      2\u001b[0m \u001b[0;32mfor\u001b[0m \u001b[0mi\u001b[0m \u001b[0;32min\u001b[0m \u001b[0mrange\u001b[0m\u001b[0;34m(\u001b[0m\u001b[0mlen\u001b[0m\u001b[0;34m(\u001b[0m\u001b[0mtest_label\u001b[0m\u001b[0;34m)\u001b[0m\u001b[0;34m)\u001b[0m\u001b[0;34m:\u001b[0m\u001b[0;34m\u001b[0m\u001b[0m\n\u001b[1;32m      3\u001b[0m     \u001b[0;31m#print (test_label[i,0,0,1])\u001b[0m\u001b[0;34m\u001b[0m\u001b[0;34m\u001b[0m\u001b[0m\n\u001b[0;32m----> 4\u001b[0;31m     \u001b[0mprint\u001b[0m\u001b[0;34m(\u001b[0m\u001b[0mtest_label\u001b[0m \u001b[0;34m[\u001b[0m\u001b[0;34m:\u001b[0m\u001b[0;34m,\u001b[0m\u001b[0;34m:\u001b[0m\u001b[0;34m,\u001b[0m\u001b[0;34m:\u001b[0m\u001b[0;34m,\u001b[0m\u001b[0;36m1\u001b[0m\u001b[0;34m]\u001b[0m\u001b[0;34m)\u001b[0m\u001b[0;34m\u001b[0m\u001b[0m\n\u001b[0m",
      "\u001b[0;31mIndexError\u001b[0m: too many indices for array"
     ]
    }
   ],
   "source": [
    "print(len(test_label))\n",
    "for i in range(len(test_label)):\n",
    "    #print (test_label[i,0,0,1])\n",
    "    print(test_label [:,:,:,1])"
   ]
  },
  {
   "cell_type": "code",
   "execution_count": 5,
   "metadata": {},
   "outputs": [
    {
     "data": {
      "text/plain": [
       "(50176,)"
      ]
     },
     "execution_count": 5,
     "metadata": {},
     "output_type": "execute_result"
    }
   ],
   "source": [
    "train_label[0].flatten().shape"
   ]
  },
  {
   "cell_type": "code",
   "execution_count": 9,
   "metadata": {},
   "outputs": [
    {
     "data": {
      "image/png": "[encoded data removed]",
      "text/plain": [
       "<matplotlib.figure.Figure at 0x1151390f0>"
      ]
     },
     "metadata": {},
     "output_type": "display_data"
    }
   ],
   "source": [
    "plt.imshow(test_label[0].flatten().reshape(224,224));"
   ]
  },
  {
   "cell_type": "code",
   "execution_count": 5,
   "metadata": {},
   "outputs": [],
   "source": [
    "rnd_trn = len(train_label)\n",
    "rnd_test = len(test_label)"
   ]
  },
  {
   "cell_type": "markdown",
   "metadata": {},
   "source": [
    "## The Tiramisu"
   ]
  },
  {
   "cell_type": "markdown",
   "metadata": {},
   "source": [
    "Now that we've prepared our data, we're ready to introduce the Tiramisu.\n",
    "\n",
    "Conventional CNN's for image segmentation are very similar to the kind we looked at for style transfer. Recall that it involved convolutions with downsampling (stride 2, pooling) to increase the receptive field, followed by upsampling with deconvolutions until reaching the original side. \n",
    "\n",
    "Tiramisu uses a similar down / up architecture, but with some key caveats.\n",
    "\n",
    "As opposed to normal convolutional layers, Tiramisu uses the DenseNet method of concatenating inputs to outputs. Tiramisu also uses *skip connections* from the downsampling branch to the upsampling branch.\n",
    "\n",
    "Specifically, the *skip connection* functions by concatenating the output of a Dense block in the down-sampling branch **onto** the input of the corresponding Dense block in the upsampling branch. By \"corresponding\", we mean the down-sample/up-sample Dense blocks that are equidistant from the input / output respectively.\n",
    "\n",
    "One way of interpreting this architecture is that by re-introducing earlier stages of the network to later stages, we're forcing the network to \"remember\" the finer details of the input image."
   ]
  },
  {
   "cell_type": "markdown",
   "metadata": {},
   "source": [
    "### The pieces"
   ]
  },
  {
   "cell_type": "markdown",
   "metadata": {},
   "source": [
    "This should all be familiar."
   ]
  },
  {
   "cell_type": "code",
   "execution_count": 6,
   "metadata": {},
   "outputs": [],
   "source": [
    "def relu(x): return Activation('relu')(x)\n",
    "def dropout(x, p): return Dropout(p)(x) if p else x\n",
    "def bn(x): return BatchNormalization(mode=0, axis=-1)(x)\n",
    "def relu_bn(x): return relu(bn(x))\n",
    "# def concat(xs): return merge(xs, mode='concat', concat_axis=-1)\n",
    "def concat(xs): return concatenate(xs,axis=-1)"
   ]
  },
  {
   "cell_type": "code",
   "execution_count": 7,
   "metadata": {},
   "outputs": [],
   "source": [
    "def conv(x, nf, sz, wd, p, stride=1): \n",
    "    x = Conv2D(nf, sz, sz, init='he_uniform', border_mode='same', \n",
    "                      subsample=(stride,stride), W_regularizer=l2(wd))(x)\n",
    "    return dropout(x, p)\n",
    "\n",
    "def conv_relu_bn(x, nf, sz=3, wd=0, p=0, stride=1): \n",
    "    return conv(relu_bn(x), nf, sz, wd=wd, p=p, stride=stride)"
   ]
  },
  {
   "cell_type": "markdown",
   "metadata": {},
   "source": [
    "Recall the dense block from DenseNet."
   ]
  },
  {
   "cell_type": "code",
   "execution_count": 8,
   "metadata": {},
   "outputs": [],
   "source": [
    "def dense_block(n,x,growth_rate,p,wd):\n",
    "    added = []\n",
    "    for i in range(n):\n",
    "        b = conv_relu_bn(x, growth_rate, p=p, wd=wd)\n",
    "        c=Conv2D(x, kernel_size=(1, 1), padding='same',\n",
    "                                  kernel_initializer=\"he_uniform\")\n",
    "        added.append(b)\n",
    "    return x,added"
   ]
  },
  {
   "cell_type": "markdown",
   "metadata": {},
   "source": [
    "This is the downsampling transition. \n",
    "\n",
    "In the original paper, downsampling consists of 1x1 convolution followed by max pooling. However we've found a stride 2 1x1 convolution to give better results."
   ]
  },
  {
   "cell_type": "code",
   "execution_count": 9,
   "metadata": {},
   "outputs": [],
   "source": [
    "def transition_dn(x, p, wd):\n",
    "#     x = conv_relu_bn(x, x.get_shape().as_list()[-1], sz=1, p=p, wd=wd)\n",
    "#     return MaxPooling2D(strides=(2, 2))(x)\n",
    "    return conv_relu_bn(x, x.get_shape().as_list()[-1], sz=1, p=p, wd=wd, stride=2)"
   ]
  },
  {
   "cell_type": "markdown",
   "metadata": {},
   "source": [
    "Next we build the entire downward path, keeping track of Dense block outputs in a list called `skip`. "
   ]
  },
  {
   "cell_type": "code",
   "execution_count": 10,
   "metadata": {},
   "outputs": [],
   "source": [
    "def down_path(x, nb_layers, growth_rate, p, wd):\n",
    "    skips = []\n",
    "    for i,n in enumerate(nb_layers):\n",
    "        x,added = dense_block(n,x,growth_rate,p,wd)\n",
    "        skips.append(x)\n",
    "        x = transition_dn(x, p=p, wd=wd)\n",
    "    return skips, added"
   ]
  },
  {
   "cell_type": "markdown",
   "metadata": {},
   "source": [
    "This is the upsampling transition. We use a deconvolution layer."
   ]
  },
  {
   "cell_type": "code",
   "execution_count": 11,
   "metadata": {},
   "outputs": [],
   "source": [
    "def transition_up(added, wd=0):\n",
    "    x = concat(added)\n",
    "    _,r,c,ch = x.get_shape().as_list()\n",
    "    return Conv2DTranspose(ch, 3, 3, (None,r*2,c*2,ch), init='he_uniform', \n",
    "               border_mode='same', subsample=(2,2), W_regularizer=l2(wd))(x)\n",
    "#     x = UpSampling2D()(x)\n",
    "#     return conv(x, ch, 2, wd, 0)"
   ]
  },
  {
   "cell_type": "markdown",
   "metadata": {},
   "source": [
    "This builds our upward path, concatenating the skip connections from `skip` to the Dense block inputs as mentioned."
   ]
  },
  {
   "cell_type": "code",
   "execution_count": 12,
   "metadata": {},
   "outputs": [],
   "source": [
    "def up_path(added, skips, nb_layers, growth_rate, p, wd):\n",
    "    for i,n in enumerate(nb_layers):\n",
    "        x = transition_up(added, wd)\n",
    "        x = concat([x,skips[i]])\n",
    "#         x = x+skips[i]\n",
    "        x,added = dense_block(n,x,growth_rate,p,wd)\n",
    "    return x"
   ]
  },
  {
   "cell_type": "markdown",
   "metadata": {},
   "source": [
    "### Build the tiramisu model"
   ]
  },
  {
   "cell_type": "markdown",
   "metadata": {},
   "source": [
    "- nb_classes: number of classes\n",
    "- img_input: tuple of shape (channels, rows, columns) or (rows, columns, channels)\n",
    "- depth: number or layers\n",
    "- nb_dense_block: number of dense blocks to add to end (generally = 3)\n",
    "- growth_rate: number of filters to add per dense block\n",
    "- nb_filter:  initial number of filters\n",
    "- nb_layers_per_block: number of layers in each dense block.\n",
    "  - If positive integer, a set number of layers per dense block.\n",
    "  - If list, nb_layer is used as provided\n",
    "- p: dropout rate\n",
    "- wd: weight decay"
   ]
  },
  {
   "cell_type": "code",
   "execution_count": 13,
   "metadata": {},
   "outputs": [],
   "source": [
    "def reverse(a): return list(reversed(a))"
   ]
  },
  {
   "cell_type": "markdown",
   "metadata": {},
   "source": [
    "Finally we put together the entire network."
   ]
  },
  {
   "cell_type": "code",
   "execution_count": 17,
   "metadata": {},
   "outputs": [],
   "source": [
    "# def create_tiramisu(nb_classes, img_input, nb_dense_block=6, \n",
    "#     growth_rate=16, nb_filter=48, nb_layers_per_block=5, p=None, wd=0):\n",
    "    \n",
    "#     if type(nb_layers_per_block) is list or type(nb_layers_per_block) is tuple:\n",
    "#         nb_layers = list(nb_layers_per_block)\n",
    "#     else: nb_layers = [nb_layers_per_block] * nb_dense_block\n",
    "\n",
    "#     x = conv(img_input, nb_filter, 3, wd, 0)\n",
    "#     skips,added = down_path(x, nb_layers, growth_rate, p, wd)\n",
    "#     x = up_path(added, reverse(skips[:-1]), reverse(nb_layers[:-1]), growth_rate, p, wd)\n",
    "    \n",
    "#     x = conv(x, nb_classes, 1, wd, 0)\n",
    "#     _,r,c,f = x.get_shape().as_list()\n",
    "#     x = Reshape((-1, nb_classes))(x)\n",
    "#     return Activation('softmax')(x)"
   ]
  },
  {
   "cell_type": "code",
   "execution_count": 200,
   "metadata": {},
   "outputs": [],
   "source": [
    "\n",
    "def create_tiramisu_reshape(nb_classes, img_input, nb_dense_block=6, \n",
    "    growth_rate=16, nb_filter=48, nb_layers_per_block=5, p=None, wd=0):\n",
    "    newdim = tuple([x for x in img_input.get_shape().as_list() if x != 2 and x is not None])\n",
    "    #newdim is now (15, 36). Reshape does not take batch size as an input dimension.\n",
    "    img_input = Reshape(newdim) (img_input)\n",
    "    print(img_input.get_shape().as_list())\n",
    "    if type(nb_layers_per_block) is list or type(nb_layers_per_block) is tuple:\n",
    "        nb_layers = list(nb_layers_per_block)\n",
    "    else: nb_layers = [nb_layers_per_block] * nb_dense_block\n",
    "\n",
    "    x = conv(img_input, nb_filter, 3, wd, 0)\n",
    "    skips,added = down_path(x, nb_layers, growth_rate, p, wd)\n",
    "    x = up_path(added, reverse(skips[:-1]), reverse(nb_layers[:-1]), growth_rate, p, wd)\n",
    "    \n",
    "    x = conv(x, nb_classes, 1, wd, 0)\n",
    "    _,r,c,f = x.get_shape().as_list()\n",
    "    x = Reshape((-1, nb_classes))(x)\n",
    "    print(x.shape)\n",
    "    print(x.get_shape().as_list())\n",
    "    #return Activation('sigmoid')(x)\n",
    "    x=Activation('sigmoid')(x)\n",
    "    x=K.expand_dims(x, axis=3)\n",
    "    \n",
    "    print(x.get_shape().as_list())\n",
    "    return x\n"
   ]
  },
  {
   "cell_type": "code",
   "execution_count": 14,
   "metadata": {},
   "outputs": [],
   "source": [
    "##ADD THIS FOR CUSTOM LOSS\n",
    "def add_dims(x):\n",
    "    return K.expand_dims(x, axis=3)"
   ]
  },
  {
   "cell_type": "code",
   "execution_count": 15,
   "metadata": {},
   "outputs": [],
   "source": [
    "##ADD THIS\n",
    "def create_tiramisu(nb_classes, img_input, nb_dense_block=6, \n",
    "    growth_rate=16, nb_filter=48, nb_layers_per_block=5, p=None, wd=0):\n",
    "    \n",
    "    if type(nb_layers_per_block) is list or type(nb_layers_per_block) is tuple:\n",
    "        nb_layers = list(nb_layers_per_block)\n",
    "    else: nb_layers = [nb_layers_per_block] * nb_dense_block\n",
    "\n",
    "    x = conv(img_input, nb_filter, 3, wd, 0)\n",
    "    skips,added = down_path(x, nb_layers, growth_rate, p, wd)\n",
    "    x = up_path(added, reverse(skips[:-1]), reverse(nb_layers[:-1]), growth_rate, p, wd)\n",
    "    \n",
    "    x = conv(x, nb_classes, 1, wd, 0)\n",
    "    _,r,c,f = x.get_shape().as_list()\n",
    "    x = Reshape((-1, nb_classes))(x)\n",
    "    print(x.shape)\n",
    "    print(x.get_shape().as_list())\n",
    "    x=Activation('sigmoid')(x)\n",
    "    x=Lambda(add_dims)(x)\n",
    "    \n",
    "    print(x.get_shape().as_list())\n",
    "    return x\n",
    "    #return Activation('sigmoid')(x)"
   ]
  },
  {
   "cell_type": "markdown",
   "metadata": {
    "collapsed": true
   },
   "source": [
    "## Train"
   ]
  },
  {
   "cell_type": "markdown",
   "metadata": {},
   "source": [
    "Now we can train. \n",
    "\n",
    "These architectures can take quite some time to train."
   ]
  },
  {
   "cell_type": "code",
   "execution_count": 55,
   "metadata": {
    "collapsed": true
   },
   "outputs": [],
   "source": [
    "limit_mem()"
   ]
  },
  {
   "cell_type": "code",
   "execution_count": 16,
   "metadata": {},
   "outputs": [],
   "source": [
    "input_shape = (224,224,3)\n",
    "#input_shape = (224,224,3,2)"
   ]
  },
  {
   "cell_type": "code",
   "execution_count": 17,
   "metadata": {
    "scrolled": true
   },
   "outputs": [],
   "source": [
    "img_input = keras.Input(shape=input_shape)"
   ]
  },
  {
   "cell_type": "code",
   "execution_count": 18,
   "metadata": {},
   "outputs": [
    {
     "name": "stderr",
     "output_type": "stream",
     "text": [
      "/home/leslie/mlmi/lib/python2.7/site-packages/ipykernel_launcher.py:3: UserWarning: Update your `Conv2D` call to the Keras 2 API: `Conv2D(48, (3, 3), kernel_initializer=\"he_uniform\", padding=\"same\", strides=(1, 1), kernel_regularizer=<keras.reg...)`\n",
      "  This is separate from the ipykernel package so we can avoid doing imports until\n",
      "/home/leslie/mlmi/lib/python2.7/site-packages/ipykernel_launcher.py:3: UserWarning: Update your `BatchNormalization` call to the Keras 2 API: `BatchNormalization(axis=-1)`\n",
      "  This is separate from the ipykernel package so we can avoid doing imports until\n",
      "/home/leslie/mlmi/lib/python2.7/site-packages/ipykernel_launcher.py:3: UserWarning: Update your `Conv2D` call to the Keras 2 API: `Conv2D(16, (3, 3), kernel_initializer=\"he_uniform\", padding=\"same\", strides=(1, 1), kernel_regularizer=<keras.reg...)`\n",
      "  This is separate from the ipykernel package so we can avoid doing imports until\n",
      "/home/leslie/mlmi/lib/python2.7/site-packages/ipykernel_launcher.py:3: UserWarning: Update your `Conv2D` call to the Keras 2 API: `Conv2D(48, (1, 1), kernel_initializer=\"he_uniform\", padding=\"same\", strides=(2, 2), kernel_regularizer=<keras.reg...)`\n",
      "  This is separate from the ipykernel package so we can avoid doing imports until\n",
      "/home/leslie/mlmi/lib/python2.7/site-packages/ipykernel_launcher.py:5: UserWarning: Update your `Conv2DTranspose` call to the Keras 2 API: `Conv2DTranspose(240, (3, 3), kernel_initializer=\"he_uniform\", padding=\"same\", strides=(2, 2), kernel_regularizer=<keras.reg...)`\n",
      "  \"\"\"\n",
      "/home/leslie/mlmi/lib/python2.7/site-packages/ipykernel_launcher.py:5: UserWarning: Update your `Conv2DTranspose` call to the Keras 2 API: `Conv2DTranspose(192, (3, 3), kernel_initializer=\"he_uniform\", padding=\"same\", strides=(2, 2), kernel_regularizer=<keras.reg...)`\n",
      "  \"\"\"\n",
      "/home/leslie/mlmi/lib/python2.7/site-packages/ipykernel_launcher.py:5: UserWarning: Update your `Conv2DTranspose` call to the Keras 2 API: `Conv2DTranspose(160, (3, 3), kernel_initializer=\"he_uniform\", padding=\"same\", strides=(2, 2), kernel_regularizer=<keras.reg...)`\n",
      "  \"\"\"\n",
      "/home/leslie/mlmi/lib/python2.7/site-packages/ipykernel_launcher.py:5: UserWarning: Update your `Conv2DTranspose` call to the Keras 2 API: `Conv2DTranspose(112, (3, 3), kernel_initializer=\"he_uniform\", padding=\"same\", strides=(2, 2), kernel_regularizer=<keras.reg...)`\n",
      "  \"\"\"\n",
      "/home/leslie/mlmi/lib/python2.7/site-packages/ipykernel_launcher.py:5: UserWarning: Update your `Conv2DTranspose` call to the Keras 2 API: `Conv2DTranspose(80, (3, 3), kernel_initializer=\"he_uniform\", padding=\"same\", strides=(2, 2), kernel_regularizer=<keras.reg...)`\n",
      "  \"\"\"\n"
     ]
    },
    {
     "name": "stdout",
     "output_type": "stream",
     "text": [
      "(?, ?, 1)\n",
      "[None, None, 1]\n",
      "[None, None, 1, 1]\n"
     ]
    },
    {
     "name": "stderr",
     "output_type": "stream",
     "text": [
      "/home/leslie/mlmi/lib/python2.7/site-packages/ipykernel_launcher.py:3: UserWarning: Update your `Conv2D` call to the Keras 2 API: `Conv2D(1, (1, 1), kernel_initializer=\"he_uniform\", padding=\"same\", strides=(1, 1), kernel_regularizer=<keras.reg...)`\n",
      "  This is separate from the ipykernel package so we can avoid doing imports until\n"
     ]
    }
   ],
   "source": [
    "x = create_tiramisu(1, img_input, nb_layers_per_block=[4,5,7,10,12,15], p=0.2, wd=1e-4)"
   ]
  },
  {
   "cell_type": "code",
   "execution_count": 93,
   "metadata": {
    "scrolled": true
   },
   "outputs": [
    {
     "name": "stderr",
     "output_type": "stream",
     "text": [
      "/Users/q453991/anaconda3/lib/python3.6/site-packages/ipykernel_launcher.py:3: UserWarning: Update your `Conv2D` call to the Keras 2 API: `Conv2D(48, (3, 3), strides=(1, 1), padding=\"same\", kernel_initializer=\"he_uniform\", kernel_regularizer=<keras.reg...)`\n",
      "  This is separate from the ipykernel package so we can avoid doing imports until\n",
      "/Users/q453991/anaconda3/lib/python3.6/site-packages/ipykernel_launcher.py:3: UserWarning: Update your `BatchNormalization` call to the Keras 2 API: `BatchNormalization(axis=-1)`\n",
      "  This is separate from the ipykernel package so we can avoid doing imports until\n",
      "/Users/q453991/anaconda3/lib/python3.6/site-packages/ipykernel_launcher.py:3: UserWarning: Update your `Conv2D` call to the Keras 2 API: `Conv2D(16, (3, 3), strides=(1, 1), padding=\"same\", kernel_initializer=\"he_uniform\", kernel_regularizer=<keras.reg...)`\n",
      "  This is separate from the ipykernel package so we can avoid doing imports until\n",
      "/Users/q453991/anaconda3/lib/python3.6/site-packages/ipykernel_launcher.py:3: UserWarning: Update your `Conv2D` call to the Keras 2 API: `Conv2D(48, (1, 1), strides=(2, 2), padding=\"same\", kernel_initializer=\"he_uniform\", kernel_regularizer=<keras.reg...)`\n",
      "  This is separate from the ipykernel package so we can avoid doing imports until\n",
      "/Users/q453991/anaconda3/lib/python3.6/site-packages/ipykernel_launcher.py:5: UserWarning: Update your `Conv2DTranspose` call to the Keras 2 API: `Conv2DTranspose(240, (3, 3), strides=(2, 2), padding=\"same\", kernel_initializer=\"he_uniform\", kernel_regularizer=<keras.reg...)`\n",
      "  \"\"\"\n",
      "/Users/q453991/anaconda3/lib/python3.6/site-packages/ipykernel_launcher.py:5: UserWarning: Update your `Conv2DTranspose` call to the Keras 2 API: `Conv2DTranspose(192, (3, 3), strides=(2, 2), padding=\"same\", kernel_initializer=\"he_uniform\", kernel_regularizer=<keras.reg...)`\n",
      "  \"\"\"\n",
      "/Users/q453991/anaconda3/lib/python3.6/site-packages/ipykernel_launcher.py:5: UserWarning: Update your `Conv2DTranspose` call to the Keras 2 API: `Conv2DTranspose(160, (3, 3), strides=(2, 2), padding=\"same\", kernel_initializer=\"he_uniform\", kernel_regularizer=<keras.reg...)`\n",
      "  \"\"\"\n",
      "/Users/q453991/anaconda3/lib/python3.6/site-packages/ipykernel_launcher.py:5: UserWarning: Update your `Conv2DTranspose` call to the Keras 2 API: `Conv2DTranspose(112, (3, 3), strides=(2, 2), padding=\"same\", kernel_initializer=\"he_uniform\", kernel_regularizer=<keras.reg...)`\n",
      "  \"\"\"\n",
      "/Users/q453991/anaconda3/lib/python3.6/site-packages/ipykernel_launcher.py:5: UserWarning: Update your `Conv2DTranspose` call to the Keras 2 API: `Conv2DTranspose(80, (3, 3), strides=(2, 2), padding=\"same\", kernel_initializer=\"he_uniform\", kernel_regularizer=<keras.reg...)`\n",
      "  \"\"\"\n"
     ]
    },
    {
     "name": "stdout",
     "output_type": "stream",
     "text": [
      "(?, ?, 1)\n",
      "[None, None, 1]\n"
     ]
    },
    {
     "name": "stderr",
     "output_type": "stream",
     "text": [
      "/Users/q453991/anaconda3/lib/python3.6/site-packages/ipykernel_launcher.py:3: UserWarning: Update your `Conv2D` call to the Keras 2 API: `Conv2D(1, (1, 1), strides=(1, 1), padding=\"same\", kernel_initializer=\"he_uniform\", kernel_regularizer=<keras.reg...)`\n",
      "  This is separate from the ipykernel package so we can avoid doing imports until\n"
     ]
    }
   ],
   "source": [
    "#x = create_tiramisu(1, img_input, nb_layers_per_block=[4,5,7,10,12,15], p=0.2, wd=1e-4)"
   ]
  },
  {
   "cell_type": "code",
   "execution_count": 19,
   "metadata": {
    "scrolled": true
   },
   "outputs": [],
   "source": [
    "##RESET\n",
    "model = keras.Model(img_input, x)"
   ]
  },
  {
   "cell_type": "code",
   "execution_count": 20,
   "metadata": {},
   "outputs": [],
   "source": [
    "#def loss_wrapper(hash_table):\n",
    "def custom_acc(y_true, y_pred):\n",
    "    return K.mean(y_pred)\n",
    "# def custom_cross_entropy_1(y_true, y_pred):\n",
    "#     #label=hash_table[K.sum(y_true)]\n",
    "#     #print(label)\n",
    "#     label=y_true[0,0,0,1]\n",
    "#     label=.2\n",
    "#     tf.Print(\"haha\", y_true.get_shape().as_list())\n",
    "#     y_true= y_true[:,:,:,0]\n",
    "#     tf.Print( \"haha\",y_true.get_shape().as_list())\n",
    "#     #print(label)\n",
    "    \n",
    "#     t_loss = K.max(y_pred,0) - y_pred*y_true + K.log(1+K.exp((-1)*K.abs(y_pred)))\n",
    "#     t_loss =(1-0.2*label)*t_loss\n",
    "#     return t_loss\n",
    "#     #return custom_cross_entropy_1\n",
    "##ANEES-EASY\n",
    "def custom_cross_entropy_3(y_true, y_pred):\n",
    "    #label=hash_table[K.sum(y_true)]\n",
    "    #print(label)\n",
    "    label=y_true[0,0,0,1]\n",
    "    y_pred = y_pred[:,:,:,0]\n",
    "    #label=.2\n",
    "    #tf.Print(\"haha\", y_true.get_shape().as_list())\n",
    "    y_true = y_true[:,:,:,0]\n",
    "    b_ce = K.binary_crossentropy(y_true, y_pred)\n",
    "    #tf.Print( \"haha\",y_true.get_shape().as_list())\n",
    "    #print(label)\n",
    "    \n",
    "    #t_loss = K.max(y_pred,0) - y_pred*y_true + K.log(1+K.exp((-1)*K.abs(y_pred)))\n",
    "    t_loss =(1-0.2*label)*b_ce\n",
    "    return K.mean(t_loss)\n",
    "    #return t_loss\n",
    "def custom_cross_entropy_2(y_true, y_pred):\n",
    "\n",
    "\n",
    "    # Original binary crossentropy (see losses.py):\n",
    "    # K.mean(K.binary_crossentropy(y_true, y_pred), axis=-1)\n",
    "    label=y_true[0,0,0,1]\n",
    "    y_pred = y_pred[:,:,:,0]\n",
    "    y_true = y_true[:,:,:,0]\n",
    "    # Calculate the binary crossentropy\n",
    "    b_ce = K.binary_crossentropy(y_true, y_pred)\n",
    "\n",
    "    # Apply the weights\n",
    "    weight_vector = y_true * 0.6+ (1. - y_true) * 0.4\n",
    "    weighted_b_ce = weight_vector * b_ce\n",
    "    final = (1-label)*b_ce + label*weighted_b_ce\n",
    "\n",
    "    # Return the mean error\n",
    "    return K.mean(final)\n",
    "    #return final\n",
    "   # return t_loss\n",
    "    #return custom_cross_entropy_1"
   ]
  },
  {
   "cell_type": "code",
   "execution_count": 24,
   "metadata": {},
   "outputs": [],
   "source": [
    "loss = custom_cross_entropy_2\n",
    "model.compile(loss=loss, \n",
    "              optimizer=keras.optimizers.RMSprop(1e-3), metrics=[custom_acc])"
   ]
  },
  {
   "cell_type": "code",
   "execution_count": 376,
   "metadata": {},
   "outputs": [],
   "source": [
    "# model.optimizer=keras.optimizers.Adam(lr=1e-3, decay=1-0.99995)"
   ]
  },
  {
   "cell_type": "code",
   "execution_count": 441,
   "metadata": {},
   "outputs": [],
   "source": [
    "# model.optimizer=keras.optimizers.RMSprop(1e-3, decay=1-0.99995)"
   ]
  },
  {
   "cell_type": "code",
   "execution_count": 78,
   "metadata": {},
   "outputs": [],
   "source": [
    "# model.optimizer=keras.optimizers.RMSprop(1e-3)"
   ]
  },
  {
   "cell_type": "code",
   "execution_count": 25,
   "metadata": {},
   "outputs": [],
   "source": [
    "K.set_value(model.optimizer.lr, 1e-3)\n",
    "batch_size = 5\n",
    "nb_epoch=400"
   ]
  },
  {
   "cell_type": "code",
   "execution_count": 26,
   "metadata": {
    "scrolled": false
   },
   "outputs": [
    {
     "name": "stdout",
     "output_type": "stream",
     "text": [
      "Train on 442 samples, validate on 110 samples\n",
      "Epoch 1/400\n",
      " - 23s - loss: 2.9327 - custom_acc: 0.1873 - val_loss: 2.8151 - val_custom_acc: 0.4154\n",
      "Epoch 2/400\n",
      " - 17s - loss: 1.8814 - custom_acc: 0.2353 - val_loss: 2.0175 - val_custom_acc: 0.3279\n",
      "Epoch 3/400\n",
      " - 17s - loss: 1.7376 - custom_acc: 0.2314 - val_loss: 2.3064 - val_custom_acc: 0.0689\n",
      "Epoch 4/400\n",
      " - 17s - loss: 1.5234 - custom_acc: 0.2339 - val_loss: 1.7152 - val_custom_acc: 0.3458\n",
      "Epoch 5/400\n",
      " - 17s - loss: 1.4063 - custom_acc: 0.2425 - val_loss: 1.7497 - val_custom_acc: 0.3637\n",
      "Epoch 6/400\n",
      " - 17s - loss: 1.3891 - custom_acc: 0.2371 - val_loss: 1.7174 - val_custom_acc: 0.1293\n",
      "Epoch 7/400\n",
      " - 17s - loss: 1.2907 - custom_acc: 0.2422 - val_loss: 1.3529 - val_custom_acc: 0.1882\n",
      "Epoch 8/400\n",
      " - 17s - loss: 1.2386 - custom_acc: 0.2439 - val_loss: 1.1892 - val_custom_acc: 0.2601\n",
      "Epoch 9/400\n",
      " - 17s - loss: 1.1468 - custom_acc: 0.2462 - val_loss: 1.1682 - val_custom_acc: 0.2253\n",
      "Epoch 10/400\n",
      " - 17s - loss: 1.1393 - custom_acc: 0.2470 - val_loss: 1.0652 - val_custom_acc: 0.2174\n",
      "Epoch 11/400\n",
      " - 17s - loss: 1.0844 - custom_acc: 0.2410 - val_loss: 1.0196 - val_custom_acc: 0.2700\n",
      "Epoch 12/400\n",
      " - 17s - loss: 1.1107 - custom_acc: 0.2366 - val_loss: 1.2527 - val_custom_acc: 0.2938\n",
      "Epoch 13/400\n",
      " - 17s - loss: 0.9542 - custom_acc: 0.2432 - val_loss: 1.0211 - val_custom_acc: 0.2763\n",
      "Epoch 14/400\n",
      " - 17s - loss: 0.9747 - custom_acc: 0.2517 - val_loss: 0.8089 - val_custom_acc: 0.2026\n",
      "Epoch 15/400\n",
      " - 17s - loss: 0.9471 - custom_acc: 0.2494 - val_loss: 1.4120 - val_custom_acc: 0.1326\n",
      "Epoch 16/400\n",
      " - 17s - loss: 0.9949 - custom_acc: 0.2394 - val_loss: 1.3257 - val_custom_acc: 0.1366\n",
      "Epoch 17/400\n",
      " - 17s - loss: 0.9600 - custom_acc: 0.2426 - val_loss: 1.1128 - val_custom_acc: 0.1790\n",
      "Epoch 18/400\n",
      " - 17s - loss: 0.9102 - custom_acc: 0.2368 - val_loss: 1.2463 - val_custom_acc: 0.3203\n",
      "Epoch 19/400\n",
      " - 17s - loss: 0.9534 - custom_acc: 0.2450 - val_loss: 0.9910 - val_custom_acc: 0.3109\n",
      "Epoch 20/400\n",
      " - 17s - loss: 0.8612 - custom_acc: 0.2422 - val_loss: 0.7707 - val_custom_acc: 0.2379\n",
      "Epoch 21/400\n",
      " - 17s - loss: 0.8417 - custom_acc: 0.2498 - val_loss: 2.5656 - val_custom_acc: 0.0369\n",
      "Epoch 22/400\n",
      " - 18s - loss: 0.8266 - custom_acc: 0.2465 - val_loss: 0.8644 - val_custom_acc: 0.2251\n",
      "Epoch 23/400\n",
      " - 18s - loss: 0.7766 - custom_acc: 0.2459 - val_loss: 0.6524 - val_custom_acc: 0.2492\n",
      "Epoch 24/400\n",
      " - 17s - loss: 0.8323 - custom_acc: 0.2454 - val_loss: 0.7025 - val_custom_acc: 0.2048\n",
      "Epoch 25/400\n",
      " - 18s - loss: 0.7513 - custom_acc: 0.2487 - val_loss: 0.5886 - val_custom_acc: 0.2495\n",
      "Epoch 26/400\n",
      " - 18s - loss: 0.7815 - custom_acc: 0.2415 - val_loss: 0.6883 - val_custom_acc: 0.2680\n",
      "Epoch 27/400\n",
      " - 18s - loss: 0.7211 - custom_acc: 0.2455 - val_loss: 0.6453 - val_custom_acc: 0.1950\n",
      "Epoch 28/400\n",
      " - 18s - loss: 0.7758 - custom_acc: 0.2444 - val_loss: 0.7446 - val_custom_acc: 0.2772\n",
      "Epoch 29/400\n",
      " - 18s - loss: 0.7421 - custom_acc: 0.2479 - val_loss: 0.6589 - val_custom_acc: 0.2366\n",
      "Epoch 30/400\n",
      " - 18s - loss: 0.6791 - custom_acc: 0.2456 - val_loss: 0.7497 - val_custom_acc: 0.3080\n",
      "Epoch 31/400\n",
      " - 18s - loss: 0.7304 - custom_acc: 0.2470 - val_loss: 0.5869 - val_custom_acc: 0.2432\n",
      "Epoch 32/400\n",
      " - 18s - loss: 0.7263 - custom_acc: 0.2401 - val_loss: 0.6922 - val_custom_acc: 0.1997\n",
      "Epoch 33/400\n",
      " - 18s - loss: 0.7126 - custom_acc: 0.2401 - val_loss: 0.6229 - val_custom_acc: 0.2427\n",
      "Epoch 34/400\n",
      " - 18s - loss: 0.6909 - custom_acc: 0.2452 - val_loss: 0.8679 - val_custom_acc: 0.2133\n",
      "Epoch 35/400\n",
      " - 18s - loss: 0.6916 - custom_acc: 0.2434 - val_loss: 0.5360 - val_custom_acc: 0.2675\n",
      "Epoch 36/400\n",
      " - 18s - loss: 0.6681 - custom_acc: 0.2439 - val_loss: 0.7759 - val_custom_acc: 0.3356\n",
      "Epoch 37/400\n",
      " - 18s - loss: 0.6191 - custom_acc: 0.2496 - val_loss: 0.5176 - val_custom_acc: 0.2664\n",
      "Epoch 38/400\n",
      " - 18s - loss: 0.6173 - custom_acc: 0.2454 - val_loss: 0.5883 - val_custom_acc: 0.2669\n",
      "Epoch 39/400\n",
      " - 18s - loss: 0.6333 - custom_acc: 0.2441 - val_loss: 0.7355 - val_custom_acc: 0.1712\n",
      "Epoch 40/400\n",
      " - 18s - loss: 0.6404 - custom_acc: 0.2439 - val_loss: 0.6507 - val_custom_acc: 0.3115\n",
      "Epoch 41/400\n",
      " - 18s - loss: 0.5807 - custom_acc: 0.2488 - val_loss: 0.6378 - val_custom_acc: 0.2197\n",
      "Epoch 42/400\n",
      " - 18s - loss: 0.5989 - custom_acc: 0.2474 - val_loss: 0.4761 - val_custom_acc: 0.2659\n",
      "Epoch 43/400\n",
      " - 18s - loss: 0.6184 - custom_acc: 0.2450 - val_loss: 0.5257 - val_custom_acc: 0.2558\n",
      "Epoch 44/400\n",
      " - 18s - loss: 0.5981 - custom_acc: 0.2486 - val_loss: 1.0775 - val_custom_acc: 0.3697\n",
      "Epoch 45/400\n",
      " - 18s - loss: 0.5810 - custom_acc: 0.2471 - val_loss: 1.3457 - val_custom_acc: 0.1127\n",
      "Epoch 46/400\n",
      " - 18s - loss: 0.6149 - custom_acc: 0.2468 - val_loss: 1.1131 - val_custom_acc: 0.3564\n",
      "Epoch 47/400\n",
      " - 18s - loss: 0.5805 - custom_acc: 0.2466 - val_loss: 0.4377 - val_custom_acc: 0.2428\n",
      "Epoch 48/400\n",
      " - 18s - loss: 0.5680 - custom_acc: 0.2467 - val_loss: 0.5394 - val_custom_acc: 0.2948\n",
      "Epoch 49/400\n",
      " - 18s - loss: 0.5560 - custom_acc: 0.2492 - val_loss: 1.3453 - val_custom_acc: 0.4080\n",
      "Epoch 50/400\n",
      " - 18s - loss: 0.5442 - custom_acc: 0.2497 - val_loss: 0.5480 - val_custom_acc: 0.2097\n",
      "Epoch 51/400\n",
      " - 18s - loss: 0.5586 - custom_acc: 0.2427 - val_loss: 0.4687 - val_custom_acc: 0.2334\n",
      "Epoch 52/400\n",
      " - 18s - loss: 0.5164 - custom_acc: 0.2525 - val_loss: 0.4876 - val_custom_acc: 0.2888\n",
      "Epoch 53/400\n",
      " - 18s - loss: 0.5312 - custom_acc: 0.2483 - val_loss: 0.3919 - val_custom_acc: 0.2623\n",
      "Epoch 54/400\n",
      " - 18s - loss: 0.5301 - custom_acc: 0.2472 - val_loss: 0.5535 - val_custom_acc: 0.3148\n",
      "Epoch 55/400\n",
      " - 18s - loss: 0.5247 - custom_acc: 0.2488 - val_loss: 0.4749 - val_custom_acc: 0.2512\n",
      "Epoch 56/400\n",
      " - 18s - loss: 0.5147 - custom_acc: 0.2488 - val_loss: 0.8199 - val_custom_acc: 0.3580\n",
      "Epoch 57/400\n",
      " - 18s - loss: 0.5191 - custom_acc: 0.2470 - val_loss: 0.6202 - val_custom_acc: 0.2081\n",
      "Epoch 58/400\n",
      " - 18s - loss: 0.4816 - custom_acc: 0.2492 - val_loss: 0.4003 - val_custom_acc: 0.2475\n",
      "Epoch 59/400\n",
      " - 18s - loss: 0.4793 - custom_acc: 0.2459 - val_loss: 0.4322 - val_custom_acc: 0.2876\n",
      "Epoch 60/400\n",
      " - 18s - loss: 0.4800 - custom_acc: 0.2534 - val_loss: 0.5147 - val_custom_acc: 0.2823\n",
      "Epoch 61/400\n",
      " - 18s - loss: 0.4888 - custom_acc: 0.2479 - val_loss: 0.5743 - val_custom_acc: 0.2282\n",
      "Epoch 62/400\n",
      " - 18s - loss: 0.4501 - custom_acc: 0.2475 - val_loss: 1.4307 - val_custom_acc: 0.4715\n",
      "Epoch 63/400\n",
      " - 18s - loss: 0.4785 - custom_acc: 0.2462 - val_loss: 0.3633 - val_custom_acc: 0.2570\n",
      "Epoch 64/400\n",
      " - 18s - loss: 0.4535 - custom_acc: 0.2481 - val_loss: 0.3674 - val_custom_acc: 0.2352\n",
      "Epoch 65/400\n",
      " - 18s - loss: 0.4676 - custom_acc: 0.2491 - val_loss: 0.4582 - val_custom_acc: 0.2604\n",
      "Epoch 66/400\n",
      " - 18s - loss: 0.4490 - custom_acc: 0.2532 - val_loss: 0.5453 - val_custom_acc: 0.3095\n",
      "Epoch 67/400\n",
      " - 18s - loss: 0.4567 - custom_acc: 0.2501 - val_loss: 0.4193 - val_custom_acc: 0.2787\n",
      "Epoch 68/400\n",
      " - 18s - loss: 0.4581 - custom_acc: 0.2468 - val_loss: 0.3901 - val_custom_acc: 0.2828\n",
      "Epoch 69/400\n",
      " - 18s - loss: 0.4441 - custom_acc: 0.2486 - val_loss: 0.4046 - val_custom_acc: 0.2610\n",
      "Epoch 70/400\n",
      " - 18s - loss: 0.4590 - custom_acc: 0.2464 - val_loss: 0.4374 - val_custom_acc: 0.2754\n",
      "Epoch 71/400\n",
      " - 18s - loss: 0.4497 - custom_acc: 0.2481 - val_loss: 0.8526 - val_custom_acc: 0.1690\n",
      "Epoch 72/400\n",
      " - 18s - loss: 0.4277 - custom_acc: 0.2443 - val_loss: 0.6560 - val_custom_acc: 0.3332\n",
      "Epoch 73/400\n",
      " - 18s - loss: 0.4342 - custom_acc: 0.2462 - val_loss: 0.3149 - val_custom_acc: 0.2699\n",
      "Epoch 74/400\n",
      " - 18s - loss: 0.3940 - custom_acc: 0.2496 - val_loss: 0.7586 - val_custom_acc: 0.1817\n",
      "Epoch 75/400\n",
      " - 18s - loss: 0.4219 - custom_acc: 0.2478 - val_loss: 0.3996 - val_custom_acc: 0.2258\n",
      "Epoch 76/400\n",
      " - 18s - loss: 0.4305 - custom_acc: 0.2477 - val_loss: 0.4338 - val_custom_acc: 0.2339\n",
      "Epoch 77/400\n",
      " - 18s - loss: 0.3968 - custom_acc: 0.2492 - val_loss: 0.6029 - val_custom_acc: 0.3397\n",
      "Epoch 78/400\n",
      " - 18s - loss: 0.3753 - custom_acc: 0.2513 - val_loss: 0.3317 - val_custom_acc: 0.2614\n",
      "Epoch 79/400\n",
      " - 18s - loss: 0.4208 - custom_acc: 0.2474 - val_loss: 0.3757 - val_custom_acc: 0.2589\n",
      "Epoch 80/400\n",
      " - 18s - loss: 0.3843 - custom_acc: 0.2500 - val_loss: 0.4659 - val_custom_acc: 0.3164\n",
      "Epoch 81/400\n",
      " - 18s - loss: 0.3955 - custom_acc: 0.2472 - val_loss: 0.3689 - val_custom_acc: 0.2872\n",
      "Epoch 82/400\n",
      " - 18s - loss: 0.3800 - custom_acc: 0.2457 - val_loss: 0.3106 - val_custom_acc: 0.2660\n"
     ]
    },
    {
     "name": "stdout",
     "output_type": "stream",
     "text": [
      "Epoch 83/400\n",
      " - 18s - loss: 0.3751 - custom_acc: 0.2477 - val_loss: 0.3431 - val_custom_acc: 0.2504\n",
      "Epoch 84/400\n",
      " - 18s - loss: 0.3810 - custom_acc: 0.2494 - val_loss: 0.3686 - val_custom_acc: 0.2616\n",
      "Epoch 85/400\n",
      " - 18s - loss: 0.3735 - custom_acc: 0.2507 - val_loss: 0.5657 - val_custom_acc: 0.3255\n",
      "Epoch 86/400\n",
      " - 18s - loss: 0.3721 - custom_acc: 0.2479 - val_loss: 0.4010 - val_custom_acc: 0.2418\n",
      "Epoch 87/400\n",
      " - 18s - loss: 0.3626 - custom_acc: 0.2486 - val_loss: 0.6967 - val_custom_acc: 0.3413\n",
      "Epoch 88/400\n",
      " - 18s - loss: 0.3544 - custom_acc: 0.2492 - val_loss: 0.3180 - val_custom_acc: 0.2985\n",
      "Epoch 89/400\n",
      " - 18s - loss: 0.3525 - custom_acc: 0.2470 - val_loss: 0.3459 - val_custom_acc: 0.2804\n",
      "Epoch 90/400\n",
      " - 18s - loss: 0.3579 - custom_acc: 0.2471 - val_loss: 0.3571 - val_custom_acc: 0.2276\n",
      "Epoch 91/400\n",
      " - 18s - loss: 0.3535 - custom_acc: 0.2497 - val_loss: 0.4590 - val_custom_acc: 0.3007\n",
      "Epoch 92/400\n",
      " - 18s - loss: 0.3265 - custom_acc: 0.2466 - val_loss: 0.3913 - val_custom_acc: 0.2221\n",
      "Epoch 93/400\n",
      " - 18s - loss: 0.3293 - custom_acc: 0.2499 - val_loss: 0.3348 - val_custom_acc: 0.2192\n",
      "Epoch 94/400\n",
      " - 18s - loss: 0.3236 - custom_acc: 0.2512 - val_loss: 0.9187 - val_custom_acc: 0.1584\n",
      "Epoch 95/400\n",
      " - 18s - loss: 0.3466 - custom_acc: 0.2492 - val_loss: 0.3313 - val_custom_acc: 0.2588\n",
      "Epoch 96/400\n",
      " - 18s - loss: 0.3341 - custom_acc: 0.2506 - val_loss: 0.3111 - val_custom_acc: 0.2763\n",
      "Epoch 97/400\n",
      " - 18s - loss: 0.3106 - custom_acc: 0.2496 - val_loss: 0.2653 - val_custom_acc: 0.2705\n",
      "Epoch 98/400\n",
      " - 18s - loss: 0.3313 - custom_acc: 0.2477 - val_loss: 0.4036 - val_custom_acc: 0.3167\n",
      "Epoch 99/400\n",
      " - 18s - loss: 0.3309 - custom_acc: 0.2473 - val_loss: 0.2994 - val_custom_acc: 0.2921\n",
      "Epoch 100/400\n",
      " - 18s - loss: 0.3234 - custom_acc: 0.2462 - val_loss: 0.2376 - val_custom_acc: 0.2508\n",
      "Epoch 101/400\n",
      " - 18s - loss: 0.3088 - custom_acc: 0.2511 - val_loss: 0.3037 - val_custom_acc: 0.2254\n",
      "Epoch 102/400\n",
      " - 18s - loss: 0.3066 - custom_acc: 0.2487 - val_loss: 0.2479 - val_custom_acc: 0.2544\n",
      "Epoch 103/400\n",
      " - 18s - loss: 0.3045 - custom_acc: 0.2491 - val_loss: 0.3455 - val_custom_acc: 0.2991\n",
      "Epoch 104/400\n",
      " - 18s - loss: 0.2890 - custom_acc: 0.2507 - val_loss: 0.2893 - val_custom_acc: 0.2532\n",
      "Epoch 105/400\n",
      " - 18s - loss: 0.2930 - custom_acc: 0.2456 - val_loss: 0.2826 - val_custom_acc: 0.2538\n",
      "Epoch 106/400\n",
      " - 18s - loss: 0.2812 - custom_acc: 0.2472 - val_loss: 0.4052 - val_custom_acc: 0.3209\n",
      "Epoch 107/400\n",
      " - 18s - loss: 0.2853 - custom_acc: 0.2475 - val_loss: 0.4440 - val_custom_acc: 0.3489\n",
      "Epoch 108/400\n",
      " - 18s - loss: 0.2792 - custom_acc: 0.2533 - val_loss: 0.3462 - val_custom_acc: 0.2277\n",
      "Epoch 109/400\n",
      " - 18s - loss: 0.2876 - custom_acc: 0.2514 - val_loss: 0.3156 - val_custom_acc: 0.2132\n",
      "Epoch 110/400\n",
      " - 18s - loss: 0.2783 - custom_acc: 0.2487 - val_loss: 0.2395 - val_custom_acc: 0.2586\n",
      "Epoch 111/400\n",
      " - 18s - loss: 0.2767 - custom_acc: 0.2462 - val_loss: 0.3594 - val_custom_acc: 0.2031\n",
      "Epoch 112/400\n",
      " - 18s - loss: 0.2902 - custom_acc: 0.2510 - val_loss: 0.2767 - val_custom_acc: 0.2625\n",
      "Epoch 113/400\n",
      " - 18s - loss: 0.2742 - custom_acc: 0.2460 - val_loss: 0.3271 - val_custom_acc: 0.2369\n",
      "Epoch 114/400\n",
      " - 18s - loss: 0.2712 - custom_acc: 0.2485 - val_loss: 0.5034 - val_custom_acc: 0.1651\n",
      "Epoch 115/400\n",
      " - 18s - loss: 0.2677 - custom_acc: 0.2469 - val_loss: 0.3647 - val_custom_acc: 0.3231\n",
      "Epoch 116/400\n",
      " - 18s - loss: 0.2608 - custom_acc: 0.2485 - val_loss: 0.3089 - val_custom_acc: 0.1984\n",
      "Epoch 117/400\n",
      " - 18s - loss: 0.2718 - custom_acc: 0.2463 - val_loss: 0.4047 - val_custom_acc: 0.3217\n",
      "Epoch 118/400\n",
      " - 18s - loss: 0.2545 - custom_acc: 0.2506 - val_loss: 0.2301 - val_custom_acc: 0.2902\n",
      "Epoch 119/400\n",
      " - 18s - loss: 0.2373 - custom_acc: 0.2491 - val_loss: 0.2510 - val_custom_acc: 0.2441\n",
      "Epoch 120/400\n",
      " - 18s - loss: 0.2495 - custom_acc: 0.2481 - val_loss: 0.2621 - val_custom_acc: 0.2200\n",
      "Epoch 121/400\n",
      " - 18s - loss: 0.2326 - custom_acc: 0.2497 - val_loss: 0.1858 - val_custom_acc: 0.2514\n",
      "Epoch 122/400\n",
      " - 18s - loss: 0.2398 - custom_acc: 0.2481 - val_loss: 0.2629 - val_custom_acc: 0.2610\n",
      "Epoch 123/400\n",
      " - 18s - loss: 0.2530 - custom_acc: 0.2485 - val_loss: 0.2622 - val_custom_acc: 0.2244\n",
      "Epoch 124/400\n",
      " - 18s - loss: 0.2499 - custom_acc: 0.2490 - val_loss: 0.3187 - val_custom_acc: 0.2369\n",
      "Epoch 125/400\n",
      " - 18s - loss: 0.2310 - custom_acc: 0.2492 - val_loss: 0.2421 - val_custom_acc: 0.2375\n",
      "Epoch 126/400\n",
      " - 18s - loss: 0.2358 - custom_acc: 0.2484 - val_loss: 0.5589 - val_custom_acc: 0.1726\n",
      "Epoch 127/400\n",
      " - 18s - loss: 0.2289 - custom_acc: 0.2468 - val_loss: 0.3147 - val_custom_acc: 0.2901\n",
      "Epoch 128/400\n",
      " - 18s - loss: 0.2205 - custom_acc: 0.2516 - val_loss: 0.2265 - val_custom_acc: 0.2494\n",
      "Epoch 129/400\n",
      " - 18s - loss: 0.2234 - custom_acc: 0.2508 - val_loss: 0.2732 - val_custom_acc: 0.2341\n",
      "Epoch 130/400\n",
      " - 18s - loss: 0.2184 - custom_acc: 0.2482 - val_loss: 0.2226 - val_custom_acc: 0.2897\n",
      "Epoch 131/400\n",
      " - 18s - loss: 0.2210 - custom_acc: 0.2491 - val_loss: 0.4456 - val_custom_acc: 0.3447\n",
      "Epoch 132/400\n",
      " - 18s - loss: 0.2152 - custom_acc: 0.2520 - val_loss: 0.2201 - val_custom_acc: 0.2768\n",
      "Epoch 133/400\n",
      " - 18s - loss: 0.2194 - custom_acc: 0.2485 - val_loss: 0.2013 - val_custom_acc: 0.2706\n",
      "Epoch 134/400\n",
      " - 18s - loss: 0.2271 - custom_acc: 0.2479 - val_loss: 0.2487 - val_custom_acc: 0.2262\n",
      "Epoch 135/400\n",
      " - 18s - loss: 0.2077 - custom_acc: 0.2482 - val_loss: 0.2472 - val_custom_acc: 0.3025\n",
      "Epoch 136/400\n",
      " - 18s - loss: 0.2155 - custom_acc: 0.2470 - val_loss: 0.2161 - val_custom_acc: 0.2295\n",
      "Epoch 137/400\n",
      " - 18s - loss: 0.2120 - custom_acc: 0.2497 - val_loss: 0.1945 - val_custom_acc: 0.2718\n",
      "Epoch 138/400\n",
      " - 18s - loss: 0.1974 - custom_acc: 0.2497 - val_loss: 0.4045 - val_custom_acc: 0.1807\n",
      "Epoch 139/400\n",
      " - 18s - loss: 0.2055 - custom_acc: 0.2496 - val_loss: 0.2309 - val_custom_acc: 0.2669\n",
      "Epoch 140/400\n",
      " - 18s - loss: 0.2030 - custom_acc: 0.2487 - val_loss: 0.2287 - val_custom_acc: 0.2719\n",
      "Epoch 141/400\n",
      " - 18s - loss: 0.1970 - custom_acc: 0.2495 - val_loss: 0.2620 - val_custom_acc: 0.3002\n",
      "Epoch 142/400\n",
      " - 18s - loss: 0.2041 - custom_acc: 0.2484 - val_loss: 0.2063 - val_custom_acc: 0.2656\n",
      "Epoch 143/400\n",
      " - 18s - loss: 0.1956 - custom_acc: 0.2471 - val_loss: 0.3205 - val_custom_acc: 0.1836\n",
      "Epoch 144/400\n",
      " - 18s - loss: 0.2056 - custom_acc: 0.2470 - val_loss: 0.2216 - val_custom_acc: 0.2935\n",
      "Epoch 145/400\n",
      " - 18s - loss: 0.1916 - custom_acc: 0.2479 - val_loss: 0.2045 - val_custom_acc: 0.2685\n",
      "Epoch 146/400\n",
      " - 18s - loss: 0.1963 - custom_acc: 0.2462 - val_loss: 0.1777 - val_custom_acc: 0.2514\n",
      "Epoch 147/400\n",
      " - 18s - loss: 0.1891 - custom_acc: 0.2492 - val_loss: 0.1764 - val_custom_acc: 0.2771\n",
      "Epoch 148/400\n",
      " - 18s - loss: 0.1859 - custom_acc: 0.2492 - val_loss: 0.2118 - val_custom_acc: 0.3037\n",
      "Epoch 149/400\n",
      " - 18s - loss: 0.1903 - custom_acc: 0.2483 - val_loss: 0.1800 - val_custom_acc: 0.2768\n",
      "Epoch 150/400\n",
      " - 18s - loss: 0.1882 - custom_acc: 0.2479 - val_loss: 0.2796 - val_custom_acc: 0.3335\n",
      "Epoch 151/400\n",
      " - 18s - loss: 0.1747 - custom_acc: 0.2497 - val_loss: 0.1810 - val_custom_acc: 0.2745\n",
      "Epoch 152/400\n",
      " - 18s - loss: 0.1735 - custom_acc: 0.2500 - val_loss: 0.2524 - val_custom_acc: 0.3042\n",
      "Epoch 153/400\n",
      " - 18s - loss: 0.1786 - custom_acc: 0.2494 - val_loss: 0.2730 - val_custom_acc: 0.3081\n",
      "Epoch 154/400\n",
      " - 18s - loss: 0.1760 - custom_acc: 0.2480 - val_loss: 0.1754 - val_custom_acc: 0.2450\n",
      "Epoch 155/400\n",
      " - 18s - loss: 0.1668 - custom_acc: 0.2479 - val_loss: 0.1725 - val_custom_acc: 0.2718\n",
      "Epoch 156/400\n",
      " - 18s - loss: 0.1637 - custom_acc: 0.2481 - val_loss: 0.3272 - val_custom_acc: 0.1880\n",
      "Epoch 157/400\n",
      " - 18s - loss: 0.1753 - custom_acc: 0.2468 - val_loss: 0.2523 - val_custom_acc: 0.2781\n",
      "Epoch 158/400\n",
      " - 18s - loss: 0.1642 - custom_acc: 0.2507 - val_loss: 0.2466 - val_custom_acc: 0.2986\n",
      "Epoch 159/400\n",
      " - 18s - loss: 0.1677 - custom_acc: 0.2492 - val_loss: 0.2163 - val_custom_acc: 0.2380\n",
      "Epoch 160/400\n",
      " - 18s - loss: 0.1765 - custom_acc: 0.2481 - val_loss: 0.1735 - val_custom_acc: 0.2498\n",
      "Epoch 161/400\n",
      " - 18s - loss: 0.1596 - custom_acc: 0.2504 - val_loss: 0.1690 - val_custom_acc: 0.2343\n",
      "Epoch 162/400\n",
      " - 18s - loss: 0.1718 - custom_acc: 0.2489 - val_loss: 0.2013 - val_custom_acc: 0.2821\n",
      "Epoch 163/400\n",
      " - 18s - loss: 0.1621 - custom_acc: 0.2486 - val_loss: 0.1774 - val_custom_acc: 0.2735\n",
      "Epoch 164/400\n",
      " - 18s - loss: 0.1630 - custom_acc: 0.2489 - val_loss: 0.2064 - val_custom_acc: 0.2821\n"
     ]
    },
    {
     "name": "stdout",
     "output_type": "stream",
     "text": [
      "Epoch 165/400\n",
      " - 18s - loss: 0.1626 - custom_acc: 0.2500 - val_loss: 0.2035 - val_custom_acc: 0.2969\n",
      "Epoch 166/400\n",
      " - 18s - loss: 0.1537 - custom_acc: 0.2499 - val_loss: 0.1977 - val_custom_acc: 0.2911\n",
      "Epoch 167/400\n",
      " - 18s - loss: 0.1573 - custom_acc: 0.2478 - val_loss: 0.1641 - val_custom_acc: 0.2579\n",
      "Epoch 168/400\n",
      " - 18s - loss: 0.1587 - custom_acc: 0.2471 - val_loss: 0.1728 - val_custom_acc: 0.2634\n",
      "Epoch 169/400\n",
      " - 18s - loss: 0.1566 - custom_acc: 0.2483 - val_loss: 0.1732 - val_custom_acc: 0.2416\n",
      "Epoch 170/400\n",
      " - 18s - loss: 0.1500 - custom_acc: 0.2488 - val_loss: 0.1833 - val_custom_acc: 0.2357\n",
      "Epoch 171/400\n",
      " - 18s - loss: 0.1487 - custom_acc: 0.2482 - val_loss: 0.2283 - val_custom_acc: 0.3049\n",
      "Epoch 172/400\n",
      " - 18s - loss: 0.1524 - custom_acc: 0.2480 - val_loss: 0.1660 - val_custom_acc: 0.2667\n",
      "Epoch 173/400\n",
      " - 18s - loss: 0.1488 - custom_acc: 0.2484 - val_loss: 0.1617 - val_custom_acc: 0.2370\n",
      "Epoch 174/400\n",
      " - 18s - loss: 0.1557 - custom_acc: 0.2477 - val_loss: 0.1726 - val_custom_acc: 0.2649\n",
      "Epoch 175/400\n",
      " - 18s - loss: 0.1442 - custom_acc: 0.2475 - val_loss: 0.1658 - val_custom_acc: 0.2621\n",
      "Epoch 176/400\n",
      " - 18s - loss: 0.1474 - custom_acc: 0.2474 - val_loss: 0.1860 - val_custom_acc: 0.2347\n",
      "Epoch 177/400\n",
      " - 18s - loss: 0.1505 - custom_acc: 0.2459 - val_loss: 0.2445 - val_custom_acc: 0.3170\n",
      "Epoch 178/400\n",
      " - 18s - loss: 0.1488 - custom_acc: 0.2492 - val_loss: 0.1671 - val_custom_acc: 0.2773\n",
      "Epoch 179/400\n",
      " - 18s - loss: 0.1503 - custom_acc: 0.2474 - val_loss: 0.1494 - val_custom_acc: 0.2486\n",
      "Epoch 180/400\n",
      " - 18s - loss: 0.1432 - custom_acc: 0.2491 - val_loss: 0.1512 - val_custom_acc: 0.2614\n",
      "Epoch 181/400\n",
      " - 18s - loss: 0.1423 - custom_acc: 0.2482 - val_loss: 0.1643 - val_custom_acc: 0.2701\n",
      "Epoch 182/400\n",
      " - 18s - loss: 0.1403 - custom_acc: 0.2485 - val_loss: 0.2125 - val_custom_acc: 0.2110\n",
      "Epoch 183/400\n",
      " - 18s - loss: 0.1442 - custom_acc: 0.2484 - val_loss: 0.1535 - val_custom_acc: 0.2557\n",
      "Epoch 184/400\n",
      " - 18s - loss: 0.1434 - custom_acc: 0.2476 - val_loss: 0.1800 - val_custom_acc: 0.2738\n",
      "Epoch 185/400\n",
      " - 18s - loss: 0.1406 - custom_acc: 0.2487 - val_loss: 0.1722 - val_custom_acc: 0.2692\n",
      "Epoch 186/400\n",
      " - 18s - loss: 0.1347 - custom_acc: 0.2494 - val_loss: 0.1426 - val_custom_acc: 0.2673\n",
      "Epoch 187/400\n",
      " - 18s - loss: 0.1373 - custom_acc: 0.2486 - val_loss: 0.1517 - val_custom_acc: 0.2426\n",
      "Epoch 188/400\n",
      " - 18s - loss: 0.1400 - custom_acc: 0.2481 - val_loss: 0.1532 - val_custom_acc: 0.2389\n",
      "Epoch 189/400\n",
      " - 18s - loss: 0.1378 - custom_acc: 0.2477 - val_loss: 0.1925 - val_custom_acc: 0.2245\n",
      "Epoch 190/400\n",
      " - 18s - loss: 0.1353 - custom_acc: 0.2476 - val_loss: 0.1630 - val_custom_acc: 0.2667\n",
      "Epoch 191/400\n",
      " - 18s - loss: 0.1367 - custom_acc: 0.2474 - val_loss: 0.1376 - val_custom_acc: 0.2594\n",
      "Epoch 192/400\n",
      " - 18s - loss: 0.1366 - custom_acc: 0.2476 - val_loss: 0.1782 - val_custom_acc: 0.2808\n",
      "Epoch 193/400\n",
      " - 18s - loss: 0.1350 - custom_acc: 0.2481 - val_loss: 0.1484 - val_custom_acc: 0.2733\n",
      "Epoch 194/400\n",
      " - 18s - loss: 0.1306 - custom_acc: 0.2482 - val_loss: 0.1660 - val_custom_acc: 0.2861\n",
      "Epoch 195/400\n",
      " - 18s - loss: 0.1325 - custom_acc: 0.2490 - val_loss: 0.1594 - val_custom_acc: 0.2406\n",
      "Epoch 196/400\n",
      " - 18s - loss: 0.1329 - custom_acc: 0.2481 - val_loss: 0.1505 - val_custom_acc: 0.2767\n",
      "Epoch 197/400\n",
      " - 18s - loss: 0.1306 - custom_acc: 0.2499 - val_loss: 0.1744 - val_custom_acc: 0.2331\n",
      "Epoch 198/400\n",
      " - 18s - loss: 0.1255 - custom_acc: 0.2471 - val_loss: 0.1397 - val_custom_acc: 0.2514\n",
      "Epoch 199/400\n",
      " - 18s - loss: 0.1339 - custom_acc: 0.2460 - val_loss: 0.2697 - val_custom_acc: 0.1948\n",
      "Epoch 200/400\n",
      " - 18s - loss: 0.1289 - custom_acc: 0.2490 - val_loss: 0.1511 - val_custom_acc: 0.2399\n",
      "Epoch 201/400\n",
      " - 18s - loss: 0.1223 - custom_acc: 0.2487 - val_loss: 0.1430 - val_custom_acc: 0.2612\n",
      "Epoch 202/400\n",
      " - 18s - loss: 0.1253 - custom_acc: 0.2472 - val_loss: 0.1568 - val_custom_acc: 0.2852\n",
      "Epoch 203/400\n",
      " - 18s - loss: 0.1330 - custom_acc: 0.2465 - val_loss: 0.3347 - val_custom_acc: 0.3574\n",
      "Epoch 204/400\n",
      " - 18s - loss: 0.1278 - custom_acc: 0.2482 - val_loss: 0.1361 - val_custom_acc: 0.2619\n",
      "Epoch 205/400\n",
      " - 18s - loss: 0.1259 - custom_acc: 0.2479 - val_loss: 0.1971 - val_custom_acc: 0.2016\n",
      "Epoch 206/400\n",
      " - 18s - loss: 0.1206 - custom_acc: 0.2493 - val_loss: 0.1409 - val_custom_acc: 0.2752\n",
      "Epoch 207/400\n",
      " - 18s - loss: 0.1284 - custom_acc: 0.2479 - val_loss: 0.1581 - val_custom_acc: 0.2754\n",
      "Epoch 208/400\n",
      " - 18s - loss: 0.1213 - custom_acc: 0.2480 - val_loss: 0.1650 - val_custom_acc: 0.2340\n",
      "Epoch 209/400\n",
      " - 18s - loss: 0.1203 - custom_acc: 0.2474 - val_loss: 0.1536 - val_custom_acc: 0.2387\n",
      "Epoch 210/400\n",
      " - 18s - loss: 0.1234 - custom_acc: 0.2469 - val_loss: 0.1661 - val_custom_acc: 0.2534\n",
      "Epoch 211/400\n",
      " - 18s - loss: 0.1235 - custom_acc: 0.2481 - val_loss: 0.1397 - val_custom_acc: 0.2537\n",
      "Epoch 212/400\n",
      " - 18s - loss: 0.1231 - custom_acc: 0.2482 - val_loss: 0.1799 - val_custom_acc: 0.2580\n",
      "Epoch 213/400\n",
      " - 18s - loss: 0.1184 - custom_acc: 0.2485 - val_loss: 0.1506 - val_custom_acc: 0.2644\n",
      "Epoch 214/400\n",
      " - 18s - loss: 0.1168 - custom_acc: 0.2481 - val_loss: 0.1432 - val_custom_acc: 0.2788\n",
      "Epoch 215/400\n",
      " - 18s - loss: 0.1274 - custom_acc: 0.2478 - val_loss: 0.1445 - val_custom_acc: 0.2562\n",
      "Epoch 216/400\n",
      " - 18s - loss: 0.1204 - custom_acc: 0.2472 - val_loss: 0.1460 - val_custom_acc: 0.2734\n",
      "Epoch 217/400\n",
      " - 18s - loss: 0.1189 - custom_acc: 0.2479 - val_loss: 0.1335 - val_custom_acc: 0.2613\n",
      "Epoch 218/400\n",
      " - 18s - loss: 0.1153 - custom_acc: 0.2478 - val_loss: 0.1514 - val_custom_acc: 0.2726\n",
      "Epoch 219/400\n",
      " - 18s - loss: 0.1185 - custom_acc: 0.2465 - val_loss: 0.1348 - val_custom_acc: 0.2645\n",
      "Epoch 220/400\n",
      " - 18s - loss: 0.1154 - custom_acc: 0.2480 - val_loss: 0.1449 - val_custom_acc: 0.2468\n",
      "Epoch 221/400\n",
      " - 18s - loss: 0.1162 - custom_acc: 0.2484 - val_loss: 0.1396 - val_custom_acc: 0.2698\n",
      "Epoch 222/400\n",
      " - 18s - loss: 0.1198 - custom_acc: 0.2478 - val_loss: 0.1532 - val_custom_acc: 0.2637\n",
      "Epoch 223/400\n",
      " - 18s - loss: 0.1156 - custom_acc: 0.2484 - val_loss: 0.1523 - val_custom_acc: 0.2730\n",
      "Epoch 224/400\n",
      " - 18s - loss: 0.1184 - custom_acc: 0.2481 - val_loss: 0.1519 - val_custom_acc: 0.2546\n",
      "Epoch 225/400\n",
      " - 18s - loss: 0.1186 - custom_acc: 0.2469 - val_loss: 0.1561 - val_custom_acc: 0.2324\n",
      "Epoch 226/400\n",
      " - 18s - loss: 0.1132 - custom_acc: 0.2471 - val_loss: 0.1486 - val_custom_acc: 0.2463\n",
      "Epoch 227/400\n",
      " - 18s - loss: 0.1169 - custom_acc: 0.2469 - val_loss: 0.1420 - val_custom_acc: 0.2642\n",
      "Epoch 228/400\n",
      " - 18s - loss: 0.1122 - custom_acc: 0.2491 - val_loss: 0.1552 - val_custom_acc: 0.2527\n",
      "Epoch 229/400\n",
      " - 18s - loss: 0.1154 - custom_acc: 0.2478 - val_loss: 0.1596 - val_custom_acc: 0.2738\n",
      "Epoch 230/400\n",
      " - 18s - loss: 0.1133 - custom_acc: 0.2477 - val_loss: 0.1306 - val_custom_acc: 0.2481\n",
      "Epoch 231/400\n",
      " - 18s - loss: 0.1140 - custom_acc: 0.2474 - val_loss: 0.1602 - val_custom_acc: 0.2780\n",
      "Epoch 232/400\n",
      " - 18s - loss: 0.1133 - custom_acc: 0.2476 - val_loss: 0.1549 - val_custom_acc: 0.2749\n",
      "Epoch 233/400\n",
      " - 18s - loss: 0.1086 - custom_acc: 0.2482 - val_loss: 0.1493 - val_custom_acc: 0.2330\n",
      "Epoch 234/400\n",
      " - 18s - loss: 0.1100 - custom_acc: 0.2476 - val_loss: 0.1428 - val_custom_acc: 0.2493\n",
      "Epoch 235/400\n",
      " - 18s - loss: 0.1091 - custom_acc: 0.2482 - val_loss: 0.1410 - val_custom_acc: 0.2559\n",
      "Epoch 236/400\n",
      " - 18s - loss: 0.1147 - custom_acc: 0.2476 - val_loss: 0.1353 - val_custom_acc: 0.2554\n",
      "Epoch 237/400\n",
      " - 18s - loss: 0.1095 - custom_acc: 0.2475 - val_loss: 0.1399 - val_custom_acc: 0.2687\n",
      "Epoch 238/400\n",
      " - 19s - loss: 0.1098 - custom_acc: 0.2478 - val_loss: 0.1371 - val_custom_acc: 0.2509\n",
      "Epoch 239/400\n",
      " - 18s - loss: 0.1128 - custom_acc: 0.2476 - val_loss: 0.1398 - val_custom_acc: 0.2665\n",
      "Epoch 240/400\n",
      " - 18s - loss: 0.1164 - custom_acc: 0.2465 - val_loss: 0.1366 - val_custom_acc: 0.2619\n",
      "Epoch 241/400\n",
      " - 18s - loss: 0.1092 - custom_acc: 0.2478 - val_loss: 0.1425 - val_custom_acc: 0.2707\n",
      "Epoch 242/400\n",
      " - 18s - loss: 0.1082 - custom_acc: 0.2481 - val_loss: 0.1293 - val_custom_acc: 0.2649\n",
      "Epoch 243/400\n",
      " - 18s - loss: 0.1088 - custom_acc: 0.2474 - val_loss: 0.1272 - val_custom_acc: 0.2566\n",
      "Epoch 244/400\n",
      " - 18s - loss: 0.1074 - custom_acc: 0.2480 - val_loss: 0.1842 - val_custom_acc: 0.2242\n",
      "Epoch 245/400\n",
      " - 18s - loss: 0.1093 - custom_acc: 0.2479 - val_loss: 0.1347 - val_custom_acc: 0.2723\n",
      "Epoch 246/400\n"
     ]
    },
    {
     "name": "stdout",
     "output_type": "stream",
     "text": [
      " - 18s - loss: 0.1110 - custom_acc: 0.2474 - val_loss: 0.1370 - val_custom_acc: 0.2683\n",
      "Epoch 247/400\n",
      " - 18s - loss: 0.1122 - custom_acc: 0.2467 - val_loss: 0.1285 - val_custom_acc: 0.2583\n",
      "Epoch 248/400\n",
      " - 18s - loss: 0.1096 - custom_acc: 0.2477 - val_loss: 0.1446 - val_custom_acc: 0.2558\n",
      "Epoch 249/400\n",
      " - 18s - loss: 0.1086 - custom_acc: 0.2476 - val_loss: 0.1403 - val_custom_acc: 0.2520\n",
      "Epoch 250/400\n",
      " - 18s - loss: 0.1098 - custom_acc: 0.2474 - val_loss: 0.2006 - val_custom_acc: 0.2963\n",
      "Epoch 251/400\n",
      " - 18s - loss: 0.1057 - custom_acc: 0.2475 - val_loss: 0.1358 - val_custom_acc: 0.2578\n",
      "Epoch 252/400\n",
      " - 18s - loss: 0.1084 - custom_acc: 0.2483 - val_loss: 0.1721 - val_custom_acc: 0.2360\n",
      "Epoch 253/400\n",
      " - 18s - loss: 0.1112 - custom_acc: 0.2468 - val_loss: 0.1283 - val_custom_acc: 0.2510\n",
      "Epoch 254/400\n",
      " - 18s - loss: 0.1090 - custom_acc: 0.2472 - val_loss: 0.1336 - val_custom_acc: 0.2633\n",
      "Epoch 255/400\n",
      " - 18s - loss: 0.1113 - custom_acc: 0.2474 - val_loss: 0.1345 - val_custom_acc: 0.2649\n",
      "Epoch 256/400\n",
      " - 18s - loss: 0.1097 - custom_acc: 0.2475 - val_loss: 0.1377 - val_custom_acc: 0.2387\n",
      "Epoch 257/400\n",
      " - 18s - loss: 0.1044 - custom_acc: 0.2473 - val_loss: 0.1433 - val_custom_acc: 0.2727\n",
      "Epoch 258/400\n",
      " - 18s - loss: 0.1057 - custom_acc: 0.2487 - val_loss: 0.1308 - val_custom_acc: 0.2482\n",
      "Epoch 259/400\n",
      " - 18s - loss: 0.1039 - custom_acc: 0.2481 - val_loss: 0.1558 - val_custom_acc: 0.2643\n",
      "Epoch 260/400\n",
      " - 18s - loss: 0.1069 - custom_acc: 0.2479 - val_loss: 0.1423 - val_custom_acc: 0.2555\n",
      "Epoch 261/400\n",
      " - 18s - loss: 0.1074 - custom_acc: 0.2474 - val_loss: 0.1257 - val_custom_acc: 0.2576\n",
      "Epoch 262/400\n",
      " - 18s - loss: 0.1065 - custom_acc: 0.2467 - val_loss: 0.1279 - val_custom_acc: 0.2602\n",
      "Epoch 263/400\n",
      " - 18s - loss: 0.1074 - custom_acc: 0.2470 - val_loss: 0.1596 - val_custom_acc: 0.2733\n",
      "Epoch 264/400\n",
      " - 18s - loss: 0.1069 - custom_acc: 0.2477 - val_loss: 0.1681 - val_custom_acc: 0.2293\n",
      "Epoch 265/400\n",
      " - 18s - loss: 0.1059 - custom_acc: 0.2476 - val_loss: 0.1314 - val_custom_acc: 0.2685\n",
      "Epoch 266/400\n",
      " - 18s - loss: 0.1078 - custom_acc: 0.2477 - val_loss: 0.1727 - val_custom_acc: 0.2766\n",
      "Epoch 267/400\n",
      " - 18s - loss: 0.1062 - custom_acc: 0.2470 - val_loss: 0.1440 - val_custom_acc: 0.2725\n",
      "Epoch 268/400\n",
      " - 18s - loss: 0.1075 - custom_acc: 0.2475 - val_loss: 0.1386 - val_custom_acc: 0.2656\n",
      "Epoch 269/400\n",
      " - 18s - loss: 0.1045 - custom_acc: 0.2473 - val_loss: 0.1397 - val_custom_acc: 0.2494\n",
      "Epoch 270/400\n",
      " - 18s - loss: 0.1036 - custom_acc: 0.2478 - val_loss: 0.1231 - val_custom_acc: 0.2588\n",
      "Epoch 271/400\n",
      " - 18s - loss: 0.1048 - custom_acc: 0.2477 - val_loss: 0.1194 - val_custom_acc: 0.2667\n",
      "Epoch 272/400\n",
      " - 18s - loss: 0.1061 - custom_acc: 0.2475 - val_loss: 0.1229 - val_custom_acc: 0.2645\n",
      "Epoch 273/400\n",
      " - 18s - loss: 0.1051 - custom_acc: 0.2475 - val_loss: 0.1654 - val_custom_acc: 0.2493\n",
      "Epoch 274/400\n",
      " - 18s - loss: 0.1038 - custom_acc: 0.2482 - val_loss: 0.1277 - val_custom_acc: 0.2560\n",
      "Epoch 275/400\n",
      " - 18s - loss: 0.1033 - custom_acc: 0.2476 - val_loss: 0.1396 - val_custom_acc: 0.2603\n",
      "Epoch 276/400\n",
      " - 18s - loss: 0.1012 - custom_acc: 0.2480 - val_loss: 0.1266 - val_custom_acc: 0.2596\n",
      "Epoch 277/400\n",
      " - 18s - loss: 0.1030 - custom_acc: 0.2473 - val_loss: 0.1376 - val_custom_acc: 0.2559\n",
      "Epoch 278/400\n",
      " - 18s - loss: 0.1006 - custom_acc: 0.2480 - val_loss: 0.1413 - val_custom_acc: 0.2596\n",
      "Epoch 279/400\n",
      " - 18s - loss: 0.1055 - custom_acc: 0.2476 - val_loss: 0.1477 - val_custom_acc: 0.2837\n",
      "Epoch 280/400\n",
      " - 18s - loss: 0.1013 - custom_acc: 0.2479 - val_loss: 0.1428 - val_custom_acc: 0.2619\n",
      "Epoch 281/400\n",
      " - 18s - loss: 0.1051 - custom_acc: 0.2472 - val_loss: 0.1308 - val_custom_acc: 0.2697\n",
      "Epoch 282/400\n",
      " - 18s - loss: 0.1030 - custom_acc: 0.2481 - val_loss: 0.1286 - val_custom_acc: 0.2667\n",
      "Epoch 283/400\n",
      " - 18s - loss: 0.1025 - custom_acc: 0.2483 - val_loss: 0.1799 - val_custom_acc: 0.2581\n",
      "Epoch 284/400\n",
      " - 18s - loss: 0.1038 - custom_acc: 0.2464 - val_loss: 0.1376 - val_custom_acc: 0.2410\n",
      "Epoch 285/400\n",
      " - 18s - loss: 0.1028 - custom_acc: 0.2483 - val_loss: 0.1320 - val_custom_acc: 0.2460\n",
      "Epoch 286/400\n",
      " - 18s - loss: 0.1005 - custom_acc: 0.2481 - val_loss: 0.1494 - val_custom_acc: 0.2580\n",
      "Epoch 287/400\n",
      " - 18s - loss: 0.0997 - custom_acc: 0.2474 - val_loss: 0.1265 - val_custom_acc: 0.2557\n",
      "Epoch 288/400\n",
      " - 18s - loss: 0.1015 - custom_acc: 0.2480 - val_loss: 0.1341 - val_custom_acc: 0.2833\n",
      "Epoch 289/400\n",
      " - 18s - loss: 0.0997 - custom_acc: 0.2481 - val_loss: 0.1333 - val_custom_acc: 0.2552\n",
      "Epoch 290/400\n",
      " - 18s - loss: 0.1041 - custom_acc: 0.2471 - val_loss: 0.1449 - val_custom_acc: 0.2526\n",
      "Epoch 291/400\n",
      " - 18s - loss: 0.1059 - custom_acc: 0.2469 - val_loss: 0.1326 - val_custom_acc: 0.2662\n",
      "Epoch 292/400\n",
      " - 18s - loss: 0.1017 - custom_acc: 0.2475 - val_loss: 0.1350 - val_custom_acc: 0.2691\n",
      "Epoch 293/400\n",
      " - 18s - loss: 0.0993 - custom_acc: 0.2476 - val_loss: 0.1387 - val_custom_acc: 0.2681\n",
      "Epoch 294/400\n",
      " - 18s - loss: 0.1017 - custom_acc: 0.2476 - val_loss: 0.1422 - val_custom_acc: 0.2623\n",
      "Epoch 295/400\n",
      " - 18s - loss: 0.1018 - custom_acc: 0.2476 - val_loss: 0.1459 - val_custom_acc: 0.2765\n",
      "Epoch 296/400\n",
      " - 18s - loss: 0.0997 - custom_acc: 0.2476 - val_loss: 0.1281 - val_custom_acc: 0.2573\n",
      "Epoch 297/400\n",
      " - 18s - loss: 0.0988 - custom_acc: 0.2481 - val_loss: 0.1337 - val_custom_acc: 0.2446\n",
      "Epoch 298/400\n",
      " - 18s - loss: 0.0980 - custom_acc: 0.2473 - val_loss: 0.1269 - val_custom_acc: 0.2536\n",
      "Epoch 299/400\n",
      " - 18s - loss: 0.0985 - custom_acc: 0.2484 - val_loss: 0.1367 - val_custom_acc: 0.2565\n",
      "Epoch 300/400\n",
      " - 18s - loss: 0.1017 - custom_acc: 0.2475 - val_loss: 0.1663 - val_custom_acc: 0.2850\n",
      "Epoch 301/400\n",
      " - 18s - loss: 0.1000 - custom_acc: 0.2480 - val_loss: 0.1323 - val_custom_acc: 0.2625\n",
      "Epoch 302/400\n",
      " - 18s - loss: 0.0969 - custom_acc: 0.2484 - val_loss: 0.1502 - val_custom_acc: 0.2676\n",
      "Epoch 303/400\n",
      " - 18s - loss: 0.1016 - custom_acc: 0.2476 - val_loss: 0.1851 - val_custom_acc: 0.2986\n",
      "Epoch 304/400\n",
      " - 18s - loss: 0.0947 - custom_acc: 0.2482 - val_loss: 0.1287 - val_custom_acc: 0.2429\n",
      "Epoch 305/400\n",
      " - 18s - loss: 0.0956 - custom_acc: 0.2478 - val_loss: 0.1486 - val_custom_acc: 0.2505\n",
      "Epoch 306/400\n",
      " - 18s - loss: 0.0990 - custom_acc: 0.2476 - val_loss: 0.1371 - val_custom_acc: 0.2550\n",
      "Epoch 307/400\n",
      " - 18s - loss: 0.0949 - custom_acc: 0.2479 - val_loss: 0.1258 - val_custom_acc: 0.2555\n",
      "Epoch 308/400\n",
      " - 18s - loss: 0.0980 - custom_acc: 0.2477 - val_loss: 0.1205 - val_custom_acc: 0.2628\n",
      "Epoch 309/400\n",
      " - 18s - loss: 0.0989 - custom_acc: 0.2476 - val_loss: 0.1202 - val_custom_acc: 0.2462\n",
      "Epoch 310/400\n",
      " - 18s - loss: 0.0983 - custom_acc: 0.2475 - val_loss: 0.1338 - val_custom_acc: 0.2689\n",
      "Epoch 311/400\n",
      " - 18s - loss: 0.1010 - custom_acc: 0.2472 - val_loss: 0.1368 - val_custom_acc: 0.2588\n",
      "Epoch 312/400\n",
      " - 18s - loss: 0.0986 - custom_acc: 0.2481 - val_loss: 0.1370 - val_custom_acc: 0.2502\n",
      "Epoch 313/400\n",
      " - 18s - loss: 0.0964 - custom_acc: 0.2482 - val_loss: 0.1298 - val_custom_acc: 0.2752\n",
      "Epoch 314/400\n",
      " - 18s - loss: 0.0937 - custom_acc: 0.2482 - val_loss: 0.1545 - val_custom_acc: 0.2391\n",
      "Epoch 315/400\n",
      " - 18s - loss: 0.0997 - custom_acc: 0.2470 - val_loss: 0.1283 - val_custom_acc: 0.2694\n",
      "Epoch 316/400\n",
      " - 18s - loss: 0.0972 - custom_acc: 0.2486 - val_loss: 0.1254 - val_custom_acc: 0.2584\n",
      "Epoch 317/400\n",
      " - 18s - loss: 0.0963 - custom_acc: 0.2477 - val_loss: 0.1246 - val_custom_acc: 0.2582\n",
      "Epoch 318/400\n",
      " - 18s - loss: 0.0973 - custom_acc: 0.2480 - val_loss: 0.1313 - val_custom_acc: 0.2558\n",
      "Epoch 319/400\n",
      " - 18s - loss: 0.0977 - custom_acc: 0.2474 - val_loss: 0.1382 - val_custom_acc: 0.2740\n",
      "Epoch 320/400\n",
      " - 18s - loss: 0.0944 - custom_acc: 0.2483 - val_loss: 0.1277 - val_custom_acc: 0.2591\n",
      "Epoch 321/400\n",
      " - 18s - loss: 0.1017 - custom_acc: 0.2471 - val_loss: 0.1294 - val_custom_acc: 0.2457\n",
      "Epoch 322/400\n",
      " - 18s - loss: 0.0966 - custom_acc: 0.2476 - val_loss: 0.1259 - val_custom_acc: 0.2647\n",
      "Epoch 323/400\n",
      " - 18s - loss: 0.0961 - custom_acc: 0.2484 - val_loss: 0.1393 - val_custom_acc: 0.2558\n",
      "Epoch 324/400\n",
      " - 18s - loss: 0.0997 - custom_acc: 0.2474 - val_loss: 0.1457 - val_custom_acc: 0.2487\n",
      "Epoch 325/400\n",
      " - 18s - loss: 0.0980 - custom_acc: 0.2474 - val_loss: 0.1377 - val_custom_acc: 0.2478\n",
      "Epoch 326/400\n",
      " - 18s - loss: 0.0952 - custom_acc: 0.2478 - val_loss: 0.1652 - val_custom_acc: 0.2333\n",
      "Epoch 327/400\n",
      " - 18s - loss: 0.0974 - custom_acc: 0.2475 - val_loss: 0.1278 - val_custom_acc: 0.2573\n"
     ]
    },
    {
     "name": "stdout",
     "output_type": "stream",
     "text": [
      "Epoch 328/400\n",
      " - 18s - loss: 0.0975 - custom_acc: 0.2475 - val_loss: 0.1314 - val_custom_acc: 0.2668\n",
      "Epoch 329/400\n",
      " - 18s - loss: 0.0955 - custom_acc: 0.2477 - val_loss: 0.1307 - val_custom_acc: 0.2755\n",
      "Epoch 330/400\n",
      " - 18s - loss: 0.0971 - custom_acc: 0.2478 - val_loss: 0.1488 - val_custom_acc: 0.2679\n",
      "Epoch 331/400\n",
      " - 18s - loss: 0.0959 - custom_acc: 0.2479 - val_loss: 0.1375 - val_custom_acc: 0.2432\n",
      "Epoch 332/400\n",
      " - 18s - loss: 0.0971 - custom_acc: 0.2476 - val_loss: 0.1363 - val_custom_acc: 0.2423\n",
      "Epoch 333/400\n",
      " - 18s - loss: 0.0965 - custom_acc: 0.2470 - val_loss: 0.1191 - val_custom_acc: 0.2640\n",
      "Epoch 334/400\n",
      " - 18s - loss: 0.0961 - custom_acc: 0.2487 - val_loss: 0.1370 - val_custom_acc: 0.2524\n",
      "Epoch 335/400\n",
      " - 18s - loss: 0.0952 - custom_acc: 0.2478 - val_loss: 0.1180 - val_custom_acc: 0.2530\n",
      "Epoch 336/400\n",
      " - 18s - loss: 0.0953 - custom_acc: 0.2471 - val_loss: 0.1257 - val_custom_acc: 0.2487\n",
      "Epoch 337/400\n",
      " - 18s - loss: 0.0949 - custom_acc: 0.2478 - val_loss: 0.1450 - val_custom_acc: 0.2607\n",
      "Epoch 338/400\n",
      " - 18s - loss: 0.0933 - custom_acc: 0.2478 - val_loss: 0.1312 - val_custom_acc: 0.2651\n",
      "Epoch 339/400\n",
      " - 18s - loss: 0.0924 - custom_acc: 0.2480 - val_loss: 0.1403 - val_custom_acc: 0.2607\n",
      "Epoch 340/400\n",
      " - 18s - loss: 0.0953 - custom_acc: 0.2478 - val_loss: 0.1212 - val_custom_acc: 0.2600\n",
      "Epoch 341/400\n",
      " - 18s - loss: 0.0952 - custom_acc: 0.2480 - val_loss: 0.1427 - val_custom_acc: 0.2338\n",
      "Epoch 342/400\n",
      " - 18s - loss: 0.0996 - custom_acc: 0.2464 - val_loss: 0.1419 - val_custom_acc: 0.2656\n",
      "Epoch 343/400\n",
      " - 18s - loss: 0.0971 - custom_acc: 0.2473 - val_loss: 0.1256 - val_custom_acc: 0.2580\n",
      "Epoch 344/400\n",
      " - 18s - loss: 0.0946 - custom_acc: 0.2473 - val_loss: 0.1281 - val_custom_acc: 0.2705\n",
      "Epoch 345/400\n",
      " - 18s - loss: 0.0947 - custom_acc: 0.2479 - val_loss: 0.1275 - val_custom_acc: 0.2571\n",
      "Epoch 346/400\n",
      " - 18s - loss: 0.0956 - custom_acc: 0.2479 - val_loss: 0.1280 - val_custom_acc: 0.2457\n",
      "Epoch 347/400\n",
      " - 18s - loss: 0.0940 - custom_acc: 0.2471 - val_loss: 0.1372 - val_custom_acc: 0.2573\n",
      "Epoch 348/400\n",
      " - 18s - loss: 0.0929 - custom_acc: 0.2478 - val_loss: 0.1294 - val_custom_acc: 0.2453\n",
      "Epoch 349/400\n",
      " - 18s - loss: 0.0957 - custom_acc: 0.2467 - val_loss: 0.1320 - val_custom_acc: 0.2571\n",
      "Epoch 350/400\n",
      " - 18s - loss: 0.0911 - custom_acc: 0.2476 - val_loss: 0.1236 - val_custom_acc: 0.2656\n",
      "Epoch 351/400\n",
      " - 18s - loss: 0.0915 - custom_acc: 0.2480 - val_loss: 0.1231 - val_custom_acc: 0.2623\n",
      "Epoch 352/400\n",
      " - 18s - loss: 0.0944 - custom_acc: 0.2480 - val_loss: 0.1290 - val_custom_acc: 0.2711\n",
      "Epoch 353/400\n",
      " - 18s - loss: 0.0932 - custom_acc: 0.2477 - val_loss: 0.1281 - val_custom_acc: 0.2474\n",
      "Epoch 354/400\n",
      " - 18s - loss: 0.0944 - custom_acc: 0.2474 - val_loss: 0.1408 - val_custom_acc: 0.2784\n",
      "Epoch 355/400\n",
      " - 18s - loss: 0.0938 - custom_acc: 0.2477 - val_loss: 0.1256 - val_custom_acc: 0.2565\n",
      "Epoch 356/400\n",
      " - 18s - loss: 0.0922 - custom_acc: 0.2479 - val_loss: 0.1381 - val_custom_acc: 0.2751\n",
      "Epoch 357/400\n",
      " - 18s - loss: 0.0921 - custom_acc: 0.2485 - val_loss: 0.1651 - val_custom_acc: 0.2629\n",
      "Epoch 358/400\n",
      " - 18s - loss: 0.0946 - custom_acc: 0.2473 - val_loss: 0.1256 - val_custom_acc: 0.2611\n",
      "Epoch 359/400\n",
      " - 18s - loss: 0.0921 - custom_acc: 0.2479 - val_loss: 0.1317 - val_custom_acc: 0.2684\n",
      "Epoch 360/400\n",
      " - 18s - loss: 0.0903 - custom_acc: 0.2480 - val_loss: 0.1405 - val_custom_acc: 0.2789\n",
      "Epoch 361/400\n",
      " - 18s - loss: 0.0935 - custom_acc: 0.2480 - val_loss: 0.1250 - val_custom_acc: 0.2687\n",
      "Epoch 362/400\n",
      " - 18s - loss: 0.0942 - custom_acc: 0.2473 - val_loss: 0.1339 - val_custom_acc: 0.2472\n",
      "Epoch 363/400\n",
      " - 18s - loss: 0.0929 - custom_acc: 0.2475 - val_loss: 0.1512 - val_custom_acc: 0.2553\n",
      "Epoch 364/400\n",
      " - 18s - loss: 0.0935 - custom_acc: 0.2479 - val_loss: 0.1445 - val_custom_acc: 0.2764\n",
      "Epoch 365/400\n",
      " - 18s - loss: 0.0922 - custom_acc: 0.2475 - val_loss: 0.1337 - val_custom_acc: 0.2650\n",
      "Epoch 366/400\n",
      " - 18s - loss: 0.0937 - custom_acc: 0.2475 - val_loss: 0.1237 - val_custom_acc: 0.2549\n",
      "Epoch 367/400\n",
      " - 18s - loss: 0.0958 - custom_acc: 0.2463 - val_loss: 0.1291 - val_custom_acc: 0.2509\n",
      "Epoch 368/400\n",
      " - 18s - loss: 0.0916 - custom_acc: 0.2479 - val_loss: 0.1287 - val_custom_acc: 0.2535\n",
      "Epoch 369/400\n",
      " - 18s - loss: 0.0938 - custom_acc: 0.2473 - val_loss: 0.1242 - val_custom_acc: 0.2603\n",
      "Epoch 370/400\n",
      " - 18s - loss: 0.0922 - custom_acc: 0.2479 - val_loss: 0.1461 - val_custom_acc: 0.2501\n",
      "Epoch 371/400\n",
      " - 18s - loss: 0.0929 - custom_acc: 0.2477 - val_loss: 0.1294 - val_custom_acc: 0.2632\n",
      "Epoch 372/400\n",
      " - 18s - loss: 0.0886 - custom_acc: 0.2489 - val_loss: 0.1411 - val_custom_acc: 0.2653\n",
      "Epoch 373/400\n",
      " - 18s - loss: 0.0932 - custom_acc: 0.2479 - val_loss: 0.1279 - val_custom_acc: 0.2482\n",
      "Epoch 374/400\n",
      " - 18s - loss: 0.0925 - custom_acc: 0.2473 - val_loss: 0.1332 - val_custom_acc: 0.2487\n",
      "Epoch 375/400\n",
      " - 18s - loss: 0.0911 - custom_acc: 0.2476 - val_loss: 0.1391 - val_custom_acc: 0.2445\n",
      "Epoch 376/400\n",
      " - 18s - loss: 0.0886 - custom_acc: 0.2478 - val_loss: 0.1740 - val_custom_acc: 0.2847\n",
      "Epoch 377/400\n",
      " - 18s - loss: 0.0936 - custom_acc: 0.2479 - val_loss: 0.1369 - val_custom_acc: 0.2531\n",
      "Epoch 378/400\n",
      " - 18s - loss: 0.0901 - custom_acc: 0.2477 - val_loss: 0.1441 - val_custom_acc: 0.2601\n",
      "Epoch 379/400\n",
      " - 18s - loss: 0.0942 - custom_acc: 0.2474 - val_loss: 0.1351 - val_custom_acc: 0.2623\n",
      "Epoch 380/400\n",
      " - 18s - loss: 0.0926 - custom_acc: 0.2474 - val_loss: 0.1242 - val_custom_acc: 0.2548\n",
      "Epoch 381/400\n",
      " - 18s - loss: 0.0922 - custom_acc: 0.2473 - val_loss: 0.1349 - val_custom_acc: 0.2639\n",
      "Epoch 382/400\n",
      " - 18s - loss: 0.0916 - custom_acc: 0.2475 - val_loss: 0.1175 - val_custom_acc: 0.2596\n",
      "Epoch 383/400\n",
      " - 18s - loss: 0.0914 - custom_acc: 0.2478 - val_loss: 0.1521 - val_custom_acc: 0.2424\n",
      "Epoch 384/400\n",
      " - 18s - loss: 0.0915 - custom_acc: 0.2472 - val_loss: 0.1160 - val_custom_acc: 0.2571\n",
      "Epoch 385/400\n",
      " - 18s - loss: 0.0926 - custom_acc: 0.2476 - val_loss: 0.1235 - val_custom_acc: 0.2407\n",
      "Epoch 386/400\n",
      " - 18s - loss: 0.0940 - custom_acc: 0.2469 - val_loss: 0.1285 - val_custom_acc: 0.2600\n",
      "Epoch 387/400\n",
      " - 18s - loss: 0.0907 - custom_acc: 0.2477 - val_loss: 0.1405 - val_custom_acc: 0.2819\n",
      "Epoch 388/400\n",
      " - 18s - loss: 0.0907 - custom_acc: 0.2474 - val_loss: 0.1261 - val_custom_acc: 0.2634\n",
      "Epoch 389/400\n",
      " - 18s - loss: 0.0908 - custom_acc: 0.2474 - val_loss: 0.1296 - val_custom_acc: 0.2523\n",
      "Epoch 390/400\n",
      " - 18s - loss: 0.0926 - custom_acc: 0.2473 - val_loss: 0.1237 - val_custom_acc: 0.2600\n",
      "Epoch 391/400\n",
      " - 18s - loss: 0.0897 - custom_acc: 0.2480 - val_loss: 0.1203 - val_custom_acc: 0.2676\n",
      "Epoch 392/400\n",
      " - 18s - loss: 0.0884 - custom_acc: 0.2479 - val_loss: 0.1632 - val_custom_acc: 0.2498\n",
      "Epoch 393/400\n",
      " - 18s - loss: 0.0917 - custom_acc: 0.2474 - val_loss: 0.1331 - val_custom_acc: 0.2415\n",
      "Epoch 394/400\n",
      " - 18s - loss: 0.0888 - custom_acc: 0.2478 - val_loss: 0.1140 - val_custom_acc: 0.2523\n",
      "Epoch 395/400\n",
      " - 18s - loss: 0.0933 - custom_acc: 0.2467 - val_loss: 0.1151 - val_custom_acc: 0.2617\n",
      "Epoch 396/400\n",
      " - 18s - loss: 0.0920 - custom_acc: 0.2476 - val_loss: 0.1455 - val_custom_acc: 0.2577\n",
      "Epoch 397/400\n",
      " - 18s - loss: 0.0890 - custom_acc: 0.2483 - val_loss: 0.1190 - val_custom_acc: 0.2527\n",
      "Epoch 398/400\n",
      " - 18s - loss: 0.0905 - custom_acc: 0.2472 - val_loss: 0.1413 - val_custom_acc: 0.2475\n",
      "Epoch 399/400\n",
      " - 18s - loss: 0.0919 - custom_acc: 0.2469 - val_loss: 0.1469 - val_custom_acc: 0.2525\n",
      "Epoch 400/400\n",
      " - 18s - loss: 0.0904 - custom_acc: 0.2471 - val_loss: 0.1351 - val_custom_acc: 0.2670\n"
     ]
    }
   ],
   "source": [
    "# model.fit_generator(gen, rnd_trn, 100, verbose=2, \n",
    "#                     validation_data=gen_test, nb_val_samples=rnd_test)\n",
    "# model.fit_generator(train_data, rnd_trn, 100, verbose=2, \n",
    "#                     validation_data=gen_test, nb_val_samples=rnd_test)\n",
    "history=model.fit(train_data, train_label, batch_size=batch_size, epochs=nb_epoch,verbose=2, validation_data=(test_data, test_label), shuffle=True)"
   ]
  },
  {
   "cell_type": "markdown",
   "metadata": {},
   "source": [
    "## View results"
   ]
  },
  {
   "cell_type": "markdown",
   "metadata": {},
   "source": [
    "Let's take a look at some of the results we achieved."
   ]
  },
  {
   "cell_type": "markdown",
   "metadata": {},
   "source": [
    "This is pretty good! We can see it is having some difficulty with the street between the light posts, but we would expect that a model that was pre-trained on a much larger dataset would perform better."
   ]
  },
  {
   "cell_type": "code",
   "execution_count": 54,
   "metadata": {},
   "outputs": [
    {
     "data": {
      "text/plain": [
       "<matplotlib.image.AxesImage at 0x7f9c84437a90>"
      ]
     },
     "execution_count": 54,
     "metadata": {},
     "output_type": "execute_result"
    },
    {
     "data": {
      "image/png": "[encoded data removed]",
      "text/plain": [
       "<Figure size 432x288 with 1 Axes>"
      ]
     },
     "metadata": {},
     "output_type": "display_data"
    }
   ],
   "source": [
    "plt.imshow(np.resize(test_label_temp[33,:],(224,224)))"
   ]
  },
  {
   "cell_type": "code",
   "execution_count": 28,
   "metadata": {},
   "outputs": [
    {
     "data": {
      "text/plain": [
       "<matplotlib.image.AxesImage at 0x7fd16f69f510>"
      ]
     },
     "execution_count": 28,
     "metadata": {},
     "output_type": "execute_result"
    },
    {
     "data": {
      "image/png": "[encoded data removed]",
      "text/plain": [
       "<Figure size 432x288 with 1 Axes>"
      ]
     },
     "metadata": {},
     "output_type": "display_data"
    }
   ],
   "source": [
    "p = model.predict(np.expand_dims(test_data[33,:],0))\n",
    "g = (p>=.5).astype(np.int32())\n",
    "plt.imshow(np.resize(g,(224,224)))"
   ]
  },
  {
   "cell_type": "code",
   "execution_count": 40,
   "metadata": {},
   "outputs": [
    {
     "data": {
      "text/plain": [
       "<matplotlib.image.AxesImage at 0xb38015b38>"
      ]
     },
     "execution_count": 40,
     "metadata": {},
     "output_type": "execute_result"
    },
    {
     "data": {
      "image/png": "[encoded data removed]",
      "text/plain": [
       "<Figure size 432x288 with 1 Axes>"
      ]
     },
     "metadata": {},
     "output_type": "display_data"
    }
   ],
   "source": [
    "plt.imshow(np.resize(p,(224,224)))"
   ]
  },
  {
   "cell_type": "markdown",
   "metadata": {},
   "source": [
    "## End"
   ]
  },
  {
   "cell_type": "code",
   "execution_count": 29,
   "metadata": {},
   "outputs": [],
   "source": [
    "import os\n",
    "path=os.getcwd()\n",
    "if not os.path.exists(path+\"/output_imgs_1_4_CustomLoss2/\"):\n",
    "        os.makedirs(path+\"/output_imgs_1_4_CustomLoss2/\")"
   ]
  },
  {
   "cell_type": "code",
   "execution_count": 30,
   "metadata": {},
   "outputs": [],
   "source": [
    "# from scipy.misc import imsave\n",
    "import matplotlib\n",
    "for i in range(len(test_data)):\n",
    "    p=model.predict(np.expand_dims(test_data[i,:],0))\n",
    "    p=np.resize(p,(224,224))\n",
    "#     if not os.path.exists(path+\"/output_imgs/\"):\n",
    "#         os.makedirs(path+\"/output_imgs/)\n",
    "    g = (p>=0.5).astype(np.int32)\n",
    "    matplotlib.image.imsave('output_imgs_1_4_CustomLoss2/outfile'+str(i)+'.png', g)\n",
    "#     imsave('output_imgs/outfile'+i+'.jpg', p)"
   ]
  },
  {
   "cell_type": "code",
   "execution_count": 31,
   "metadata": {},
   "outputs": [
    {
     "data": {
      "image/png": "[encoded data removed]",
      "text/plain": [
       "<Figure size 432x288 with 1 Axes>"
      ]
     },
     "metadata": {},
     "output_type": "display_data"
    }
   ],
   "source": [
    "plt.plot(history.history['loss'])\n",
    "plt.plot(history.history['val_loss'])\n",
    "plt.title('model loss')\n",
    "plt.ylabel('loss')\n",
    "plt.xlabel('epoch')\n",
    "plt.legend(['train', 'test'], loc='upper left')\n",
    "#plt.show()\n",
    "plt.savefig('Loss Curve_1_4_CustomLoss2.png')"
   ]
  },
  {
   "cell_type": "code",
   "execution_count": 32,
   "metadata": {},
   "outputs": [],
   "source": [
    "model.save_weights('weights/prop_tiramisu_1_4_CUSTOMLOSS2_weights_67_12_func_10-e7_decay{}.hdf5'.format(nb_epoch))"
   ]
  },
  {
   "cell_type": "code",
   "execution_count": 33,
   "metadata": {},
   "outputs": [
    {
     "name": "stdout",
     "output_type": "stream",
     "text": [
      "['val_custom_acc', 'loss', 'custom_acc', 'val_loss']\n"
     ]
    },
    {
     "data": {
      "image/png": "[encoded data removed]",
      "text/plain": [
       "<Figure size 432x288 with 1 Axes>"
      ]
     },
     "metadata": {},
     "output_type": "display_data"
    }
   ],
   "source": [
    "##save plots\n",
    "import matplotlib.pyplot as plt\n",
    "# list all data in history\n",
    "print(history.history.keys())\n",
    "# summarize history for accuracy\n",
    "plt.plot(history.history['custom_acc'])\n",
    "plt.plot(history.history['val_custom_acc'])\n",
    "plt.title('model accuracy')\n",
    "plt.ylabel('accuracy')\n",
    "plt.xlabel('epoch')\n",
    "plt.legend(['train', 'test'], loc='upper left')\n",
    "#plt.show()\n",
    "plt.savefig('Model Accuracy Curve_1_4_CUSTOMLOSS2.png')\n",
    "# summarize history for loss"
   ]
  },
  {
   "cell_type": "code",
   "execution_count": null,
   "metadata": {},
   "outputs": [],
   "source": []
  }
 ],
 "metadata": {
  "kernelspec": {
   "display_name": "Python 3",
   "language": "python",
   "name": "python3"
  },
  "language_info": {
   "codemirror_mode": {
    "name": "ipython",
    "version": 3
   },
   "file_extension": ".py",
   "mimetype": "text/x-python",
   "name": "python",
   "nbconvert_exporter": "python",
   "pygments_lexer": "ipython3",
   "version": "3.5.5"
  }
 },
 "nbformat": 4,
 "nbformat_minor": 2
}
