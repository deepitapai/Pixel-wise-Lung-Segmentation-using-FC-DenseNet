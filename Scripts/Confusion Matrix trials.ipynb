{
 "cells": [
  {
   "cell_type": "code",
   "execution_count": 2,
   "metadata": {
    "collapsed": true
   },
   "outputs": [],
   "source": [
    "disease_class=[]\n",
    "with open(\"test.txt\", \"r\") as f:\n",
    "    for line in f:\n",
    "        lastchar = line.strip()[-5]\n",
    "        disease_class.append(lastchar)"
   ]
  },
  {
   "cell_type": "code",
   "execution_count": 7,
   "metadata": {
    "collapsed": true
   },
   "outputs": [],
   "source": [
    "path = '/Users/deepitapai/Downloads/Code Results/output_imgs_1_4_CustomLoss2/'   "
   ]
  },
  {
   "cell_type": "code",
   "execution_count": 8,
   "metadata": {},
   "outputs": [
    {
     "name": "stdout",
     "output_type": "stream",
     "text": [
      "0 0\n",
      "0 1\n",
      "0 10\n",
      "1 100\n",
      "1 101\n",
      "1 102\n",
      "1 103\n",
      "0 104\n",
      "1 105\n",
      "1 106\n",
      "1 107\n",
      "0 108\n",
      "1 109\n",
      "0 11\n",
      "0 12\n",
      "0 13\n",
      "0 14\n",
      "0 15\n",
      "1 16\n",
      "0 17\n",
      "0 18\n",
      "0 19\n",
      "1 2\n",
      "1 20\n",
      "0 21\n",
      "1 22\n",
      "1 23\n",
      "0 24\n",
      "0 25\n",
      "0 26\n",
      "0 27\n",
      "1 28\n",
      "1 29\n",
      "1 3\n",
      "0 30\n",
      "0 31\n",
      "1 32\n",
      "1 33\n",
      "0 34\n",
      "0 35\n",
      "1 36\n",
      "0 37\n",
      "1 38\n",
      "1 39\n",
      "0 4\n",
      "0 40\n",
      "0 41\n",
      "0 42\n",
      "0 43\n",
      "0 44\n",
      "0 45\n",
      "1 46\n",
      "0 47\n",
      "1 48\n",
      "1 49\n",
      "0 5\n",
      "0 50\n",
      "0 51\n",
      "0 52\n",
      "1 53\n",
      "1 54\n",
      "1 55\n",
      "1 56\n",
      "0 57\n",
      "1 58\n",
      "0 59\n",
      "0 6\n",
      "0 60\n",
      "0 61\n",
      "1 62\n",
      "1 63\n",
      "0 64\n",
      "0 65\n",
      "0 66\n",
      "0 67\n",
      "0 68\n",
      "1 69\n",
      "1 7\n",
      "1 70\n",
      "0 71\n",
      "0 72\n",
      "0 73\n",
      "1 74\n",
      "1 75\n",
      "0 76\n",
      "1 77\n",
      "1 78\n",
      "1 79\n",
      "0 8\n",
      "0 80\n",
      "0 81\n",
      "0 82\n",
      "0 83\n",
      "1 84\n",
      "1 85\n",
      "1 86\n",
      "0 87\n",
      "1 88\n",
      "0 89\n",
      "0 9\n",
      "0 90\n",
      "0 91\n",
      "0 92\n",
      "1 93\n",
      "1 94\n",
      "0 95\n",
      "1 96\n",
      "1 97\n",
      "0 98\n",
      "0 99\n"
     ]
    }
   ],
   "source": [
    "#suffix file outputs with disease,no-disease label\n",
    "import re\n",
    "import os\n",
    "def get_numbers_from_filename(filename):\n",
    "    return re.search(r'\\d+', filename).group(0)\n",
    "filenames=os.listdir(path)\n",
    "for filename in filenames:\n",
    "    i=int(get_numbers_from_filename(filename))\n",
    "    print(disease_class[i],get_numbers_from_filename(filename))\n",
    "    os.rename(path+\"/\"+filename, path+\"/\"+filename[:-4]+\"_\"+disease_class[i]+\".png\")"
   ]
  },
  {
   "cell_type": "code",
   "execution_count": 154,
   "metadata": {},
   "outputs": [
    {
     "name": "stdout",
     "output_type": "stream",
     "text": [
      "Confusion matrix, without normalization\n",
      "[[12027   298]\n",
      " [   72 37779]]\n",
      "Normalized confusion matrix\n",
      "[[0.98 0.02]\n",
      " [0.   1.  ]]\n"
     ]
    },
    {
     "data": {
      "image/png": "[encoded data removed]",
      "text/plain": [
       "<Figure size 432x288 with 2 Axes>"
      ]
     },
     "metadata": {},
     "output_type": "display_data"
    },
    {
     "data": {
      "image/png": "[encoded data removed]",
      "text/plain": [
       "<Figure size 432x288 with 2 Axes>"
      ]
     },
     "metadata": {},
     "output_type": "display_data"
    }
   ],
   "source": [
    "import matplotlib.pyplot as plt\n",
    "import itertools\n",
    "from sklearn.metrics import confusion_matrix\n",
    "class_names=[0,1]\n",
    "def plot_confusion_matrix(cm, classes,\n",
    "                          normalize=False,\n",
    "                          title='Confusion matrix',\n",
    "                          cmap=plt.cm.Blues):\n",
    "    \"\"\"\n",
    "    This function prints and plots the confusion matrix.\n",
    "    Normalization can be applied by setting `normalize=True`.\n",
    "    \"\"\"\n",
    "    if normalize:\n",
    "        cm = cm.astype('float') / cm.sum(axis=1)[:, np.newaxis]\n",
    "        print(\"Normalized confusion matrix\")\n",
    "    else:\n",
    "        print('Confusion matrix, without normalization')\n",
    "\n",
    "    print(cm)\n",
    "\n",
    "    plt.imshow(cm, interpolation='nearest', cmap=cmap)\n",
    "    plt.title(title)\n",
    "    plt.colorbar()\n",
    "    tick_marks = np.arange(len(classes))\n",
    "    plt.xticks(tick_marks, classes, rotation=45)\n",
    "    plt.yticks(tick_marks, classes)\n",
    "\n",
    "    fmt = '.2f' if normalize else 'd'\n",
    "    thresh = cm.max() / 2.\n",
    "    for i, j in itertools.product(range(cm.shape[0]), range(cm.shape[1])):\n",
    "        plt.text(j, i, format(cm[i, j], fmt),\n",
    "                 horizontalalignment=\"center\",\n",
    "                 color=\"white\" if cm[i, j] > thresh else \"black\")\n",
    "\n",
    "    plt.tight_layout()\n",
    "    plt.ylabel('True label')\n",
    "    plt.xlabel('Predicted label')\n",
    "\n",
    "# test_label=cv2.imread(\"/Users/deepitapai/Downloads/Code Results/output_imgs_ori/outfile0_0.png\",0)\n",
    "# test_label.ravel()\n",
    "# test_pred=cv2.imread(\"/Users/deepitapai/Downloads/Code Results/output_imgs/outfile0_0.png\",0)\n",
    "# test_pred.ravel()\n",
    "# Compute confusion matrix\n",
    "cnf_matrix = confusion_matrix(test_label, test_pred)\n",
    "np.set_printoptions(precision=2)\n",
    "\n",
    "# Plot non-normalized confusion matrix\n",
    "plt.figure()\n",
    "plot_confusion_matrix(cnf_matrix, classes=class_names,\n",
    "                      title='Confusion matrix, without normalization')\n",
    "\n",
    "# Plot normalized confusion matrix\n",
    "plt.figure()\n",
    "plot_confusion_matrix(cnf_matrix, classes=class_names, normalize=True,\n",
    "                      title='Normalized confusion matrix')\n",
    "\n",
    "plt.show()\n"
   ]
  },
  {
   "cell_type": "code",
   "execution_count": 148,
   "metadata": {
    "collapsed": true
   },
   "outputs": [],
   "source": [
    "import cv2\n",
    "test_pred=cv2.imread(\"/Users/deepitapai/Downloads/Code Results/output_imgs/outfile1_0.png\",0)"
   ]
  },
  {
   "cell_type": "code",
   "execution_count": 149,
   "metadata": {
    "collapsed": true
   },
   "outputs": [],
   "source": [
    "test_label=cv2.imread(\"/Users/deepitapai/Downloads/Code Results/output_imgs_ori/outfile1_0.png\",0)"
   ]
  },
  {
   "cell_type": "code",
   "execution_count": 150,
   "metadata": {
    "collapsed": true
   },
   "outputs": [],
   "source": [
    "test_label=test_label.ravel()"
   ]
  },
  {
   "cell_type": "code",
   "execution_count": 151,
   "metadata": {
    "collapsed": true
   },
   "outputs": [],
   "source": [
    "for i in range(len(test_label)):\n",
    "    if test_label[i]==30:\n",
    "        test_label[i]=1\n",
    "    else:\n",
    "        test_label[i]=0"
   ]
  },
  {
   "cell_type": "code",
   "execution_count": 152,
   "metadata": {},
   "outputs": [
    {
     "data": {
      "text/plain": [
       "{0, 1}"
      ]
     },
     "execution_count": 152,
     "metadata": {},
     "output_type": "execute_result"
    }
   ],
   "source": [
    "set(test_label)"
   ]
  },
  {
   "cell_type": "code",
   "execution_count": 153,
   "metadata": {
    "collapsed": true
   },
   "outputs": [],
   "source": [
    "import cv2\n",
    "test_pred=cv2.imread(\"/Users/deepitapai/Downloads/Code Results/output_imgs/outfile1_0.png\",0)\n",
    "test_pred=test_pred.ravel()\n",
    "for i in range(len(test_pred)):\n",
    "    if test_pred[i]==30:\n",
    "        test_pred[i]=1\n",
    "    else:\n",
    "        test_pred[i]=0"
   ]
  },
  {
   "cell_type": "code",
   "execution_count": 140,
   "metadata": {},
   "outputs": [
    {
     "data": {
      "text/plain": [
       "{0, 1}"
      ]
     },
     "execution_count": 140,
     "metadata": {},
     "output_type": "execute_result"
    }
   ],
   "source": [
    "set(test_pred)"
   ]
  },
  {
   "cell_type": "code",
   "execution_count": null,
   "metadata": {
    "collapsed": true
   },
   "outputs": [],
   "source": [
    "cnf_matrix=np.zeros((2,2))\n",
    "path = "
   ]
  },
  {
   "cell_type": "code",
   "execution_count": 162,
   "metadata": {},
   "outputs": [
    {
     "name": "stdout",
     "output_type": "stream",
     "text": [
      "0\n",
      "1\n",
      "2\n"
     ]
    },
    {
     "ename": "AttributeError",
     "evalue": "'NoneType' object has no attribute 'ravel'",
     "output_type": "error",
     "traceback": [
      "\u001b[0;31m---------------------------------------------------------------------------\u001b[0m",
      "\u001b[0;31mAttributeError\u001b[0m                            Traceback (most recent call last)",
      "\u001b[0;32m<ipython-input-162-6236c613baec>\u001b[0m in \u001b[0;36m<module>\u001b[0;34m()\u001b[0m\n\u001b[1;32m      3\u001b[0m     \u001b[0mprint\u001b[0m\u001b[0;34m(\u001b[0m\u001b[0mi\u001b[0m\u001b[0;34m)\u001b[0m\u001b[0;34m\u001b[0m\u001b[0m\n\u001b[1;32m      4\u001b[0m     \u001b[0mtest_pred\u001b[0m\u001b[0;34m=\u001b[0m\u001b[0mcv2\u001b[0m\u001b[0;34m.\u001b[0m\u001b[0mimread\u001b[0m\u001b[0;34m(\u001b[0m\u001b[0;34m\"/Users/deepitapai/Downloads/Code Results/output_imgs/outfile\"\u001b[0m\u001b[0;34m+\u001b[0m\u001b[0mstr\u001b[0m\u001b[0;34m(\u001b[0m\u001b[0mi\u001b[0m\u001b[0;34m)\u001b[0m\u001b[0;34m+\u001b[0m\u001b[0;34m\"_0.png\"\u001b[0m\u001b[0;34m,\u001b[0m\u001b[0;36m0\u001b[0m\u001b[0;34m)\u001b[0m\u001b[0;34m\u001b[0m\u001b[0m\n\u001b[0;32m----> 5\u001b[0;31m     \u001b[0mtest_pred\u001b[0m\u001b[0;34m=\u001b[0m\u001b[0mtest_pred\u001b[0m\u001b[0;34m.\u001b[0m\u001b[0mravel\u001b[0m\u001b[0;34m(\u001b[0m\u001b[0;34m)\u001b[0m\u001b[0;34m\u001b[0m\u001b[0m\n\u001b[0m\u001b[1;32m      6\u001b[0m     \u001b[0mtest_label\u001b[0m\u001b[0;34m=\u001b[0m\u001b[0mcv2\u001b[0m\u001b[0;34m.\u001b[0m\u001b[0mimread\u001b[0m\u001b[0;34m(\u001b[0m\u001b[0;34m\"/Users/deepitapai/Downloads/Code Results/output_imgs_ori/outfile\"\u001b[0m\u001b[0;34m+\u001b[0m\u001b[0mstr\u001b[0m\u001b[0;34m(\u001b[0m\u001b[0mi\u001b[0m\u001b[0;34m)\u001b[0m\u001b[0;34m+\u001b[0m\u001b[0;34m\"_0.png\"\u001b[0m\u001b[0;34m,\u001b[0m\u001b[0;36m0\u001b[0m\u001b[0;34m)\u001b[0m\u001b[0;34m\u001b[0m\u001b[0m\n\u001b[1;32m      7\u001b[0m     \u001b[0mtest_label\u001b[0m\u001b[0;34m=\u001b[0m\u001b[0mtest_label\u001b[0m\u001b[0;34m.\u001b[0m\u001b[0mravel\u001b[0m\u001b[0;34m(\u001b[0m\u001b[0;34m)\u001b[0m\u001b[0;34m\u001b[0m\u001b[0m\n",
      "\u001b[0;31mAttributeError\u001b[0m: 'NoneType' object has no attribute 'ravel'"
     ]
    }
   ],
   "source": [
    "cnf_matrix=np.zeros((2,2))\n",
    "for i in range(110):\n",
    "    path = \"/Users/deepitapai/Downloads/Code Results\"\n",
    "#Change Names of output folder and rebinarized testImage labels here:\n",
    "    folder_out = \"/output_imgs\"\n",
    "    folder_testlabels = \"/output_imgs_ori\"\n",
    "    for file in \n",
    "    img_out = Image.open(path+folder_out+\"/\"+img_name)\n",
    "    img_label = Image.open(path+folder_testlabels+\"/\"+img_name)\n",
    "    \n",
    "    #check patient condition\n",
    "    if img_name.endswith(\"0.png\"):\n",
    "        #condFlag = 0\n",
    "        con_matrix_0(img_out,img_label)\n",
    "    elif img_name.endswith(\"1.png\"):\n",
    "        condFlag = 1   \n",
    "#     img_name = \"/Users/deepitapai/Downloads/Code Results/output_imgs/outfile\"\n",
    "\n",
    "\n",
    "def con_matrix_0(test_pred,test_label)\n",
    "    #test_pred=cv2.imread(\"/Users/deepitapai/Downloads/Code Results/output_imgs/outfile\"+str(i)+\"_0.png\",0)\n",
    "    test_pred=test_pred.ravel()\n",
    "    #test_label=cv2.imread(\"/Users/deepitapai/Downloads/Code Results/output_imgs_ori/outfile\"+str(i)+\"_0.png\",0)\n",
    "    test_label=test_label.ravel()\n",
    "    for i1 in range(len(test_pred)):\n",
    "        if test_pred[i1]==30:\n",
    "            test_pred[i1]=1\n",
    "        else:\n",
    "            test_pred[i1]=0\n",
    "    for i1 in range(len(test_label)):\n",
    "        if test_label[i1]==30:\n",
    "            test_label[i1]=1\n",
    "        else:\n",
    "            test_label[i1]=0\n",
    "    cnf_matrix += confusion_matrix(test_label, test_pred)"
   ]
  },
  {
   "cell_type": "code",
   "execution_count": 11,
   "metadata": {},
   "outputs": [
    {
     "ename": "NameError",
     "evalue": "name 'cnf_matrix' is not defined",
     "output_type": "error",
     "traceback": [
      "\u001b[0;31m---------------------------------------------------------------------------\u001b[0m",
      "\u001b[0;31mNameError\u001b[0m                                 Traceback (most recent call last)",
      "\u001b[0;32m<ipython-input-11-5048fd50530f>\u001b[0m in \u001b[0;36m<module>\u001b[0;34m()\u001b[0m\n\u001b[1;32m     35\u001b[0m \u001b[0;31m# Plot non-normalized confusion matrix\u001b[0m\u001b[0;34m\u001b[0m\u001b[0;34m\u001b[0m\u001b[0m\n\u001b[1;32m     36\u001b[0m \u001b[0mplt\u001b[0m\u001b[0;34m.\u001b[0m\u001b[0mfigure\u001b[0m\u001b[0;34m(\u001b[0m\u001b[0;34m)\u001b[0m\u001b[0;34m\u001b[0m\u001b[0m\n\u001b[0;32m---> 37\u001b[0;31m plot_confusion_matrix(cnf_matrix, classes=class_names,\n\u001b[0m\u001b[1;32m     38\u001b[0m                       title='Confusion matrix, without normalization')\n\u001b[1;32m     39\u001b[0m \u001b[0;34m\u001b[0m\u001b[0m\n",
      "\u001b[0;31mNameError\u001b[0m: name 'cnf_matrix' is not defined"
     ]
    },
    {
     "data": {
      "text/plain": [
       "<Figure size 432x288 with 0 Axes>"
      ]
     },
     "metadata": {},
     "output_type": "display_data"
    }
   ],
   "source": [
    "class_names=[0,1]\n",
    "def plot_confusion_matrix(cm, classes,\n",
    "                          normalize=False,\n",
    "                          title='Confusion matrix',\n",
    "                          cmap=plt.cm.Blues):\n",
    "    \"\"\"\n",
    "    This function prints and plots the confusion matrix.\n",
    "    Normalization can be applied by setting `normalize=True`.\n",
    "    \"\"\"\n",
    "    if normalize:\n",
    "        cm = cm.astype('float') / cm.sum(axis=1)[:, np.newaxis]\n",
    "        print(\"Normalized confusion matrix\")\n",
    "    else:\n",
    "        print('Confusion matrix, without normalization')\n",
    "\n",
    "    print(cm)\n",
    "\n",
    "    plt.imshow(cm, interpolation='nearest', cmap=cmap)\n",
    "    plt.title(title)\n",
    "    plt.colorbar()\n",
    "    tick_marks = np.arange(len(classes))\n",
    "    plt.xticks(tick_marks, classes, rotation=45)\n",
    "    plt.yticks(tick_marks, classes)\n",
    "\n",
    "    fmt = '.2f' if normalize else '.2f'\n",
    "    thresh = cm.max() / 2.\n",
    "    for i, j in itertools.product(range(cm.shape[0]), range(cm.shape[1])):\n",
    "        plt.text(j, i, format(cm[i, j], fmt),\n",
    "                 horizontalalignment=\"center\",\n",
    "                 color=\"white\" if cm[i, j] > thresh else \"black\")\n",
    "\n",
    "    plt.tight_layout()\n",
    "    plt.ylabel('True label')\n",
    "    plt.xlabel('Predicted label')\n",
    "# Plot non-normalized confusion matrix\n",
    "plt.figure()\n",
    "plot_confusion_matrix(cnf_matrix, classes=class_names,\n",
    "                      title='Confusion matrix, without normalization')\n",
    "\n",
    "# Plot normalized confusion matrix\n",
    "plt.figure()\n",
    "plot_confusion_matrix(cnf_matrix, classes=class_names, normalize=True,\n",
    "                      title='Normalized confusion matrix')\n",
    "\n",
    "plt.show()"
   ]
  },
  {
   "cell_type": "code",
   "execution_count": 343,
   "metadata": {},
   "outputs": [
    {
     "name": "stdout",
     "output_type": "stream",
     "text": [
      "/Users/deepitapai/Downloads/Code Results/output_imgs/outfile100_1.png\n",
      "inside1\n",
      "pred shape [30 30 30 ... 30 30 30]\n",
      "label shape [30 30 30 ... 30 30 30]\n",
      "/Users/deepitapai/Downloads/Code Results/output_imgs/outfile101_1.png\n",
      "inside1\n",
      "pred shape [30 30 30 ... 30 30 30]\n",
      "label shape [30 30 30 ... 30 30 30]\n",
      "/Users/deepitapai/Downloads/Code Results/output_imgs/outfile102_1.png\n",
      "inside1\n",
      "pred shape [30 30 30 ... 30 30 30]\n",
      "label shape [30 30 30 ... 30 30 30]\n",
      "/Users/deepitapai/Downloads/Code Results/output_imgs/outfile103_1.png\n",
      "inside1\n",
      "pred shape [30 30 30 ... 30 30 30]\n",
      "label shape [30 30 30 ... 30 30 30]\n",
      "/Users/deepitapai/Downloads/Code Results/output_imgs/outfile104_0.png\n",
      "inside0\n",
      "pred shape [30 30 30 ... 30 30 30]\n",
      "label shape [30 30 30 ... 30 30 30]\n",
      "/Users/deepitapai/Downloads/Code Results/output_imgs/outfile105_1.png\n",
      "inside1\n",
      "pred shape [30 30 30 ... 30 30 30]\n",
      "label shape [30 30 30 ... 30 30 30]\n",
      "/Users/deepitapai/Downloads/Code Results/output_imgs/outfile106_1.png\n",
      "inside1\n",
      "pred shape [30 30 30 ... 30 30 30]\n",
      "label shape [30 30 30 ... 30 30 30]\n",
      "/Users/deepitapai/Downloads/Code Results/output_imgs/outfile107_1.png\n",
      "inside1\n",
      "pred shape [30 30 30 ... 30 30 30]\n",
      "label shape [30 30 30 ... 30 30 30]\n",
      "/Users/deepitapai/Downloads/Code Results/output_imgs/outfile108_0.png\n",
      "inside0\n",
      "pred shape [30 30 30 ... 30 30 30]\n",
      "label shape [30 30 30 ... 30 30 30]\n",
      "/Users/deepitapai/Downloads/Code Results/output_imgs/outfile109_1.png\n",
      "inside1\n",
      "pred shape [30 30 30 ... 30 30 30]\n",
      "label shape [30 30 30 ... 30 30 30]\n",
      "2\n",
      "8\n",
      "[[67012.  1279.]\n",
      " [ 3406. 28655.]]\n"
     ]
    }
   ],
   "source": [
    "def con_matrix(test_pred,test_label):\n",
    "    #cnf_matrix0 = np.zeros((2,2))\n",
    "    #test_pred=cv2.imread(\"/Users/deepitapai/Downloads/Code Results/output_imgs/outfile\"+str(i)+\"_0.png\",0)\n",
    "    test_pred=test_pred.ravel()\n",
    "    print(\"pred shape\",test_pred)\n",
    "    #test_label=cv2.imread(\"/Users/deepitapai/Downloads/Code Results/output_imgs_ori/outfile\"+str(i)+\"_0.png\",0)\n",
    "    test_label=test_label.ravel()\n",
    "    print(\"label shape\",test_label)\n",
    "    for i1 in range(len(test_pred)):\n",
    "        if test_pred[i1]==30:\n",
    "            test_pred[i1]=0\n",
    "        else:\n",
    "            test_pred[i1]=1\n",
    "    for i1 in range(len(test_label)):\n",
    "        if test_label[i1]==30:\n",
    "            test_label[i1]=0\n",
    "        else:\n",
    "            test_label[i1]=1\n",
    "    #cnf_matrix0 += confusion_matrix(test_label, test_pred)\n",
    "    return confusion_matrix(test_pred, test_label)\n",
    "    \n",
    "# def con_matrix_1(test_pred,test_label):\n",
    "#     cnf_matrix1 = np.zeros((2,2))\n",
    "#     #test_pred=cv2.imread(\"/Users/deepitapai/Downloads/Code Results/output_imgs/outfile\"+str(i)+\"_0.png\",0)\n",
    "#     test_pred=test_pred.ravel()\n",
    "#     #test_label=cv2.imread(\"/Users/deepitapai/Downloads/Code Results/output_imgs_ori/outfile\"+str(i)+\"_0.png\",0)\n",
    "#     test_label=test_label.ravel()\n",
    "#     for i1 in range(len(test_pred)):\n",
    "#         if test_pred[i1]==30:\n",
    "#             test_pred[i1]=1\n",
    "#         else:\n",
    "#             test_pred[i1]=0\n",
    "#     for i1 in range(len(test_label)):\n",
    "#         if test_label[i1]==30:\n",
    "#             test_label[i1]=1\n",
    "#         else:\n",
    "#             test_label[i1]=0\n",
    "#     #cnf_matrix1 += confusion_matrix(test_label, test_pred)\n",
    "#     return confusion_matrix(test_label, test_pred)\n",
    "\n",
    "count0 =0\n",
    "count1 =0\n",
    "cnf_matrix = np.zeros((2,2))\n",
    "cnf_matrix0 = np.zeros((2,2))\n",
    "cnf_matrix1 = np.zeros((2,2))\n",
    "for i in range(100,110):\n",
    "    path = \"/Users/deepitapai/Downloads/Code Results\"\n",
    "#Change Names of output folder and rebinarized testImage labels here:\n",
    "    folder_out = \"/output_imgs\"\n",
    "    folder_testlabels = \"/output_imgs_ori\"\n",
    "    img_name=\"outfile\"+str(i)+\"_\"+disease_class[i]+\".png\"\n",
    "    img_label = cv2.imread(path+folder_testlabels+\"/\"+img_name,0)\n",
    "    #print(\"disease\",disease_class[i])\n",
    "    img_out = cv2.imread(path+folder_out+\"/\"+img_name,0)\n",
    "    print(path+folder_out+\"/\"+img_name)\n",
    "    #cnf_matrix = con_matrix(img_out,img_label)\n",
    "    if (disease_class[i]=='0'):\n",
    "        print(\"inside0\")\n",
    "        count0 +=1\n",
    "        cnf_matrix0 +=con_matrix(img_out,img_label)\n",
    "        \n",
    "    if (disease_class[i]=='1'):\n",
    "        print(\"inside1\")\n",
    "        count1 +=1\n",
    "        cnf_matrix1 +=con_matrix(img_out,img_label)\n",
    "\n",
    "print(count0)\n",
    "print(count1)\n",
    "print(cnf_matrix0)"
   ]
  },
  {
   "cell_type": "code",
   "execution_count": 3,
   "metadata": {},
   "outputs": [
    {
     "ename": "NameError",
     "evalue": "name 'cnf_matrix' is not defined",
     "output_type": "error",
     "traceback": [
      "\u001b[0;31m---------------------------------------------------------------------------\u001b[0m",
      "\u001b[0;31mNameError\u001b[0m                                 Traceback (most recent call last)",
      "\u001b[0;32m<ipython-input-3-579c0fef3f6f>\u001b[0m in \u001b[0;36m<module>\u001b[0;34m()\u001b[0m\n\u001b[1;32m     36\u001b[0m \u001b[0;34m\u001b[0m\u001b[0m\n\u001b[1;32m     37\u001b[0m \u001b[0mplt\u001b[0m\u001b[0;34m.\u001b[0m\u001b[0mfigure\u001b[0m\u001b[0;34m(\u001b[0m\u001b[0;34m)\u001b[0m\u001b[0;34m\u001b[0m\u001b[0m\n\u001b[0;32m---> 38\u001b[0;31m plot_confusion_matrix(cnf_matrix, classes=class_names, normalize=True,\n\u001b[0m\u001b[1;32m     39\u001b[0m                       title='All Images')\n\u001b[1;32m     40\u001b[0m \u001b[0mplt\u001b[0m\u001b[0;34m.\u001b[0m\u001b[0msavefig\u001b[0m\u001b[0;34m(\u001b[0m\u001b[0;34m'Tiramisu_All_Images.png'\u001b[0m\u001b[0;34m)\u001b[0m\u001b[0;34m\u001b[0m\u001b[0m\n",
      "\u001b[0;31mNameError\u001b[0m: name 'cnf_matrix' is not defined"
     ]
    },
    {
     "data": {
      "text/plain": [
       "<Figure size 432x288 with 0 Axes>"
      ]
     },
     "metadata": {},
     "output_type": "display_data"
    }
   ],
   "source": [
    "class_names=[1,0]\n",
    "def plot_confusion_matrix(cm, classes,\n",
    "                          normalize=False,\n",
    "                          title='Confusion matrix',\n",
    "                          cmap=plt.cm.Blues):\n",
    "    \"\"\"\n",
    "    This function prints and plots the confusion matrix.\n",
    "    Normalization can be applied by setting `normalize=True`.\n",
    "    \"\"\"\n",
    "    if normalize:\n",
    "        cm = cm.astype('float') / cm.sum(axis=1)[:, np.newaxis]\n",
    "        print(\"Normalized confusion matrix\")\n",
    "    else:\n",
    "        print('Confusion matrix, without normalization')\n",
    "\n",
    "    print(cm)\n",
    "\n",
    "    plt.imshow(cm, interpolation='nearest', cmap=cmap)\n",
    "    plt.title(title)\n",
    "    plt.colorbar()\n",
    "    tick_marks = np.arange(len(classes))\n",
    "    plt.xticks(tick_marks, classes, rotation=45)\n",
    "    plt.yticks(tick_marks, classes)\n",
    "\n",
    "    fmt = '.3f' if normalize else '.2f'\n",
    "    thresh = cm.max() / 2.\n",
    "    for i, j in itertools.product(range(cm.shape[0]), range(cm.shape[1])):\n",
    "        plt.text(j, i, format(cm[i, j], fmt),\n",
    "                 horizontalalignment=\"center\",\n",
    "                 color=\"white\" if cm[i, j] > thresh else \"black\")\n",
    "\n",
    "    plt.tight_layout()\n",
    "    plt.ylabel('True label')\n",
    "    plt.xlabel('Predicted label')\n",
    "# Plot non-normalized confusion matrix\n",
    "\n",
    "plt.figure()\n",
    "plot_confusion_matrix(cnf_matrix, classes=class_names, normalize=True,\n",
    "                      title='All Images')\n",
    "plt.savefig('Tiramisu_All_Images.png')\n",
    "# plt.figure()\n",
    "# plot_confusion_matrix(cnf_matrix0, classes=class_names,\n",
    "#                       title='Confusion matrix, without normalization')\n",
    "\n",
    "# Plot normalized confusion matrix\n",
    "plt.figure()\n",
    "plot_confusion_matrix(cnf_matrix0, classes=class_names, normalize=True,\n",
    "                      title='Normal Images')\n",
    "plt.savefig('Tiramisu_Normal_Images.png')\n",
    "\n",
    "# plt.figure()\n",
    "# plot_confusion_matrix(cnf_matrix1, classes=class_names,\n",
    "#                       title='Confusion matrix, without normalization')\n",
    "\n",
    "# Plot normalized confusion matrix\n",
    "plt.figure()\n",
    "plot_confusion_matrix(cnf_matrix1, classes=class_names, normalize=True,\n",
    "                      title='Abnormal Images')\n",
    "plt.savefig('Tiramisu_AbNormal_Images.png')\n",
    "plt.show()"
   ]
  },
  {
   "cell_type": "code",
   "execution_count": 251,
   "metadata": {},
   "outputs": [
    {
     "data": {
      "text/plain": [
       "(224, 224)"
      ]
     },
     "execution_count": 251,
     "metadata": {},
     "output_type": "execute_result"
    }
   ],
   "source": [
    "# plt.imshow(img_out)\n",
    "img_out"
   ]
  },
  {
   "cell_type": "code",
   "execution_count": 197,
   "metadata": {},
   "outputs": [
    {
     "data": {
      "text/plain": [
       "{'0': 63, '1': 47}"
      ]
     },
     "execution_count": 197,
     "metadata": {},
     "output_type": "execute_result"
    }
   ],
   "source": [
    "unique, counts = np.unique(disease_class,return_counts=True)\n",
    "dict(zip(unique, counts))"
   ]
  },
  {
   "cell_type": "code",
   "execution_count": 203,
   "metadata": {
    "collapsed": true
   },
   "outputs": [],
   "source": [
    "path = \"/Users/deepitapai/Downloads/Code Results\"\n",
    "#Change Names of output folder and rebinarized testImage labels here:\n",
    "folder_out = \"/output_imgs\"\n",
    "folder_testlabels = \"/output_imgs_ori\"\n",
    "img_name=\"outfile\"+str(i)+\"_\"+disease_class[0]+\".png\"\n",
    "img_label = cv2.imread(path+folder_testlabels+\"/\"+img_name)"
   ]
  },
  {
   "cell_type": "code",
   "execution_count": 257,
   "metadata": {},
   "outputs": [
    {
     "name": "stdout",
     "output_type": "stream",
     "text": [
      "[30 30 30 30 30 30 30 30 30 30 30 30 30 30 30 30 30 30 30 30 30 30 30 30\n",
      " 30 30 30 30 30 30 30 30 30 30 30 30 30 30 30 30 30 30 30 30 30 30 30 30\n",
      " 30 30 30 30 30 30 30 30 30 30 30 30 30 30 30 30 30 30 30 30 30 30 30 30\n",
      " 30 30 30 30 30 30 30 30 30 30 30 30 30 30 30 30 30 30 30 30 30 30 30 30\n",
      " 30 30 30 30 30 30 30 30 30 30 30 30 30 30 30 30 30 30 30 30 30 30 30 30\n",
      " 30 30 30 30 30 30 30 30 30 30 30 30 30 30 30 30 30 30 30 30 30 30 30 30\n",
      " 30 30 30 30 30 30 30 30 30 30 30 30 30 30 30 30 30 30 30 30 30 30 30 30\n",
      " 30 30 30 30 30 30 30 30 30 30 30 30 30 30 30 30 30 30 30 30 30 30 30 30\n",
      " 30 30 30 30 30 30 30 30 30 30 30 30 30 30 30 30 30 30 30 30 30 30 30 30\n",
      " 30 30 30 30 30 30 30 30]\n"
     ]
    },
    {
     "data": {
      "text/plain": [
       "<matplotlib.image.AxesImage at 0x1a34198cf8>"
      ]
     },
     "execution_count": 257,
     "metadata": {},
     "output_type": "execute_result"
    },
    {
     "data": {
      "image/png": "[encoded data removed]",
      "text/plain": [
       "<Figure size 432x288 with 1 Axes>"
      ]
     },
     "metadata": {},
     "output_type": "display_data"
    }
   ],
   "source": [
    "path = \"/Users/deepitapai/Downloads/Code Results\"\n",
    "#Change Names of output folder and rebinarized testImage labels here:\n",
    "folder_out = \"/output_imgs\"\n",
    "folder_testlabels = \"/output_imgs_ori\"\n",
    "img_name=\"outfile\"+str(0)+\"_\"+disease_class[0]+\".png\"\n",
    "img_test = cv2.imread(path+folder_out+\"/\"+img_name,0)\n",
    "print(img_test[175])\n",
    "plt.imshow(img_test)"
   ]
  },
  {
   "cell_type": "code",
   "execution_count": 240,
   "metadata": {},
   "outputs": [
    {
     "ename": "AttributeError",
     "evalue": "'list' object has no attribute 'astype'",
     "output_type": "error",
     "traceback": [
      "\u001b[0;31m---------------------------------------------------------------------------\u001b[0m",
      "\u001b[0;31mAttributeError\u001b[0m                            Traceback (most recent call last)",
      "\u001b[0;32m<ipython-input-240-c25398ace026>\u001b[0m in \u001b[0;36m<module>\u001b[0;34m()\u001b[0m\n\u001b[1;32m      1\u001b[0m \u001b[0mrobert\u001b[0m\u001b[0;34m=\u001b[0m\u001b[0;34m[\u001b[0m\u001b[0;34m[\u001b[0m\u001b[0;36m42379.036\u001b[0m\u001b[0;34m,\u001b[0m\u001b[0;36m462.673\u001b[0m\u001b[0;34m]\u001b[0m\u001b[0;34m,\u001b[0m\u001b[0;34m[\u001b[0m\u001b[0;36m127705.418\u001b[0m\u001b[0;34m,\u001b[0m\u001b[0;36m2252.873\u001b[0m\u001b[0;34m]\u001b[0m\u001b[0;34m]\u001b[0m\u001b[0;34m\u001b[0m\u001b[0m\n\u001b[1;32m      2\u001b[0m plot_confusion_matrix(robert, classes=class_names, normalize=True,\n\u001b[0;32m----> 3\u001b[0;31m                       title='Normalized confusion matrix')\n\u001b[0m",
      "\u001b[0;32m<ipython-input-238-0f2fdb5910ab>\u001b[0m in \u001b[0;36mplot_confusion_matrix\u001b[0;34m(cm, classes, normalize, title, cmap)\u001b[0m\n\u001b[1;32m      9\u001b[0m     \"\"\"\n\u001b[1;32m     10\u001b[0m     \u001b[0;32mif\u001b[0m \u001b[0mnormalize\u001b[0m\u001b[0;34m:\u001b[0m\u001b[0;34m\u001b[0m\u001b[0m\n\u001b[0;32m---> 11\u001b[0;31m         \u001b[0mcm\u001b[0m \u001b[0;34m=\u001b[0m \u001b[0mcm\u001b[0m\u001b[0;34m.\u001b[0m\u001b[0mastype\u001b[0m\u001b[0;34m(\u001b[0m\u001b[0;34m'float'\u001b[0m\u001b[0;34m)\u001b[0m \u001b[0;34m/\u001b[0m \u001b[0mcm\u001b[0m\u001b[0;34m.\u001b[0m\u001b[0msum\u001b[0m\u001b[0;34m(\u001b[0m\u001b[0maxis\u001b[0m\u001b[0;34m=\u001b[0m\u001b[0;36m1\u001b[0m\u001b[0;34m)\u001b[0m\u001b[0;34m[\u001b[0m\u001b[0;34m:\u001b[0m\u001b[0;34m,\u001b[0m \u001b[0mnp\u001b[0m\u001b[0;34m.\u001b[0m\u001b[0mnewaxis\u001b[0m\u001b[0;34m]\u001b[0m\u001b[0;34m\u001b[0m\u001b[0m\n\u001b[0m\u001b[1;32m     12\u001b[0m         \u001b[0mprint\u001b[0m\u001b[0;34m(\u001b[0m\u001b[0;34m\"Normalized confusion matrix\"\u001b[0m\u001b[0;34m)\u001b[0m\u001b[0;34m\u001b[0m\u001b[0m\n\u001b[1;32m     13\u001b[0m     \u001b[0;32melse\u001b[0m\u001b[0;34m:\u001b[0m\u001b[0;34m\u001b[0m\u001b[0m\n",
      "\u001b[0;31mAttributeError\u001b[0m: 'list' object has no attribute 'astype'"
     ]
    }
   ],
   "source": [
    "robert=[[42379.036,462.673],[127705.418,2252.873]]\n",
    "plot_confusion_matrix(robert, classes=class_names, normalize=True,\n",
    "                      title='Normalized confusion matrix')"
   ]
  },
  {
   "cell_type": "code",
   "execution_count": 4,
   "metadata": {},
   "outputs": [
    {
     "name": "stdout",
     "output_type": "stream",
     "text": [
      "Confusion matrix, without normalization\n",
      "[[0.984 0.016]\n",
      " [0.041 0.959]]\n"
     ]
    },
    {
     "data": {
      "image/png": "[encoded data removed]",
      "text/plain": [
       "<Figure size 432x288 with 2 Axes>"
      ]
     },
     "metadata": {},
     "output_type": "display_data"
    },
    {
     "name": "stdout",
     "output_type": "stream",
     "text": [
      "Normalized confusion matrix\n",
      "[[0.984 0.016]\n",
      " [0.041 0.959]]\n"
     ]
    },
    {
     "data": {
      "image/png": "[encoded data removed]",
      "text/plain": [
       "<Figure size 432x288 with 2 Axes>"
      ]
     },
     "metadata": {},
     "output_type": "display_data"
    },
    {
     "name": "stdout",
     "output_type": "stream",
     "text": [
      "Confusion matrix, without normalization\n",
      "[[0.989 0.011]\n",
      " [0.038 0.962]]\n"
     ]
    },
    {
     "data": {
      "image/png": "[encoded data removed]",
      "text/plain": [
       "<Figure size 432x288 with 2 Axes>"
      ]
     },
     "metadata": {},
     "output_type": "display_data"
    },
    {
     "name": "stdout",
     "output_type": "stream",
     "text": [
      "Normalized confusion matrix\n",
      "[[0.989 0.011]\n",
      " [0.038 0.962]]\n"
     ]
    },
    {
     "data": {
      "image/png": "[encoded data removed]",
      "text/plain": [
       "<Figure size 432x288 with 2 Axes>"
      ]
     },
     "metadata": {},
     "output_type": "display_data"
    },
    {
     "name": "stdout",
     "output_type": "stream",
     "text": [
      "Confusion matrix, without normalization\n",
      "[[0.97  0.03 ]\n",
      " [0.061 0.939]]\n"
     ]
    },
    {
     "data": {
      "image/png": "[encoded data removed]",
      "text/plain": [
       "<Figure size 432x288 with 2 Axes>"
      ]
     },
     "metadata": {},
     "output_type": "display_data"
    },
    {
     "name": "stdout",
     "output_type": "stream",
     "text": [
      "Normalized confusion matrix\n",
      "[[0.97  0.03 ]\n",
      " [0.061 0.939]]\n"
     ]
    },
    {
     "data": {
      "image/png": "[encoded data removed]",
      "text/plain": [
       "<Figure size 432x288 with 2 Axes>"
      ]
     },
     "metadata": {},
     "output_type": "display_data"
    }
   ],
   "source": [
    "##ROBERT'S CONFUSION MATRIX\n",
    "\n",
    "# print(cnf_matrix0)\n",
    "import numpy as np\n",
    "import matplotlib.pyplot as plt\n",
    "import itertools\n",
    "class_names=[1,0]\n",
    "cnf_matr_robert_all = np.array([[0.984,0.016],[0.041,0.959]])\n",
    "cnf_matr_robert_normal = np.array([[0.989,0.011],[0.038,0.962]])\n",
    "cnf_matr_robert_abnormal = np.array([[0.97,0.03],[0.061,0.939]])\n",
    "cnf_matr_robert_all\n",
    "plt.figure()\n",
    "plot_confusion_matrix(cnf_matr_robert_all, classes=class_names,\n",
    "                      title='Confusion matrix, without normalization')\n",
    "# plt.savefig('All_woNorm.png')\n",
    "plt.show()\n",
    "#np.set_printoptions(precision=4)\n",
    "# Plot normalized confusion matrix\n",
    "plt.figure()\n",
    "plot_confusion_matrix(cnf_matr_robert_all, classes=class_names, normalize=True,\n",
    "                      title='All Images')\n",
    "plt.show()\n",
    "# plt.savefig('All_Norm.png')\n",
    "plt.figure()\n",
    "plot_confusion_matrix(cnf_matr_robert_normal, classes=class_names,\n",
    "                      title='Confusion matrix, without normalization')\n",
    "plt.show()\n",
    "# plt.savefig('Normal_woNorm.png')\n",
    "#np.set_printoptions(precision=4)\n",
    "# Plot normalized confusion matrix\n",
    "plt.figure()\n",
    "plot_confusion_matrix(cnf_matr_robert_normal, classes=class_names, normalize=True,\n",
    "                      title='Normal Images')\n",
    "plt.show()\n",
    "# plt.savefig('Normal_Norm.png')\n",
    "plt.figure()\n",
    "plot_confusion_matrix(cnf_matr_robert_abnormal, classes=class_names,\n",
    "                      title='Confusion matrix, without normalization')\n",
    "plt.show()\n",
    "# plt.savefig('Abnormal_woNorm.png')\n",
    "#np.set_printoptions(precision=4)\n",
    "# Plot normalized confusion matrix\n",
    "plt.figure()\n",
    "plot_confusion_matrix(cnf_matr_robert_abnormal, classes=class_names, normalize=True,\n",
    "                      title='Abnormal Images')\n",
    "plt.show()\n",
    "# plt.savefig('Abnormal_Norm.png')"
   ]
  },
  {
   "cell_type": "code",
   "execution_count": 247,
   "metadata": {},
   "outputs": [
    {
     "data": {
      "text/plain": [
       "array([[ 735936.,   37537.],\n",
       "       [  50933., 2336682.]])"
      ]
     },
     "execution_count": 247,
     "metadata": {},
     "output_type": "execute_result"
    }
   ],
   "source": [
    "print(cnf_matrix0)\n",
    "class_names=[0,1]\n",
    "cnf_matr_robert_all = np.array([[127705.418,462.6],[2252.873,42379.036]])\n",
    "cnf_matr_robert_all\n",
    "plt.figure()\n",
    "plot_confusion_matrix(cnf_matr_robert_all, classes=class_names,\n",
    "                      title='Confusion matrix, without normalization')\n",
    "np.set_printoptions(precision=4)\n",
    "# Plot normalized confusion matrix\n",
    "plt.figure()\n",
    "plot_confusion_matrix(cnf_matr_robert_all, classes=class_names, normalize=True,\n",
    "                      title='Normal Images')"
   ]
  },
  {
   "cell_type": "code",
   "execution_count": null,
   "metadata": {
    "collapsed": true
   },
   "outputs": [],
   "source": []
  }
 ],
 "metadata": {
  "anaconda-cloud": {},
  "kernelspec": {
   "display_name": "Python 3",
   "language": "python",
   "name": "python3"
  },
  "language_info": {
   "codemirror_mode": {
    "name": "ipython",
    "version": 3
   },
   "file_extension": ".py",
   "mimetype": "text/x-python",
   "name": "python",
   "nbconvert_exporter": "python",
   "pygments_lexer": "ipython3",
   "version": "3.5.5"
  }
 },
 "nbformat": 4,
 "nbformat_minor": 2
}
