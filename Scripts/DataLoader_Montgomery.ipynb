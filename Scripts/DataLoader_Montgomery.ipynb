{
 "cells": [
  {
   "cell_type": "code",
   "execution_count": 5,
   "metadata": {},
   "outputs": [
    {
     "name": "stdout",
     "output_type": "stream",
     "text": [
      "Collecting opencv-python\n",
      "\u001b[?25l  Downloading https://files.pythonhosted.org/packages/0f/52/b268c43b96f309221be763a4870a15bd8609e68f60d029e01b37618b9327/opencv_python-3.4.1.15-cp35-cp35m-macosx_10_6_intel.macosx_10_9_intel.macosx_10_9_x86_64.macosx_10_10_intel.macosx_10_10_x86_64.whl (41.9MB)\n",
      "\u001b[K    100% |████████████████████████████████| 41.9MB 113kB/s ta 0:00:011    84% |███████████████████████████     | 35.4MB 2.1MB/s eta 0:00:04\n",
      "\u001b[?25hRequirement already satisfied: numpy>=1.11.1 in /Users/deepitapai/anaconda3/envs/py35/lib/python3.5/site-packages (from opencv-python) (1.14.3)\n",
      "\u001b[31mdistributed 1.21.8 requires msgpack, which is not installed.\u001b[0m\n",
      "Installing collected packages: opencv-python\n",
      "Successfully installed opencv-python-3.4.1.15\n"
     ]
    }
   ],
   "source": [
    "!pip install opencv-python"
   ]
  },
  {
   "cell_type": "code",
   "execution_count": 1,
   "metadata": {},
   "outputs": [],
   "source": [
    "import matplotlib.pyplot as plt\n",
    "from matplotlib import pyplot"
   ]
  },
  {
   "cell_type": "code",
   "execution_count": 2,
   "metadata": {},
   "outputs": [],
   "source": [
    "from __future__ import absolute_import\n",
    "from __future__ import print_function\n",
    "\n",
    "import cv2\n",
    "import numpy as np\n",
    "import itertools\n",
    "\n",
    "#from helper import *\n",
    "import os"
   ]
  },
  {
   "cell_type": "code",
   "execution_count": 19,
   "metadata": {},
   "outputs": [],
   "source": [
    "def normalized(rgb):\n",
    "    #return rgb/255.0\n",
    "    norm=np.zeros((rgb.shape[0], rgb.shape[1], 3),np.float32)\n",
    "\n",
    "    b=rgb[:,:,0]\n",
    "    g=rgb[:,:,1]\n",
    "    r=rgb[:,:,2]\n",
    "\n",
    "    norm[:,:,0]=cv2.equalizeHist(b)\n",
    "    norm[:,:,1]=cv2.equalizeHist(g)\n",
    "    norm[:,:,2]=cv2.equalizeHist(r)\n",
    "\n",
    "    return norm\n",
    "\n",
    "def one_hot_it(labels,w,h):\n",
    "    x = np.zeros([w,h,2])\n",
    "    for i in range(w):\n",
    "        for j in range(h):\n",
    "            x[i,j,labels[i][j]]=1\n",
    "    return x"
   ]
  },
  {
   "cell_type": "code",
   "execution_count": 20,
   "metadata": {},
   "outputs": [],
   "source": [
    "# Copy the data to this dir here in the SegNet project /CamVid from here:\n",
    "# https://github.com/alexgkendall/SegNet-Tutorial\n",
    "DataPath = './dataset_montgomery disease_labelled/'\n",
    "#data_shape = 360*480\n",
    "data_shape = 224*224\n",
    "\n",
    "\n",
    "def load_data(mode):\n",
    "    data = []\n",
    "    label = []\n",
    "    with open(DataPath + mode +'.txt') as f:\n",
    "        txt = f.readlines()\n",
    "        txt = [line.split(' ') for line in txt]\n",
    "    for i in range(len(txt)):\n",
    "        # data.append(np.rollaxis(normalized(cv2.imread(os.getcwd() + txt[i][0][7:])),2))\n",
    "        # this load cropped images\n",
    "        print(\"Test\",os.getcwd()+txt[i][0][0:])\n",
    "        data.append(np.rollaxis(normalized(cv2.imread(os.getcwd() + txt[i][0][0:])),2))\n",
    "        print(\"Test\",os.getcwd()+txt[i][0][0:])\n",
    "        #print(\"normalized\",normalized(cv2.imread(os.getcwd() + txt[i][0][0:])))\n",
    "        #label.append(one_hot_it(cv2.imread(os.getcwd() + txt[i][1][0:][:-1])[:,:,0],224,224))\n",
    "        label.append(cv2.imread(os.getcwd() + txt[i][1][0:][:-1])[:,:,0])\n",
    "        print(\"LABEL\",os.getcwd()+txt[i][1][0:][:-1])\n",
    "        print(\"set of unqiue!!\",set(label[-1].flatten()))\n",
    "        plt.imshow((np.resize(label[-1], (224,224))))\n",
    "        #print(os.getcwd() + txt[i][1][0:])\n",
    "        #print(os.getcwd() + txt[i][1][0:][:-1])\n",
    "        print('.',end='')\n",
    "    return np.array(data), np.array(label)"
   ]
  },
  {
   "cell_type": "code",
   "execution_count": 132,
   "metadata": {},
   "outputs": [],
   "source": [
    "#print((train_label).shape)\n"
   ]
  },
  {
   "cell_type": "code",
   "execution_count": 21,
   "metadata": {},
   "outputs": [
    {
     "name": "stdout",
     "output_type": "stream",
     "text": [
      "Test /Users/deepitapai/Documents/TUM/MLMIProject/One-Hundred-Layers-Tiramisu-master_1 copy/Users/deepitapai/Documents/TUM/MLMIProject/dataset_montgomery\n"
     ]
    },
    {
     "ename": "AttributeError",
     "evalue": "'NoneType' object has no attribute 'shape'",
     "output_type": "error",
     "traceback": [
      "\u001b[0;31m---------------------------------------------------------------------------\u001b[0m",
      "\u001b[0;31mAttributeError\u001b[0m                            Traceback (most recent call last)",
      "\u001b[0;32m<ipython-input-21-6bac5f11c99b>\u001b[0m in \u001b[0;36m<module>\u001b[0;34m()\u001b[0m\n\u001b[0;32m----> 1\u001b[0;31m \u001b[0mtrain_data\u001b[0m\u001b[0;34m,\u001b[0m \u001b[0mtrain_label\u001b[0m \u001b[0;34m=\u001b[0m \u001b[0mload_data\u001b[0m\u001b[0;34m(\u001b[0m\u001b[0;34m\"train\"\u001b[0m\u001b[0;34m)\u001b[0m\u001b[0;34m\u001b[0m\u001b[0m\n\u001b[0m\u001b[1;32m      2\u001b[0m \u001b[0mprint\u001b[0m\u001b[0;34m(\u001b[0m\u001b[0;34m(\u001b[0m\u001b[0mtrain_label\u001b[0m\u001b[0;34m)\u001b[0m\u001b[0;34m.\u001b[0m\u001b[0mshape\u001b[0m\u001b[0;34m)\u001b[0m\u001b[0;34m\u001b[0m\u001b[0m\n\u001b[1;32m      3\u001b[0m \u001b[0mtrain_label\u001b[0m \u001b[0;34m=\u001b[0m \u001b[0mnp\u001b[0m\u001b[0;34m.\u001b[0m\u001b[0mreshape\u001b[0m\u001b[0;34m(\u001b[0m\u001b[0mtrain_label\u001b[0m\u001b[0;34m,\u001b[0m\u001b[0;34m(\u001b[0m\u001b[0;36m442\u001b[0m\u001b[0;34m,\u001b[0m\u001b[0mdata_shape\u001b[0m\u001b[0;34m,\u001b[0m\u001b[0;36m1\u001b[0m\u001b[0;34m)\u001b[0m\u001b[0;34m)\u001b[0m\u001b[0;34m\u001b[0m\u001b[0m\n\u001b[1;32m      4\u001b[0m \u001b[0;34m\u001b[0m\u001b[0m\n\u001b[1;32m      5\u001b[0m \u001b[0mtest_data\u001b[0m\u001b[0;34m,\u001b[0m \u001b[0mtest_label\u001b[0m \u001b[0;34m=\u001b[0m \u001b[0mload_data\u001b[0m\u001b[0;34m(\u001b[0m\u001b[0;34m\"test\"\u001b[0m\u001b[0;34m)\u001b[0m\u001b[0;34m\u001b[0m\u001b[0m\n",
      "\u001b[0;32m<ipython-input-20-c6aa293235a2>\u001b[0m in \u001b[0;36mload_data\u001b[0;34m(mode)\u001b[0m\n\u001b[1;32m     16\u001b[0m         \u001b[0;31m# this load cropped images\u001b[0m\u001b[0;34m\u001b[0m\u001b[0;34m\u001b[0m\u001b[0m\n\u001b[1;32m     17\u001b[0m         \u001b[0mprint\u001b[0m\u001b[0;34m(\u001b[0m\u001b[0;34m\"Test\"\u001b[0m\u001b[0;34m,\u001b[0m\u001b[0mos\u001b[0m\u001b[0;34m.\u001b[0m\u001b[0mgetcwd\u001b[0m\u001b[0;34m(\u001b[0m\u001b[0;34m)\u001b[0m\u001b[0;34m+\u001b[0m\u001b[0mtxt\u001b[0m\u001b[0;34m[\u001b[0m\u001b[0mi\u001b[0m\u001b[0;34m]\u001b[0m\u001b[0;34m[\u001b[0m\u001b[0;36m0\u001b[0m\u001b[0;34m]\u001b[0m\u001b[0;34m[\u001b[0m\u001b[0;36m0\u001b[0m\u001b[0;34m:\u001b[0m\u001b[0;34m]\u001b[0m\u001b[0;34m)\u001b[0m\u001b[0;34m\u001b[0m\u001b[0m\n\u001b[0;32m---> 18\u001b[0;31m         \u001b[0mdata\u001b[0m\u001b[0;34m.\u001b[0m\u001b[0mappend\u001b[0m\u001b[0;34m(\u001b[0m\u001b[0mnp\u001b[0m\u001b[0;34m.\u001b[0m\u001b[0mrollaxis\u001b[0m\u001b[0;34m(\u001b[0m\u001b[0mnormalized\u001b[0m\u001b[0;34m(\u001b[0m\u001b[0mcv2\u001b[0m\u001b[0;34m.\u001b[0m\u001b[0mimread\u001b[0m\u001b[0;34m(\u001b[0m\u001b[0mos\u001b[0m\u001b[0;34m.\u001b[0m\u001b[0mgetcwd\u001b[0m\u001b[0;34m(\u001b[0m\u001b[0;34m)\u001b[0m \u001b[0;34m+\u001b[0m \u001b[0mtxt\u001b[0m\u001b[0;34m[\u001b[0m\u001b[0mi\u001b[0m\u001b[0;34m]\u001b[0m\u001b[0;34m[\u001b[0m\u001b[0;36m0\u001b[0m\u001b[0;34m]\u001b[0m\u001b[0;34m[\u001b[0m\u001b[0;36m0\u001b[0m\u001b[0;34m:\u001b[0m\u001b[0;34m]\u001b[0m\u001b[0;34m)\u001b[0m\u001b[0;34m)\u001b[0m\u001b[0;34m,\u001b[0m\u001b[0;36m2\u001b[0m\u001b[0;34m)\u001b[0m\u001b[0;34m)\u001b[0m\u001b[0;34m\u001b[0m\u001b[0m\n\u001b[0m\u001b[1;32m     19\u001b[0m         \u001b[0mprint\u001b[0m\u001b[0;34m(\u001b[0m\u001b[0;34m\"Test\"\u001b[0m\u001b[0;34m,\u001b[0m\u001b[0mos\u001b[0m\u001b[0;34m.\u001b[0m\u001b[0mgetcwd\u001b[0m\u001b[0;34m(\u001b[0m\u001b[0;34m)\u001b[0m\u001b[0;34m+\u001b[0m\u001b[0mtxt\u001b[0m\u001b[0;34m[\u001b[0m\u001b[0mi\u001b[0m\u001b[0;34m]\u001b[0m\u001b[0;34m[\u001b[0m\u001b[0;36m0\u001b[0m\u001b[0;34m]\u001b[0m\u001b[0;34m[\u001b[0m\u001b[0;36m0\u001b[0m\u001b[0;34m:\u001b[0m\u001b[0;34m]\u001b[0m\u001b[0;34m)\u001b[0m\u001b[0;34m\u001b[0m\u001b[0m\n\u001b[1;32m     20\u001b[0m         \u001b[0;31m#print(\"normalized\",normalized(cv2.imread(os.getcwd() + txt[i][0][0:])))\u001b[0m\u001b[0;34m\u001b[0m\u001b[0;34m\u001b[0m\u001b[0m\n",
      "\u001b[0;32m<ipython-input-19-1329d3f16804>\u001b[0m in \u001b[0;36mnormalized\u001b[0;34m(rgb)\u001b[0m\n\u001b[1;32m      1\u001b[0m \u001b[0;32mdef\u001b[0m \u001b[0mnormalized\u001b[0m\u001b[0;34m(\u001b[0m\u001b[0mrgb\u001b[0m\u001b[0;34m)\u001b[0m\u001b[0;34m:\u001b[0m\u001b[0;34m\u001b[0m\u001b[0m\n\u001b[1;32m      2\u001b[0m     \u001b[0;31m#return rgb/255.0\u001b[0m\u001b[0;34m\u001b[0m\u001b[0;34m\u001b[0m\u001b[0m\n\u001b[0;32m----> 3\u001b[0;31m     \u001b[0mnorm\u001b[0m\u001b[0;34m=\u001b[0m\u001b[0mnp\u001b[0m\u001b[0;34m.\u001b[0m\u001b[0mzeros\u001b[0m\u001b[0;34m(\u001b[0m\u001b[0;34m(\u001b[0m\u001b[0mrgb\u001b[0m\u001b[0;34m.\u001b[0m\u001b[0mshape\u001b[0m\u001b[0;34m[\u001b[0m\u001b[0;36m0\u001b[0m\u001b[0;34m]\u001b[0m\u001b[0;34m,\u001b[0m \u001b[0mrgb\u001b[0m\u001b[0;34m.\u001b[0m\u001b[0mshape\u001b[0m\u001b[0;34m[\u001b[0m\u001b[0;36m1\u001b[0m\u001b[0;34m]\u001b[0m\u001b[0;34m,\u001b[0m \u001b[0;36m3\u001b[0m\u001b[0;34m)\u001b[0m\u001b[0;34m,\u001b[0m\u001b[0mnp\u001b[0m\u001b[0;34m.\u001b[0m\u001b[0mfloat32\u001b[0m\u001b[0;34m)\u001b[0m\u001b[0;34m\u001b[0m\u001b[0m\n\u001b[0m\u001b[1;32m      4\u001b[0m \u001b[0;34m\u001b[0m\u001b[0m\n\u001b[1;32m      5\u001b[0m     \u001b[0mb\u001b[0m\u001b[0;34m=\u001b[0m\u001b[0mrgb\u001b[0m\u001b[0;34m[\u001b[0m\u001b[0;34m:\u001b[0m\u001b[0;34m,\u001b[0m\u001b[0;34m:\u001b[0m\u001b[0;34m,\u001b[0m\u001b[0;36m0\u001b[0m\u001b[0;34m]\u001b[0m\u001b[0;34m\u001b[0m\u001b[0m\n",
      "\u001b[0;31mAttributeError\u001b[0m: 'NoneType' object has no attribute 'shape'"
     ]
    }
   ],
   "source": [
    "train_data, train_label = load_data(\"train\")\n",
    "print((train_label).shape)\n",
    "train_label = np.reshape(train_label,(442,data_shape,1))\n",
    "\n",
    "test_data, test_label = load_data(\"test\")\n",
    "test_label = np.reshape(test_label,(110,data_shape,1))\n",
    "\n",
    "# val_data, val_label = load_data(\"val\")\n",
    "# val_label = np.reshape(val_label,(56,data_shape,1))\n",
    "\n",
    "\n",
    "\n",
    "#np.save(\"data/train_data_sample_test1\", train_data)\n",
    "#np.save(\"data/train_label_sample\", train_label)\n",
    "\n",
    "#np.save(\"data/test_data_sample\", test_data)\n",
    "#np.save(\"data/test_label_sample\", test_label)\n",
    "\n",
    "# np.save(\"data/val_data_sample\", val_data)\n",
    "# np.save(\"data/val_label_sample\", val_label)\n",
    "\n",
    "# FYI they are:\n",
    "# Sky = [128,128,128]\n",
    "# Building = [128,0,0]\n",
    "# Pole = [192,192,128]\n",
    "# Road_marking = [255,69,0]\n",
    "# Road = [128,64,128]\n",
    "# Pavement = [60,40,222]\n",
    "# Tree = [128,128,0]\n",
    "# SignSymbol = [192,128,128]\n",
    "# Fence = [64,64,128]\n",
    "# Car = [64,0,128]\n",
    "# Pedestrian = [64,64,0]\n",
    "# Bicyclist = [0,128,192]\n",
    "# Unlabelled = [0,0,0]"
   ]
  },
  {
   "cell_type": "code",
   "execution_count": 6,
   "metadata": {},
   "outputs": [],
   "source": [
    "np.save(\"data/train_data_828\", train_data)\n",
    "np.save(\"data/train_label_828\", train_label)\n",
    "\n",
    "np.save(\"data/test_data_828\", test_data)\n",
    "np.save(\"data/test_label_828\", test_label)\n",
    "\n",
    "# np.save(\"data/val_data\", val_data)\n",
    "# np.save(\"data/val_label\", val_label)"
   ]
  },
  {
   "cell_type": "code",
   "execution_count": 24,
   "metadata": {},
   "outputs": [
    {
     "data": {
      "text/plain": [
       "<matplotlib.image.AxesImage at 0x1246f7780>"
      ]
     },
     "execution_count": 24,
     "metadata": {},
     "output_type": "execute_result"
    },
    {
     "data": {
      "image/png": "[encoded data removed]",
      "text/plain": [
       "<Figure size 432x288 with 1 Axes>"
      ]
     },
     "metadata": {},
     "output_type": "display_data"
    }
   ],
   "source": [
    "# im = cv2.imread(os.getcwd() + '/MontgomerySet_Original/MergedMask_annotated_original/flipped_MCUCXR_0001_0.png')\n",
    "from matplotlib import pyplot\n",
    "im=pyplot.imread(os.getcwd() + '/MontgomerySet_Original/MergedMask_annotated_original/flipped_MCUCXR_0043_0.png')\n",
    "plt.imshow(im)"
   ]
  },
  {
   "cell_type": "code",
   "execution_count": 25,
   "metadata": {},
   "outputs": [
    {
     "data": {
      "text/plain": [
       "<matplotlib.image.AxesImage at 0x10d9e30b8>"
      ]
     },
     "execution_count": 25,
     "metadata": {},
     "output_type": "execute_result"
    },
    {
     "data": {
      "image/png": "[encoded data removed]",
      "text/plain": [
       "<Figure size 432x288 with 1 Axes>"
      ]
     },
     "metadata": {},
     "output_type": "display_data"
    }
   ],
   "source": [
    "from matplotlib import pyplot\n",
    "im=pyplot.imread(os.getcwd() + '/MontgomerySet_Original/MergedMask_annotated_original/flipped_MCUCXR_0043_0.png')\n",
    "plt.imshow(im)"
   ]
  },
  {
   "cell_type": "code",
   "execution_count": 110,
   "metadata": {},
   "outputs": [
    {
     "data": {
      "text/plain": [
       "'/Users/deepitapai/Documents/TUM/MLMI Project/One-Hundred-Layers-Tiramisu-master'"
      ]
     },
     "execution_count": 110,
     "metadata": {},
     "output_type": "execute_result"
    }
   ],
   "source": [
    "/Users/deepitapai/Documents/TUM/MLMI Project/One-Hundred-Layers-Tiramisu-master/MontgomerySet/MergedMask_annotated"
   ]
  },
  {
   "cell_type": "code",
   "execution_count": 124,
   "metadata": {},
   "outputs": [
    {
     "data": {
      "text/plain": [
       "'/Users/deepitapai/Documents/TUM/MLMI Project/One-Hundred-Layers-Tiramisu-master'"
      ]
     },
     "execution_count": 124,
     "metadata": {},
     "output_type": "execute_result"
    }
   ],
   "source": [
    "/Users/deepitapai/Documents/TUM/MLMI Project/One-Hundred-Layers-Tiramisu-master"
   ]
  },
  {
   "cell_type": "code",
   "execution_count": null,
   "metadata": {},
   "outputs": [],
   "source": [
    "/Users/deepitapai/Documents/TUM/MLMI Project/One-Hundred-Layers-Tiramisu-master/MontgomerySet_Original/MergedMask_annotated"
   ]
  },
  {
   "cell_type": "code",
   "execution_count": 3,
   "metadata": {},
   "outputs": [],
   "source": [
    "import os"
   ]
  },
  {
   "cell_type": "code",
   "execution_count": 18,
   "metadata": {},
   "outputs": [
    {
     "data": {
      "text/plain": [
       "'/Users/deepitapai/Documents/TUM/MLMIProject/One-Hundred-Layers-Tiramisu-master_1 copy'"
      ]
     },
     "execution_count": 18,
     "metadata": {},
     "output_type": "execute_result"
    }
   ],
   "source": [
    "os.getcwd()"
   ]
  },
  {
   "cell_type": "code",
   "execution_count": null,
   "metadata": {},
   "outputs": [],
   "source": []
  }
 ],
 "metadata": {
  "kernelspec": {
   "display_name": "Python 3",
   "language": "python",
   "name": "python3"
  },
  "language_info": {
   "codemirror_mode": {
    "name": "ipython",
    "version": 3
   },
   "file_extension": ".py",
   "mimetype": "text/x-python",
   "name": "python",
   "nbconvert_exporter": "python",
   "pygments_lexer": "ipython3",
   "version": "3.5.5"
  }
 },
 "nbformat": 4,
 "nbformat_minor": 2
}
