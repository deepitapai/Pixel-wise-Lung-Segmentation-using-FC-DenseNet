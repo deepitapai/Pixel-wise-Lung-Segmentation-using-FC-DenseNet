{
 "cells": [
  {
   "cell_type": "markdown",
   "metadata": {},
   "source": [
    "This notebook contains an implementation of the One Hundred Layers Tiramisu as described in Simon Jegou et al.'s paper [The One Hundred Layers Tiramisu: Fully Convolutional DenseNets for Semantic Segmentation](https://arxiv.org/abs/1611.09326). "
   ]
  },
  {
   "cell_type": "code",
   "execution_count": 13,
   "metadata": {},
   "outputs": [
    {
     "name": "stdout",
     "output_type": "stream",
     "text": [
      "Collecting keras\n",
      "  Using cached https://files.pythonhosted.org/packages/68/12/4cabc5c01451eb3b413d19ea151f36e33026fc0efb932bf51bcaf54acbf5/Keras-2.2.0-py2.py3-none-any.whl\n",
      "Requirement already satisfied: scipy>=0.14 in /home/leslie/mlmi/lib/python2.7/site-packages (from keras) (1.1.0)\n",
      "Requirement already satisfied: numpy>=1.9.1 in /home/leslie/mlmi/lib/python2.7/site-packages (from keras) (1.14.5)\n",
      "Requirement already satisfied: keras-preprocessing==1.0.1 in /home/leslie/mlmi/lib/python2.7/site-packages (from keras) (1.0.1)\n",
      "Requirement already satisfied: keras-applications==1.0.2 in /home/leslie/mlmi/lib/python2.7/site-packages (from keras) (1.0.2)\n",
      "Requirement already satisfied: six>=1.9.0 in /home/leslie/mlmi/lib/python2.7/site-packages (from keras) (1.11.0)\n",
      "Requirement already satisfied: pyyaml in /home/leslie/mlmi/lib/python2.7/site-packages (from keras) (3.12)\n",
      "Requirement already satisfied: h5py in /home/leslie/mlmi/lib/python2.7/site-packages (from keras) (2.8.0)\n",
      "Installing collected packages: keras\n",
      "Successfully installed keras-2.2.0\n"
     ]
    }
   ],
   "source": [
    "!pip install keras\n",
    "\n"
   ]
  },
  {
   "cell_type": "code",
   "execution_count": 1,
   "metadata": {},
   "outputs": [
    {
     "name": "stderr",
     "output_type": "stream",
     "text": [
      "Using TensorFlow backend.\n"
     ]
    }
   ],
   "source": [
    "import keras"
   ]
  },
  {
   "cell_type": "code",
   "execution_count": 2,
   "metadata": {},
   "outputs": [],
   "source": [
    "from keras.layers.convolutional import Conv2D, MaxPooling2D, UpSampling2D, Cropping2D\n",
    "from keras.regularizers import l2\n",
    "from keras.layers.normalization import BatchNormalization\n",
    "from keras.layers.core import Layer, Dense, Dropout, Activation, Flatten, Reshape, Permute\n",
    "from keras.layers import Conv2D, Conv2DTranspose, merge, concatenate"
   ]
  },
  {
   "cell_type": "code",
   "execution_count": 3,
   "metadata": {},
   "outputs": [],
   "source": [
    "%matplotlib inline\n",
    "import importlib\n",
    "# import utils2; importlib.reload(utils2)\n",
    "# from utils2 import *"
   ]
  },
  {
   "cell_type": "code",
   "execution_count": 4,
   "metadata": {},
   "outputs": [],
   "source": [
    "import warnings\n",
    "import matplotlib.pyplot as plt\n",
    "warnings.filterwarnings(\"ignore\",category=DeprecationWarning)\n",
    "import numpy as np\n",
    "import keras.backend as K"
   ]
  },
  {
   "cell_type": "code",
   "execution_count": 3,
   "metadata": {
    "collapsed": true
   },
   "outputs": [],
   "source": [
    "limit_mem()"
   ]
  },
  {
   "cell_type": "markdown",
   "metadata": {},
   "source": [
    "# Tiramisu / Camvid"
   ]
  },
  {
   "cell_type": "markdown",
   "metadata": {},
   "source": [
    "Tiramisu is a fully-convolutional neural network based on DenseNet architecture. It was designed as a state-of-the-art approach to semantic image segmentation.\n",
    "\n",
    "We're going to use the same dataset they did, CamVid.\n",
    "\n",
    "CamVid is a dataset of images from a video. It has ~ 600 images, so it's quite small, and given that it is from a video the information content of the dataset is small. \n",
    "\n",
    "We're going to train this Tiramisu network from scratch to segment the CamVid dataset. This seems extremely ambitious!"
   ]
  },
  {
   "cell_type": "markdown",
   "metadata": {},
   "source": [
    "## Setup"
   ]
  },
  {
   "cell_type": "markdown",
   "metadata": {},
   "source": [
    "Modify the following to point to the appropriate paths on your machine"
   ]
  },
  {
   "cell_type": "code",
   "execution_count": null,
   "metadata": {},
   "outputs": [],
   "source": [
    "# data_shape=224*224\n",
    "# train_data, train_label = load_data(\"train\")\n",
    "# print((train_label).shape)\n",
    "# train_label = np.reshape(train_label,(386,data_shape,1))\n",
    "\n",
    "# test_data, test_label = load_data(\"test\")\n",
    "# test_label = np.reshape(test_label,(110,data_shape,1))\n",
    "\n",
    "# val_data, val_label = load_data(\"val\")\n",
    "# val_label = np.reshape(val_label,(56,data_shape,1)"
   ]
  },
  {
   "cell_type": "code",
   "execution_count": 5,
   "metadata": {},
   "outputs": [
    {
     "name": "stdout",
     "output_type": "stream",
     "text": [
      "(442, 3, 224, 224)\n"
     ]
    }
   ],
   "source": [
    "train_data = np.load('./data/train_data.npy')\n",
    "print(train_data.shape)\n",
    "#train_data = train_data.reshape((367, 224, 224, 3))\n",
    "train_data = train_data.reshape((442, 224, 224, 3))\n",
    "#train_label =  np.load('./data/train_label.npy')#[:,:,:-1]\n",
    "train_label =  np.load('./data/train_label.npy')#[:,:,:-1]\n",
    "\n",
    "\n",
    "# test_data = np.load('./data/test_data.npy')\n",
    "test_data = np.load('./data/test_data.npy')\n",
    "# test_data = test_data.reshape((233, 224, 224, 3))\n",
    "test_data = test_data.reshape((110, 224, 224, 3))\n",
    "\n",
    "\n",
    "# test_label = np.load('./data/test_label.npy')#[:,:,:-1]\n",
    "test_label = np.load('./data/test_label.npy')#[:,:,:-1]"
   ]
  },
  {
   "cell_type": "code",
   "execution_count": 73,
   "metadata": {},
   "outputs": [
    {
     "data": {
      "text/plain": [
       "(50176, 1)"
      ]
     },
     "execution_count": 73,
     "metadata": {},
     "output_type": "execute_result"
    }
   ],
   "source": [
    "# train_label[0].flatten().shape\n",
    "train_label[0].shape"
   ]
  },
  {
   "cell_type": "code",
   "execution_count": 71,
   "metadata": {},
   "outputs": [
    {
     "data": {
      "image/png": "[encoded data removed]",
      "text/plain": [
       "<Figure size 432x288 with 1 Axes>"
      ]
     },
     "metadata": {},
     "output_type": "display_data"
    }
   ],
   "source": [
    "plt.imshow(train_data[0]);\n",
    "# plt.imshow(train_label[0].flatten().reshape(224,224));"
   ]
  },
  {
   "cell_type": "markdown",
   "metadata": {},
   "source": [
    "The images in CamVid come with labels defining the segments of the input image. We're going to load both the images and the labels."
   ]
  },
  {
   "cell_type": "markdown",
   "metadata": {},
   "source": [
    "Helper function to resize images."
   ]
  },
  {
   "cell_type": "markdown",
   "metadata": {},
   "source": [
    "Normalize pixel values."
   ]
  },
  {
   "cell_type": "markdown",
   "metadata": {},
   "source": [
    "Save array for easier use."
   ]
  },
  {
   "cell_type": "markdown",
   "metadata": {},
   "source": [
    "Standardize"
   ]
  },
  {
   "cell_type": "markdown",
   "metadata": {},
   "source": [
    "## Preprocessing"
   ]
  },
  {
   "cell_type": "markdown",
   "metadata": {},
   "source": [
    "### Generator"
   ]
  },
  {
   "cell_type": "markdown",
   "metadata": {},
   "source": [
    "This implementation employs data augmentation on CamVid. \n",
    "\n",
    "Augmentation includes random cropping / horizontal flipping, as done by `segm_generator()`. `BatchIndices()` lets us randomly sample batches from input array."
   ]
  },
  {
   "cell_type": "markdown",
   "metadata": {},
   "source": [
    "As an example, here's a crop of the first image."
   ]
  },
  {
   "cell_type": "markdown",
   "metadata": {},
   "source": [
    "### Convert labels"
   ]
  },
  {
   "cell_type": "markdown",
   "metadata": {},
   "source": [
    "The following loads, parses, and converts the segment labels we need for targets.\n",
    "\n",
    "In particular we're looking to make the segmented targets into integers for classification purposes."
   ]
  },
  {
   "cell_type": "markdown",
   "metadata": {},
   "source": [
    "Each segment / category is indicated by a particular color. The following maps each unique pixel to it's category."
   ]
  },
  {
   "cell_type": "markdown",
   "metadata": {},
   "source": [
    "We're going to map each unique pixel color to an integer so we can classify w/ our NN. (Think how a fill-in-the color image looks)"
   ]
  },
  {
   "cell_type": "markdown",
   "metadata": {},
   "source": [
    "We'll include an integer for erroneous pixel values."
   ]
  },
  {
   "cell_type": "markdown",
   "metadata": {},
   "source": [
    "Now we'll create integer-mapped labels for all our colored images."
   ]
  },
  {
   "cell_type": "markdown",
   "metadata": {},
   "source": [
    "Set erroneous pixels to zero."
   ]
  },
  {
   "cell_type": "markdown",
   "metadata": {},
   "source": [
    "Here is an example of how the segmented image looks."
   ]
  },
  {
   "cell_type": "markdown",
   "metadata": {},
   "source": [
    "### Test set"
   ]
  },
  {
   "cell_type": "markdown",
   "metadata": {},
   "source": [
    "Next we load test set, set training/test images and labels."
   ]
  },
  {
   "cell_type": "code",
   "execution_count": 6,
   "metadata": {},
   "outputs": [],
   "source": [
    "rnd_trn = len(train_label)\n",
    "rnd_test = len(test_label)"
   ]
  },
  {
   "cell_type": "markdown",
   "metadata": {},
   "source": [
    "## The Tiramisu"
   ]
  },
  {
   "cell_type": "markdown",
   "metadata": {},
   "source": [
    "Now that we've prepared our data, we're ready to introduce the Tiramisu.\n",
    "\n",
    "Conventional CNN's for image segmentation are very similar to the kind we looked at for style transfer. Recall that it involved convolutions with downsampling (stride 2, pooling) to increase the receptive field, followed by upsampling with deconvolutions until reaching the original side. \n",
    "\n",
    "Tiramisu uses a similar down / up architecture, but with some key caveats.\n",
    "\n",
    "As opposed to normal convolutional layers, Tiramisu uses the DenseNet method of concatenating inputs to outputs. Tiramisu also uses *skip connections* from the downsampling branch to the upsampling branch.\n",
    "\n",
    "Specifically, the *skip connection* functions by concatenating the output of a Dense block in the down-sampling branch **onto** the input of the corresponding Dense block in the upsampling branch. By \"corresponding\", we mean the down-sample/up-sample Dense blocks that are equidistant from the input / output respectively.\n",
    "\n",
    "One way of interpreting this architecture is that by re-introducing earlier stages of the network to later stages, we're forcing the network to \"remember\" the finer details of the input image."
   ]
  },
  {
   "cell_type": "markdown",
   "metadata": {},
   "source": [
    "### The pieces"
   ]
  },
  {
   "cell_type": "markdown",
   "metadata": {},
   "source": [
    "This should all be familiar."
   ]
  },
  {
   "cell_type": "code",
   "execution_count": 7,
   "metadata": {},
   "outputs": [],
   "source": [
    "def relu(x): return Activation('relu')(x)\n",
    "def dropout(x, p): return Dropout(p)(x) if p else x\n",
    "def bn(x): return BatchNormalization(mode=0, axis=-1)(x)\n",
    "def relu_bn(x): return relu(bn(x))\n",
    "# def concat(xs): return merge(xs, mode='concat', concat_axis=-1)\n",
    "def concat(xs): return concatenate(xs,axis=-1)"
   ]
  },
  {
   "cell_type": "code",
   "execution_count": 8,
   "metadata": {},
   "outputs": [],
   "source": [
    "def conv(x, nf, sz, wd, p, stride=1): \n",
    "    x = Conv2D(nf, sz, sz, init='he_uniform', border_mode='same', \n",
    "                      subsample=(stride,stride), W_regularizer=l2(wd))(x)\n",
    "    return dropout(x, p)\n",
    "\n",
    "def conv_relu_bn(x, nf, sz=3, wd=0, p=0, stride=1): \n",
    "    return conv(relu_bn(x), nf, sz, wd=wd, p=p, stride=stride)"
   ]
  },
  {
   "cell_type": "markdown",
   "metadata": {},
   "source": [
    "Recall the dense block from DenseNet."
   ]
  },
  {
   "cell_type": "code",
   "execution_count": 9,
   "metadata": {},
   "outputs": [],
   "source": [
    "def dense_block(n,x,growth_rate,p,wd):\n",
    "    added = []\n",
    "    for i in range(n):\n",
    "        b = conv_relu_bn(x, growth_rate, p=p, wd=wd)\n",
    "        c=Conv2D(x, kernel_size=(1, 1), padding='same',\n",
    "                                  kernel_initializer=\"he_uniform\")\n",
    "        added.append(b)\n",
    "    return x,added"
   ]
  },
  {
   "cell_type": "markdown",
   "metadata": {},
   "source": [
    "This is the downsampling transition. \n",
    "\n",
    "In the original paper, downsampling consists of 1x1 convolution followed by max pooling. However we've found a stride 2 1x1 convolution to give better results."
   ]
  },
  {
   "cell_type": "code",
   "execution_count": 10,
   "metadata": {},
   "outputs": [],
   "source": [
    "def transition_dn(x, p, wd):\n",
    "#     x = conv_relu_bn(x, x.get_shape().as_list()[-1], sz=1, p=p, wd=wd)\n",
    "#     return MaxPooling2D(strides=(2, 2))(x)\n",
    "    return conv_relu_bn(x, x.get_shape().as_list()[-1], sz=1, p=p, wd=wd, stride=2)"
   ]
  },
  {
   "cell_type": "markdown",
   "metadata": {},
   "source": [
    "Next we build the entire downward path, keeping track of Dense block outputs in a list called `skip`. "
   ]
  },
  {
   "cell_type": "code",
   "execution_count": 11,
   "metadata": {},
   "outputs": [],
   "source": [
    "def down_path(x, nb_layers, growth_rate, p, wd):\n",
    "    skips = []\n",
    "    for i,n in enumerate(nb_layers):\n",
    "        x,added = dense_block(n,x,growth_rate,p,wd)\n",
    "        skips.append(x)\n",
    "        x = transition_dn(x, p=p, wd=wd)\n",
    "    return skips, added"
   ]
  },
  {
   "cell_type": "markdown",
   "metadata": {},
   "source": [
    "This is the upsampling transition. We use a deconvolution layer."
   ]
  },
  {
   "cell_type": "code",
   "execution_count": 12,
   "metadata": {},
   "outputs": [],
   "source": [
    "def transition_up(added, wd=0):\n",
    "    x = concat(added)\n",
    "    _,r,c,ch = x.get_shape().as_list()\n",
    "    return Conv2DTranspose(ch, 3, 3, (None,r*2,c*2,ch), init='he_uniform', \n",
    "               border_mode='same', subsample=(2,2), W_regularizer=l2(wd))(x)\n",
    "#     x = UpSampling2D()(x)\n",
    "#     return conv(x, ch, 2, wd, 0)"
   ]
  },
  {
   "cell_type": "markdown",
   "metadata": {},
   "source": [
    "This builds our upward path, concatenating the skip connections from `skip` to the Dense block inputs as mentioned."
   ]
  },
  {
   "cell_type": "code",
   "execution_count": 13,
   "metadata": {},
   "outputs": [],
   "source": [
    "def up_path(added, skips, nb_layers, growth_rate, p, wd):\n",
    "    for i,n in enumerate(nb_layers):\n",
    "        x = transition_up(added, wd)\n",
    "        x = concat([x,skips[i]])\n",
    "#         x = x+skips[i]\n",
    "        x,added = dense_block(n,x,growth_rate,p,wd)\n",
    "    return x"
   ]
  },
  {
   "cell_type": "markdown",
   "metadata": {},
   "source": [
    "### Build the tiramisu model"
   ]
  },
  {
   "cell_type": "markdown",
   "metadata": {},
   "source": [
    "- nb_classes: number of classes\n",
    "- img_input: tuple of shape (channels, rows, columns) or (rows, columns, channels)\n",
    "- depth: number or layers\n",
    "- nb_dense_block: number of dense blocks to add to end (generally = 3)\n",
    "- growth_rate: number of filters to add per dense block\n",
    "- nb_filter:  initial number of filters\n",
    "- nb_layers_per_block: number of layers in each dense block.\n",
    "  - If positive integer, a set number of layers per dense block.\n",
    "  - If list, nb_layer is used as provided\n",
    "- p: dropout rate\n",
    "- wd: weight decay"
   ]
  },
  {
   "cell_type": "code",
   "execution_count": 14,
   "metadata": {},
   "outputs": [],
   "source": [
    "def reverse(a): return list(reversed(a))"
   ]
  },
  {
   "cell_type": "markdown",
   "metadata": {},
   "source": [
    "Finally we put together the entire network."
   ]
  },
  {
   "cell_type": "code",
   "execution_count": 17,
   "metadata": {},
   "outputs": [],
   "source": [
    "#USE THIS FOR SOFTMAX ACTIVATION\n",
    "# def create_tiramisu(nb_classes, img_input, nb_dense_block=6, \n",
    "#     growth_rate=16, nb_filter=48, nb_layers_per_block=5, p=None, wd=0):\n",
    "    \n",
    "#     if type(nb_layers_per_block) is list or type(nb_layers_per_block) is tuple:\n",
    "#         nb_layers = list(nb_layers_per_block)\n",
    "#     else: nb_layers = [nb_layers_per_block] * nb_dense_block\n",
    "\n",
    "#     x = conv(img_input, nb_filter, 3, wd, 0)\n",
    "#     skips,added = down_path(x, nb_layers, growth_rate, p, wd)\n",
    "#     x = up_path(added, reverse(skips[:-1]), reverse(nb_layers[:-1]), growth_rate, p, wd)\n",
    "    \n",
    "#     x = conv(x, nb_classes, 1, wd, 0)\n",
    "#     _,r,c,f = x.get_shape().as_list()\n",
    "#     x = Reshape((-1, nb_classes))(x)\n",
    "#     return Activation('softmax')(x)"
   ]
  },
  {
   "cell_type": "code",
   "execution_count": 15,
   "metadata": {},
   "outputs": [],
   "source": [
    "#MODEL FOR SIGMOID ACTIVATION\n",
    "def create_tiramisu(nb_classes, img_input, nb_dense_block=6, \n",
    "    growth_rate=16, nb_filter=48, nb_layers_per_block=5, p=None, wd=0):\n",
    "    \n",
    "    if type(nb_layers_per_block) is list or type(nb_layers_per_block) is tuple:\n",
    "        nb_layers = list(nb_layers_per_block)\n",
    "    else: nb_layers = [nb_layers_per_block] * nb_dense_block\n",
    "\n",
    "    x = conv(img_input, nb_filter, 3, wd, 0)\n",
    "    skips,added = down_path(x, nb_layers, growth_rate, p, wd)\n",
    "    x = up_path(added, reverse(skips[:-1]), reverse(nb_layers[:-1]), growth_rate, p, wd)\n",
    "    \n",
    "    x = conv(x, nb_classes, 1, wd, 0)\n",
    "    _,r,c,f = x.get_shape().as_list()\n",
    "    x = Reshape((-1, nb_classes))(x)\n",
    "    print(x.shape)\n",
    "    print(x.get_shape().as_list())\n",
    "    return Activation('sigmoid')(x)"
   ]
  },
  {
   "cell_type": "markdown",
   "metadata": {
    "collapsed": true
   },
   "source": [
    "## Train"
   ]
  },
  {
   "cell_type": "markdown",
   "metadata": {},
   "source": [
    "Now we can train. \n",
    "\n",
    "These architectures can take quite some time to train."
   ]
  },
  {
   "cell_type": "code",
   "execution_count": 55,
   "metadata": {
    "collapsed": true
   },
   "outputs": [],
   "source": [
    "limit_mem()"
   ]
  },
  {
   "cell_type": "code",
   "execution_count": 16,
   "metadata": {},
   "outputs": [],
   "source": [
    "input_shape = (224,224,3)"
   ]
  },
  {
   "cell_type": "code",
   "execution_count": 17,
   "metadata": {
    "scrolled": true
   },
   "outputs": [],
   "source": [
    "img_input = keras.Input(shape=input_shape)"
   ]
  },
  {
   "cell_type": "code",
   "execution_count": 18,
   "metadata": {
    "scrolled": true
   },
   "outputs": [
    {
     "name": "stderr",
     "output_type": "stream",
     "text": [
      "/home/leslie/mlmi/lib/python2.7/site-packages/ipykernel_launcher.py:3: UserWarning: Update your `Conv2D` call to the Keras 2 API: `Conv2D(48, (3, 3), kernel_initializer=\"he_uniform\", padding=\"same\", strides=(1, 1), kernel_regularizer=<keras.reg...)`\n",
      "  This is separate from the ipykernel package so we can avoid doing imports until\n",
      "/home/leslie/mlmi/lib/python2.7/site-packages/ipykernel_launcher.py:3: UserWarning: Update your `BatchNormalization` call to the Keras 2 API: `BatchNormalization(axis=-1)`\n",
      "  This is separate from the ipykernel package so we can avoid doing imports until\n",
      "/home/leslie/mlmi/lib/python2.7/site-packages/ipykernel_launcher.py:3: UserWarning: Update your `Conv2D` call to the Keras 2 API: `Conv2D(16, (3, 3), kernel_initializer=\"he_uniform\", padding=\"same\", strides=(1, 1), kernel_regularizer=<keras.reg...)`\n",
      "  This is separate from the ipykernel package so we can avoid doing imports until\n",
      "/home/leslie/mlmi/lib/python2.7/site-packages/ipykernel_launcher.py:3: UserWarning: Update your `Conv2D` call to the Keras 2 API: `Conv2D(48, (1, 1), kernel_initializer=\"he_uniform\", padding=\"same\", strides=(2, 2), kernel_regularizer=<keras.reg...)`\n",
      "  This is separate from the ipykernel package so we can avoid doing imports until\n",
      "/home/leslie/mlmi/lib/python2.7/site-packages/ipykernel_launcher.py:5: UserWarning: Update your `Conv2DTranspose` call to the Keras 2 API: `Conv2DTranspose(240, (3, 3), kernel_initializer=\"he_uniform\", padding=\"same\", strides=(2, 2), kernel_regularizer=<keras.reg...)`\n",
      "  \"\"\"\n",
      "/home/leslie/mlmi/lib/python2.7/site-packages/ipykernel_launcher.py:5: UserWarning: Update your `Conv2DTranspose` call to the Keras 2 API: `Conv2DTranspose(192, (3, 3), kernel_initializer=\"he_uniform\", padding=\"same\", strides=(2, 2), kernel_regularizer=<keras.reg...)`\n",
      "  \"\"\"\n",
      "/home/leslie/mlmi/lib/python2.7/site-packages/ipykernel_launcher.py:5: UserWarning: Update your `Conv2DTranspose` call to the Keras 2 API: `Conv2DTranspose(160, (3, 3), kernel_initializer=\"he_uniform\", padding=\"same\", strides=(2, 2), kernel_regularizer=<keras.reg...)`\n",
      "  \"\"\"\n",
      "/home/leslie/mlmi/lib/python2.7/site-packages/ipykernel_launcher.py:5: UserWarning: Update your `Conv2DTranspose` call to the Keras 2 API: `Conv2DTranspose(112, (3, 3), kernel_initializer=\"he_uniform\", padding=\"same\", strides=(2, 2), kernel_regularizer=<keras.reg...)`\n",
      "  \"\"\"\n",
      "/home/leslie/mlmi/lib/python2.7/site-packages/ipykernel_launcher.py:5: UserWarning: Update your `Conv2DTranspose` call to the Keras 2 API: `Conv2DTranspose(80, (3, 3), kernel_initializer=\"he_uniform\", padding=\"same\", strides=(2, 2), kernel_regularizer=<keras.reg...)`\n",
      "  \"\"\"\n"
     ]
    },
    {
     "name": "stdout",
     "output_type": "stream",
     "text": [
      "(?, ?, 1)\n",
      "[None, None, 1]\n"
     ]
    },
    {
     "name": "stderr",
     "output_type": "stream",
     "text": [
      "/home/leslie/mlmi/lib/python2.7/site-packages/ipykernel_launcher.py:3: UserWarning: Update your `Conv2D` call to the Keras 2 API: `Conv2D(1, (1, 1), kernel_initializer=\"he_uniform\", padding=\"same\", strides=(1, 1), kernel_regularizer=<keras.reg...)`\n",
      "  This is separate from the ipykernel package so we can avoid doing imports until\n"
     ]
    }
   ],
   "source": [
    "x = create_tiramisu(1, img_input, nb_layers_per_block=[4,5,7,10,12,15], p=0.2, wd=1e-4)"
   ]
  },
  {
   "cell_type": "code",
   "execution_count": 19,
   "metadata": {
    "scrolled": true
   },
   "outputs": [],
   "source": [
    "model3 = keras.Model(img_input, x)"
   ]
  },
  {
   "cell_type": "code",
   "execution_count": null,
   "metadata": {},
   "outputs": [],
   "source": [
    "def iou_coef(y_true, y_pred, smooth=1):\n",
    "    \"\"\"\n",
    "    IoU = (|X & Y|)/ (|X or Y|)\n",
    "    \"\"\"\n",
    "    intersection = K.sum(K.abs(y_true * y_pred), axis=-1)\n",
    "    union = K.sum(y_true,-1) + K.sum(y_pred,-1) - intersection\n",
    "    return (intersection + smooth) / ( union + smooth)\n",
    "\n",
    "def iou_coef_loss(y_true, y_pred):\n",
    "    return iou_coef(y_true, y_pred)"
   ]
  },
  {
   "cell_type": "code",
   "execution_count": 20,
   "metadata": {},
   "outputs": [],
   "source": [
    "# model.compile(loss='sparse_categorical_crossentropy', \n",
    "#               optimizer=keras.optimizers.RMSprop(1e-3), metrics=[\"accuracy\"])\n",
    "# USING BINARY CROSSENTROPY FOR OUR TWO CLASS LUNG SEGMENTATION\n",
    "#ACCURACY CURVE\n",
    "model3.compile(loss='binary_crossentropy', \n",
    "              optimizer=keras.optimizers.RMSprop(1e-3), metrics=[\"accuracy\"])\n",
    "\n",
    "# USE THIS TO CALCULATE IOU CURVE\n",
    "# model3.compile(loss='binary_crossentropy', \n",
    "#              optimizer=keras.optimizers.RMSprop(1e-3), metrics=[\"iou_coef_loss\"])"
   ]
  },
  {
   "cell_type": "code",
   "execution_count": 21,
   "metadata": {},
   "outputs": [],
   "source": [
    "#model3.optimizer=keras.optimizers.RMSprop(1e-3, decay=1-0.99995)"
   ]
  },
  {
   "cell_type": "code",
   "execution_count": 22,
   "metadata": {},
   "outputs": [],
   "source": [
    "K.set_value(model3.optimizer.lr, 1e-3) #try lr of 1e-2, 1e-4. no improvement with 1e-2, smoother and improved iou with 1e-4\n",
    "batch_size = 5 #try with batch_size=10,20,30. 10 gives no improvement\n",
    "nb_epoch=400 #try with more epochs. but overfits with 800. Training 400 epochs took 2 hrs"
   ]
  },
  {
   "cell_type": "code",
   "execution_count": 23,
   "metadata": {
    "scrolled": false
   },
   "outputs": [
    {
     "name": "stdout",
     "output_type": "stream",
     "text": [
      "Train on 442 samples, validate on 110 samples\n",
      "Epoch 1/400\n",
      " - 21s - loss: 3.6352 - acc: 0.7463 - val_loss: 2.7970 - val_acc: 0.8329\n",
      "Epoch 2/400\n",
      " - 15s - loss: 2.2524 - acc: 0.8452 - val_loss: 2.2340 - val_acc: 0.8630\n",
      "Epoch 3/400\n",
      " - 15s - loss: 2.0253 - acc: 0.8567 - val_loss: 2.0777 - val_acc: 0.8736\n",
      "Epoch 4/400\n",
      " - 15s - loss: 1.8032 - acc: 0.8696 - val_loss: 2.0308 - val_acc: 0.8769\n",
      "Epoch 5/400\n",
      " - 15s - loss: 1.7137 - acc: 0.8775 - val_loss: 2.2848 - val_acc: 0.8314\n",
      "Epoch 6/400\n",
      " - 15s - loss: 1.5795 - acc: 0.8814 - val_loss: 1.7386 - val_acc: 0.8601\n",
      "Epoch 7/400\n",
      " - 15s - loss: 1.5277 - acc: 0.8859 - val_loss: 1.4798 - val_acc: 0.8791\n",
      "Epoch 8/400\n",
      " - 15s - loss: 1.4735 - acc: 0.8887 - val_loss: 1.3572 - val_acc: 0.8966\n",
      "Epoch 9/400\n",
      " - 15s - loss: 1.4205 - acc: 0.8899 - val_loss: 1.3262 - val_acc: 0.8630\n",
      "Epoch 10/400\n",
      " - 15s - loss: 1.3280 - acc: 0.8944 - val_loss: 1.3774 - val_acc: 0.8946\n",
      "Epoch 11/400\n",
      " - 15s - loss: 1.2858 - acc: 0.8960 - val_loss: 1.2323 - val_acc: 0.8841\n",
      "Epoch 12/400\n",
      " - 15s - loss: 1.2521 - acc: 0.9004 - val_loss: 1.3880 - val_acc: 0.8863\n",
      "Epoch 13/400\n",
      " - 15s - loss: 1.2077 - acc: 0.9014 - val_loss: 1.3879 - val_acc: 0.9017\n",
      "Epoch 14/400\n",
      " - 15s - loss: 1.1878 - acc: 0.9049 - val_loss: 1.2849 - val_acc: 0.8869\n",
      "Epoch 15/400\n",
      " - 15s - loss: 1.1316 - acc: 0.9069 - val_loss: 2.8312 - val_acc: 0.7556\n",
      "Epoch 16/400\n",
      " - 15s - loss: 1.1166 - acc: 0.9056 - val_loss: 1.8998 - val_acc: 0.8408\n",
      "Epoch 17/400\n",
      " - 15s - loss: 1.1138 - acc: 0.9082 - val_loss: 1.0214 - val_acc: 0.9145\n",
      "Epoch 18/400\n",
      " - 15s - loss: 1.0715 - acc: 0.9078 - val_loss: 1.0508 - val_acc: 0.9147\n",
      "Epoch 19/400\n",
      " - 15s - loss: 1.0222 - acc: 0.9111 - val_loss: 1.3437 - val_acc: 0.8889\n",
      "Epoch 20/400\n",
      " - 15s - loss: 0.9869 - acc: 0.9130 - val_loss: 0.9756 - val_acc: 0.8915\n",
      "Epoch 21/400\n",
      " - 15s - loss: 0.9864 - acc: 0.9126 - val_loss: 1.0065 - val_acc: 0.9229\n",
      "Epoch 22/400\n",
      " - 15s - loss: 0.9232 - acc: 0.9167 - val_loss: 2.1278 - val_acc: 0.8199\n",
      "Epoch 23/400\n",
      " - 15s - loss: 0.9239 - acc: 0.9150 - val_loss: 1.4802 - val_acc: 0.8746\n",
      "Epoch 24/400\n",
      " - 15s - loss: 0.9224 - acc: 0.9165 - val_loss: 1.1059 - val_acc: 0.9067\n",
      "Epoch 25/400\n",
      " - 15s - loss: 0.8908 - acc: 0.9191 - val_loss: 0.7816 - val_acc: 0.9330\n",
      "Epoch 26/400\n",
      " - 15s - loss: 0.8740 - acc: 0.9191 - val_loss: 0.7814 - val_acc: 0.9266\n",
      "Epoch 27/400\n",
      " - 15s - loss: 0.8520 - acc: 0.9206 - val_loss: 0.9324 - val_acc: 0.9285\n",
      "Epoch 28/400\n",
      " - 15s - loss: 0.8378 - acc: 0.9224 - val_loss: 0.7524 - val_acc: 0.9284\n",
      "Epoch 29/400\n",
      " - 15s - loss: 0.8368 - acc: 0.9219 - val_loss: 0.9176 - val_acc: 0.9203\n",
      "Epoch 30/400\n",
      " - 15s - loss: 0.7822 - acc: 0.9254 - val_loss: 0.7762 - val_acc: 0.8977\n",
      "Epoch 31/400\n",
      " - 15s - loss: 0.7763 - acc: 0.9272 - val_loss: 1.5309 - val_acc: 0.8592\n",
      "Epoch 32/400\n",
      " - 15s - loss: 0.7940 - acc: 0.9257 - val_loss: 0.7381 - val_acc: 0.9297\n",
      "Epoch 33/400\n",
      " - 15s - loss: 0.7775 - acc: 0.9259 - val_loss: 0.9573 - val_acc: 0.9187\n",
      "Epoch 34/400\n",
      " - 16s - loss: 0.7611 - acc: 0.9280 - val_loss: 0.7390 - val_acc: 0.9359\n",
      "Epoch 35/400\n",
      " - 16s - loss: 0.7307 - acc: 0.9292 - val_loss: 0.6673 - val_acc: 0.9315\n",
      "Epoch 36/400\n",
      " - 15s - loss: 0.7359 - acc: 0.9292 - val_loss: 0.9266 - val_acc: 0.9105\n",
      "Epoch 37/400\n",
      " - 15s - loss: 0.7276 - acc: 0.9272 - val_loss: 0.8229 - val_acc: 0.9276\n",
      "Epoch 38/400\n",
      " - 15s - loss: 0.7020 - acc: 0.9299 - val_loss: 1.1159 - val_acc: 0.9066\n",
      "Epoch 39/400\n",
      " - 15s - loss: 0.6826 - acc: 0.9317 - val_loss: 1.6128 - val_acc: 0.8356\n",
      "Epoch 40/400\n",
      " - 15s - loss: 0.7397 - acc: 0.9256 - val_loss: 0.7028 - val_acc: 0.9354\n",
      "Epoch 41/400\n",
      " - 15s - loss: 0.6546 - acc: 0.9325 - val_loss: 1.2222 - val_acc: 0.8833\n",
      "Epoch 42/400\n",
      " - 15s - loss: 0.6678 - acc: 0.9324 - val_loss: 0.8675 - val_acc: 0.9054\n",
      "Epoch 43/400\n",
      " - 15s - loss: 0.6601 - acc: 0.9333 - val_loss: 1.5412 - val_acc: 0.8568\n",
      "Epoch 44/400\n",
      " - 15s - loss: 0.6370 - acc: 0.9338 - val_loss: 0.4703 - val_acc: 0.9374\n",
      "Epoch 45/400\n",
      " - 15s - loss: 0.6630 - acc: 0.9313 - val_loss: 0.6036 - val_acc: 0.9352\n",
      "Epoch 46/400\n",
      " - 15s - loss: 0.6359 - acc: 0.9347 - val_loss: 0.7598 - val_acc: 0.9275\n",
      "Epoch 47/400\n",
      " - 15s - loss: 0.6444 - acc: 0.9341 - val_loss: 0.6406 - val_acc: 0.9257\n",
      "Epoch 48/400\n",
      " - 15s - loss: 0.6241 - acc: 0.9345 - val_loss: 1.0493 - val_acc: 0.9052\n",
      "Epoch 49/400\n",
      " - 15s - loss: 0.6204 - acc: 0.9348 - val_loss: 0.8260 - val_acc: 0.9210\n",
      "Epoch 50/400\n",
      " - 15s - loss: 0.6006 - acc: 0.9354 - val_loss: 0.7680 - val_acc: 0.9269\n",
      "Epoch 51/400\n",
      " - 15s - loss: 0.5973 - acc: 0.9365 - val_loss: 0.6744 - val_acc: 0.9420\n",
      "Epoch 52/400\n",
      " - 15s - loss: 0.5768 - acc: 0.9388 - val_loss: 0.6283 - val_acc: 0.9339\n",
      "Epoch 53/400\n",
      " - 15s - loss: 0.5841 - acc: 0.9367 - val_loss: 0.5465 - val_acc: 0.9437\n",
      "Epoch 54/400\n",
      " - 15s - loss: 0.5767 - acc: 0.9383 - val_loss: 0.9947 - val_acc: 0.8806\n",
      "Epoch 55/400\n",
      " - 15s - loss: 0.5752 - acc: 0.9376 - val_loss: 0.5050 - val_acc: 0.9438\n",
      "Epoch 56/400\n",
      " - 15s - loss: 0.5596 - acc: 0.9385 - val_loss: 0.4217 - val_acc: 0.9431\n",
      "Epoch 57/400\n",
      " - 15s - loss: 0.5613 - acc: 0.9385 - val_loss: 0.4860 - val_acc: 0.9324\n",
      "Epoch 58/400\n",
      " - 15s - loss: 0.5464 - acc: 0.9400 - val_loss: 1.0074 - val_acc: 0.8784\n",
      "Epoch 59/400\n",
      " - 15s - loss: 0.5832 - acc: 0.9352 - val_loss: 0.4921 - val_acc: 0.9444\n",
      "Epoch 60/400\n",
      " - 15s - loss: 0.5333 - acc: 0.9404 - val_loss: 1.0659 - val_acc: 0.8528\n",
      "Epoch 61/400\n",
      " - 15s - loss: 0.5245 - acc: 0.9401 - val_loss: 0.6909 - val_acc: 0.9199\n",
      "Epoch 62/400\n",
      " - 15s - loss: 0.5212 - acc: 0.9407 - val_loss: 0.5953 - val_acc: 0.9324\n",
      "Epoch 63/400\n",
      " - 15s - loss: 0.5354 - acc: 0.9387 - val_loss: 0.7517 - val_acc: 0.9093\n",
      "Epoch 64/400\n",
      " - 15s - loss: 0.5160 - acc: 0.9405 - val_loss: 0.4386 - val_acc: 0.9474\n",
      "Epoch 65/400\n",
      " - 15s - loss: 0.5063 - acc: 0.9418 - val_loss: 1.0031 - val_acc: 0.8712\n",
      "Epoch 66/400\n",
      " - 15s - loss: 0.5272 - acc: 0.9399 - val_loss: 0.6803 - val_acc: 0.9227\n",
      "Epoch 67/400\n",
      " - 15s - loss: 0.4948 - acc: 0.9427 - val_loss: 1.0759 - val_acc: 0.8731\n",
      "Epoch 68/400\n",
      " - 15s - loss: 0.4893 - acc: 0.9430 - val_loss: 1.4848 - val_acc: 0.8441\n",
      "Epoch 69/400\n",
      " - 15s - loss: 0.4925 - acc: 0.9421 - val_loss: 0.6457 - val_acc: 0.9204\n",
      "Epoch 70/400\n",
      " - 15s - loss: 0.4769 - acc: 0.9429 - val_loss: 0.4303 - val_acc: 0.9462\n",
      "Epoch 71/400\n",
      " - 15s - loss: 0.5024 - acc: 0.9408 - val_loss: 0.5662 - val_acc: 0.9301\n",
      "Epoch 72/400\n",
      " - 15s - loss: 0.4754 - acc: 0.9433 - val_loss: 0.6636 - val_acc: 0.9380\n",
      "Epoch 73/400\n",
      " - 15s - loss: 0.4477 - acc: 0.9459 - val_loss: 0.4864 - val_acc: 0.9415\n",
      "Epoch 74/400\n",
      " - 15s - loss: 0.4674 - acc: 0.9436 - val_loss: 0.4927 - val_acc: 0.9391\n",
      "Epoch 75/400\n",
      " - 15s - loss: 0.4672 - acc: 0.9422 - val_loss: 0.4903 - val_acc: 0.9421\n",
      "Epoch 76/400\n",
      " - 15s - loss: 0.4398 - acc: 0.9460 - val_loss: 0.5773 - val_acc: 0.9446\n",
      "Epoch 77/400\n",
      " - 15s - loss: 0.4292 - acc: 0.9477 - val_loss: 1.0158 - val_acc: 0.8954\n",
      "Epoch 78/400\n",
      " - 15s - loss: 0.4927 - acc: 0.9364 - val_loss: 0.5144 - val_acc: 0.9343\n",
      "Epoch 79/400\n",
      " - 15s - loss: 0.4314 - acc: 0.9447 - val_loss: 0.8306 - val_acc: 0.8993\n",
      "Epoch 80/400\n",
      " - 15s - loss: 0.4292 - acc: 0.9471 - val_loss: 0.9578 - val_acc: 0.8950\n",
      "Epoch 81/400\n",
      " - 15s - loss: 0.4545 - acc: 0.9435 - val_loss: 0.4624 - val_acc: 0.9322\n",
      "Epoch 82/400\n",
      " - 15s - loss: 0.4138 - acc: 0.9475 - val_loss: 0.6059 - val_acc: 0.9281\n",
      "Epoch 83/400\n",
      " - 15s - loss: 0.4330 - acc: 0.9452 - val_loss: 0.6411 - val_acc: 0.9250\n",
      "Epoch 84/400\n",
      " - 15s - loss: 0.4599 - acc: 0.9411 - val_loss: 0.4612 - val_acc: 0.9298\n",
      "Epoch 85/400\n",
      " - 15s - loss: 0.3814 - acc: 0.9495 - val_loss: 0.3333 - val_acc: 0.9526\n",
      "Epoch 86/400\n",
      " - 15s - loss: 0.4240 - acc: 0.9462 - val_loss: 0.5991 - val_acc: 0.9351\n",
      "Epoch 87/400\n",
      " - 15s - loss: 0.3916 - acc: 0.9499 - val_loss: 0.5440 - val_acc: 0.9311\n",
      "Epoch 88/400\n",
      " - 15s - loss: 0.3980 - acc: 0.9479 - val_loss: 1.0779 - val_acc: 0.8693\n",
      "Epoch 89/400\n",
      " - 15s - loss: 0.3862 - acc: 0.9504 - val_loss: 0.7035 - val_acc: 0.8563\n",
      "Epoch 90/400\n",
      " - 15s - loss: 0.3969 - acc: 0.9480 - val_loss: 1.0346 - val_acc: 0.8694\n",
      "Epoch 91/400\n",
      " - 15s - loss: 0.4119 - acc: 0.9453 - val_loss: 0.6387 - val_acc: 0.9251\n",
      "Epoch 92/400\n",
      " - 15s - loss: 0.3997 - acc: 0.9483 - val_loss: 0.3709 - val_acc: 0.9526\n",
      "Epoch 93/400\n",
      " - 15s - loss: 0.3880 - acc: 0.9495 - val_loss: 0.7494 - val_acc: 0.8975\n",
      "Epoch 94/400\n",
      " - 15s - loss: 0.3798 - acc: 0.9497 - val_loss: 0.3468 - val_acc: 0.9447\n",
      "Epoch 95/400\n",
      " - 15s - loss: 0.3903 - acc: 0.9482 - val_loss: 0.6012 - val_acc: 0.9150\n"
     ]
    },
    {
     "name": "stdout",
     "output_type": "stream",
     "text": [
      "Epoch 96/400\n",
      " - 15s - loss: 0.3689 - acc: 0.9502 - val_loss: 0.7733 - val_acc: 0.9046\n",
      "Epoch 97/400\n",
      " - 15s - loss: 0.3863 - acc: 0.9492 - val_loss: 0.4092 - val_acc: 0.9501\n",
      "Epoch 98/400\n",
      " - 15s - loss: 0.3536 - acc: 0.9520 - val_loss: 0.4055 - val_acc: 0.9490\n",
      "Epoch 99/400\n",
      " - 15s - loss: 0.3719 - acc: 0.9503 - val_loss: 0.4692 - val_acc: 0.9338\n",
      "Epoch 100/400\n",
      " - 15s - loss: 0.3601 - acc: 0.9508 - val_loss: 0.4063 - val_acc: 0.9498\n",
      "Epoch 101/400\n",
      " - 15s - loss: 0.3570 - acc: 0.9511 - val_loss: 0.6105 - val_acc: 0.9302\n",
      "Epoch 102/400\n",
      " - 15s - loss: 0.3497 - acc: 0.9519 - val_loss: 0.4321 - val_acc: 0.9449\n",
      "Epoch 103/400\n",
      " - 15s - loss: 0.3481 - acc: 0.9519 - val_loss: 0.3742 - val_acc: 0.9498\n",
      "Epoch 104/400\n",
      " - 15s - loss: 0.3515 - acc: 0.9511 - val_loss: 0.5153 - val_acc: 0.9269\n",
      "Epoch 105/400\n",
      " - 15s - loss: 0.3488 - acc: 0.9519 - val_loss: 0.6426 - val_acc: 0.9178\n",
      "Epoch 106/400\n",
      " - 15s - loss: 0.3511 - acc: 0.9512 - val_loss: 0.3818 - val_acc: 0.9402\n",
      "Epoch 107/400\n",
      " - 15s - loss: 0.3274 - acc: 0.9539 - val_loss: 0.9458 - val_acc: 0.8743\n",
      "Epoch 108/400\n",
      " - 15s - loss: 0.3445 - acc: 0.9521 - val_loss: 0.3833 - val_acc: 0.9391\n",
      "Epoch 109/400\n",
      " - 15s - loss: 0.3351 - acc: 0.9526 - val_loss: 0.2934 - val_acc: 0.9550\n",
      "Epoch 110/400\n",
      " - 15s - loss: 0.3371 - acc: 0.9524 - val_loss: 0.3400 - val_acc: 0.9529\n",
      "Epoch 111/400\n",
      " - 15s - loss: 0.3279 - acc: 0.9529 - val_loss: 0.5860 - val_acc: 0.9172\n",
      "Epoch 112/400\n",
      " - 15s - loss: 0.3172 - acc: 0.9554 - val_loss: 0.5321 - val_acc: 0.9233\n",
      "Epoch 113/400\n",
      " - 15s - loss: 0.3437 - acc: 0.9520 - val_loss: 0.4712 - val_acc: 0.9278\n",
      "Epoch 114/400\n",
      " - 15s - loss: 0.3251 - acc: 0.9543 - val_loss: 0.6646 - val_acc: 0.8776\n",
      "Epoch 115/400\n",
      " - 15s - loss: 0.3168 - acc: 0.9546 - val_loss: 0.3542 - val_acc: 0.9413\n",
      "Epoch 116/400\n",
      " - 15s - loss: 0.3251 - acc: 0.9543 - val_loss: 0.2872 - val_acc: 0.9534\n",
      "Epoch 117/400\n",
      " - 15s - loss: 0.3160 - acc: 0.9545 - val_loss: 0.2979 - val_acc: 0.9575\n",
      "Epoch 118/400\n",
      " - 15s - loss: 0.3161 - acc: 0.9545 - val_loss: 0.3464 - val_acc: 0.9502\n",
      "Epoch 119/400\n",
      " - 15s - loss: 0.2991 - acc: 0.9565 - val_loss: 0.3248 - val_acc: 0.9541\n",
      "Epoch 120/400\n",
      " - 15s - loss: 0.3113 - acc: 0.9543 - val_loss: 0.3195 - val_acc: 0.9572\n",
      "Epoch 121/400\n",
      " - 16s - loss: 0.3020 - acc: 0.9562 - val_loss: 0.3406 - val_acc: 0.9546\n",
      "Epoch 122/400\n",
      " - 15s - loss: 0.2982 - acc: 0.9562 - val_loss: 0.2994 - val_acc: 0.9569\n",
      "Epoch 123/400\n",
      " - 15s - loss: 0.2968 - acc: 0.9566 - val_loss: 0.6803 - val_acc: 0.8383\n",
      "Epoch 124/400\n",
      " - 15s - loss: 0.2992 - acc: 0.9544 - val_loss: 0.2713 - val_acc: 0.9585\n",
      "Epoch 125/400\n",
      " - 15s - loss: 0.2996 - acc: 0.9563 - val_loss: 0.3950 - val_acc: 0.9386\n",
      "Epoch 126/400\n",
      " - 15s - loss: 0.2979 - acc: 0.9558 - val_loss: 0.6168 - val_acc: 0.8951\n",
      "Epoch 127/400\n",
      " - 15s - loss: 0.2867 - acc: 0.9578 - val_loss: 0.4928 - val_acc: 0.9286\n",
      "Epoch 128/400\n",
      " - 15s - loss: 0.2980 - acc: 0.9560 - val_loss: 0.3945 - val_acc: 0.9447\n",
      "Epoch 129/400\n",
      " - 16s - loss: 0.2824 - acc: 0.9577 - val_loss: 0.2991 - val_acc: 0.9575\n",
      "Epoch 130/400\n",
      " - 17s - loss: 0.2785 - acc: 0.9586 - val_loss: 0.3596 - val_acc: 0.9432\n",
      "Epoch 131/400\n",
      " - 17s - loss: 0.2853 - acc: 0.9575 - val_loss: 0.3670 - val_acc: 0.9407\n",
      "Epoch 132/400\n",
      " - 17s - loss: 0.2953 - acc: 0.9562 - val_loss: 0.3001 - val_acc: 0.9551\n",
      "Epoch 133/400\n",
      " - 17s - loss: 0.2885 - acc: 0.9570 - val_loss: 0.3442 - val_acc: 0.9468\n",
      "Epoch 134/400\n",
      " - 17s - loss: 0.2727 - acc: 0.9584 - val_loss: 0.3337 - val_acc: 0.9499\n",
      "Epoch 135/400\n",
      " - 17s - loss: 0.2835 - acc: 0.9573 - val_loss: 0.2663 - val_acc: 0.9559\n",
      "Epoch 136/400\n",
      " - 17s - loss: 0.2729 - acc: 0.9591 - val_loss: 0.2723 - val_acc: 0.9622\n",
      "Epoch 137/400\n",
      " - 17s - loss: 0.2688 - acc: 0.9590 - val_loss: 0.3581 - val_acc: 0.9502\n",
      "Epoch 138/400\n",
      " - 17s - loss: 0.2594 - acc: 0.9614 - val_loss: 0.6272 - val_acc: 0.9307\n",
      "Epoch 139/400\n",
      " - 17s - loss: 0.2568 - acc: 0.9613 - val_loss: 0.4796 - val_acc: 0.9258\n",
      "Epoch 140/400\n",
      " - 17s - loss: 0.2780 - acc: 0.9584 - val_loss: 0.2183 - val_acc: 0.9648\n",
      "Epoch 141/400\n",
      " - 17s - loss: 0.2776 - acc: 0.9575 - val_loss: 0.3867 - val_acc: 0.9403\n",
      "Epoch 142/400\n",
      " - 17s - loss: 0.2586 - acc: 0.9600 - val_loss: 0.8773 - val_acc: 0.8630\n",
      "Epoch 143/400\n",
      " - 17s - loss: 0.2679 - acc: 0.9583 - val_loss: 0.4257 - val_acc: 0.9466\n",
      "Epoch 144/400\n",
      " - 17s - loss: 0.2575 - acc: 0.9602 - val_loss: 0.3024 - val_acc: 0.9540\n",
      "Epoch 145/400\n",
      " - 17s - loss: 0.2577 - acc: 0.9602 - val_loss: 0.2501 - val_acc: 0.9599\n",
      "Epoch 146/400\n",
      " - 17s - loss: 0.2546 - acc: 0.9607 - val_loss: 0.3078 - val_acc: 0.9492\n",
      "Epoch 147/400\n",
      " - 17s - loss: 0.2631 - acc: 0.9595 - val_loss: 0.3304 - val_acc: 0.9507\n",
      "Epoch 148/400\n",
      " - 17s - loss: 0.2547 - acc: 0.9590 - val_loss: 0.3426 - val_acc: 0.9396\n",
      "Epoch 149/400\n",
      " - 17s - loss: 0.2491 - acc: 0.9610 - val_loss: 0.2853 - val_acc: 0.9558\n",
      "Epoch 150/400\n",
      " - 17s - loss: 0.2545 - acc: 0.9602 - val_loss: 0.2621 - val_acc: 0.9608\n",
      "Epoch 151/400\n",
      " - 17s - loss: 0.2460 - acc: 0.9615 - val_loss: 0.2662 - val_acc: 0.9603\n",
      "Epoch 152/400\n",
      " - 17s - loss: 0.2490 - acc: 0.9611 - val_loss: 0.3313 - val_acc: 0.9427\n",
      "Epoch 153/400\n",
      " - 16s - loss: 0.2417 - acc: 0.9620 - val_loss: 0.2471 - val_acc: 0.9607\n",
      "Epoch 154/400\n",
      " - 16s - loss: 0.2482 - acc: 0.9607 - val_loss: 0.2610 - val_acc: 0.9582\n",
      "Epoch 155/400\n",
      " - 16s - loss: 0.2419 - acc: 0.9622 - val_loss: 0.2620 - val_acc: 0.9557\n",
      "Epoch 156/400\n",
      " - 16s - loss: 0.2421 - acc: 0.9617 - val_loss: 0.3137 - val_acc: 0.9506\n",
      "Epoch 157/400\n",
      " - 16s - loss: 0.2367 - acc: 0.9623 - val_loss: 0.2890 - val_acc: 0.9507\n",
      "Epoch 158/400\n",
      " - 16s - loss: 0.2432 - acc: 0.9616 - val_loss: 0.5316 - val_acc: 0.8936\n",
      "Epoch 159/400\n",
      " - 17s - loss: 0.2425 - acc: 0.9611 - val_loss: 0.2595 - val_acc: 0.9594\n",
      "Epoch 160/400\n",
      " - 16s - loss: 0.2290 - acc: 0.9635 - val_loss: 0.2339 - val_acc: 0.9631\n",
      "Epoch 161/400\n",
      " - 16s - loss: 0.2308 - acc: 0.9632 - val_loss: 0.4075 - val_acc: 0.9268\n",
      "Epoch 162/400\n",
      " - 16s - loss: 0.2421 - acc: 0.9610 - val_loss: 0.4895 - val_acc: 0.9355\n",
      "Epoch 163/400\n",
      " - 16s - loss: 0.2325 - acc: 0.9634 - val_loss: 0.4945 - val_acc: 0.9184\n",
      "Epoch 164/400\n",
      " - 16s - loss: 0.2334 - acc: 0.9633 - val_loss: 0.3283 - val_acc: 0.9461\n",
      "Epoch 165/400\n",
      " - 16s - loss: 0.2266 - acc: 0.9637 - val_loss: 0.2592 - val_acc: 0.9565\n",
      "Epoch 166/400\n",
      " - 16s - loss: 0.2213 - acc: 0.9647 - val_loss: 0.2893 - val_acc: 0.9437\n",
      "Epoch 167/400\n",
      " - 16s - loss: 0.2322 - acc: 0.9628 - val_loss: 0.2720 - val_acc: 0.9594\n",
      "Epoch 168/400\n",
      " - 16s - loss: 0.2201 - acc: 0.9643 - val_loss: 0.2328 - val_acc: 0.9624\n",
      "Epoch 169/400\n",
      " - 16s - loss: 0.2254 - acc: 0.9636 - val_loss: 0.4222 - val_acc: 0.9388\n",
      "Epoch 170/400\n",
      " - 16s - loss: 0.2040 - acc: 0.9677 - val_loss: 0.3239 - val_acc: 0.9443\n",
      "Epoch 171/400\n",
      " - 17s - loss: 0.2256 - acc: 0.9639 - val_loss: 0.4645 - val_acc: 0.9236\n",
      "Epoch 172/400\n",
      " - 16s - loss: 0.2157 - acc: 0.9653 - val_loss: 0.2460 - val_acc: 0.9569\n",
      "Epoch 173/400\n",
      " - 16s - loss: 0.2260 - acc: 0.9629 - val_loss: 0.2580 - val_acc: 0.9600\n",
      "Epoch 174/400\n",
      " - 16s - loss: 0.2126 - acc: 0.9655 - val_loss: 0.2689 - val_acc: 0.9524\n",
      "Epoch 175/400\n",
      " - 16s - loss: 0.2103 - acc: 0.9656 - val_loss: 0.2159 - val_acc: 0.9629\n",
      "Epoch 176/400\n",
      " - 16s - loss: 0.2176 - acc: 0.9651 - val_loss: 0.2596 - val_acc: 0.9612\n",
      "Epoch 177/400\n",
      " - 16s - loss: 0.2098 - acc: 0.9657 - val_loss: 0.2356 - val_acc: 0.9590\n",
      "Epoch 178/400\n",
      " - 16s - loss: 0.2074 - acc: 0.9659 - val_loss: 0.3250 - val_acc: 0.9433\n",
      "Epoch 179/400\n",
      " - 17s - loss: 0.2082 - acc: 0.9663 - val_loss: 0.2931 - val_acc: 0.9561\n",
      "Epoch 180/400\n",
      " - 16s - loss: 0.2068 - acc: 0.9669 - val_loss: 0.2150 - val_acc: 0.9640\n",
      "Epoch 181/400\n",
      " - 17s - loss: 0.2106 - acc: 0.9659 - val_loss: 0.2803 - val_acc: 0.9453\n",
      "Epoch 182/400\n",
      " - 17s - loss: 0.2096 - acc: 0.9655 - val_loss: 0.2963 - val_acc: 0.9507\n",
      "Epoch 183/400\n",
      " - 16s - loss: 0.2097 - acc: 0.9658 - val_loss: 0.2039 - val_acc: 0.9659\n",
      "Epoch 184/400\n",
      " - 16s - loss: 0.1989 - acc: 0.9676 - val_loss: 0.2661 - val_acc: 0.9616\n",
      "Epoch 185/400\n",
      " - 16s - loss: 0.2061 - acc: 0.9666 - val_loss: 0.2109 - val_acc: 0.9662\n",
      "Epoch 186/400\n",
      " - 16s - loss: 0.1950 - acc: 0.9682 - val_loss: 1.0262 - val_acc: 0.8279\n",
      "Epoch 187/400\n",
      " - 16s - loss: 0.1960 - acc: 0.9677 - val_loss: 0.2091 - val_acc: 0.9655\n",
      "Epoch 188/400\n",
      " - 16s - loss: 0.2039 - acc: 0.9672 - val_loss: 0.2505 - val_acc: 0.9585\n",
      "Epoch 189/400\n",
      " - 16s - loss: 0.1922 - acc: 0.9687 - val_loss: 0.2195 - val_acc: 0.9634\n",
      "Epoch 190/400\n",
      " - 16s - loss: 0.1978 - acc: 0.9675 - val_loss: 0.2588 - val_acc: 0.9548\n"
     ]
    },
    {
     "name": "stdout",
     "output_type": "stream",
     "text": [
      "Epoch 191/400\n",
      " - 16s - loss: 0.1894 - acc: 0.9690 - val_loss: 0.3369 - val_acc: 0.9489\n",
      "Epoch 192/400\n",
      " - 16s - loss: 0.2011 - acc: 0.9667 - val_loss: 0.3337 - val_acc: 0.9414\n",
      "Epoch 193/400\n",
      " - 16s - loss: 0.1926 - acc: 0.9682 - val_loss: 0.3291 - val_acc: 0.9491\n",
      "Epoch 194/400\n",
      " - 16s - loss: 0.1995 - acc: 0.9672 - val_loss: 0.2851 - val_acc: 0.9548\n",
      "Epoch 195/400\n",
      " - 17s - loss: 0.1861 - acc: 0.9692 - val_loss: 0.6766 - val_acc: 0.8997\n",
      "Epoch 196/400\n",
      " - 16s - loss: 0.1898 - acc: 0.9690 - val_loss: 0.2020 - val_acc: 0.9629\n",
      "Epoch 197/400\n",
      " - 17s - loss: 0.1920 - acc: 0.9686 - val_loss: 0.2390 - val_acc: 0.9599\n",
      "Epoch 198/400\n",
      " - 17s - loss: 0.1892 - acc: 0.9686 - val_loss: 0.2411 - val_acc: 0.9574\n",
      "Epoch 199/400\n",
      " - 16s - loss: 0.1821 - acc: 0.9699 - val_loss: 0.2701 - val_acc: 0.9474\n",
      "Epoch 200/400\n",
      " - 16s - loss: 0.1884 - acc: 0.9687 - val_loss: 0.2629 - val_acc: 0.9582\n",
      "Epoch 201/400\n",
      " - 16s - loss: 0.1824 - acc: 0.9696 - val_loss: 0.3586 - val_acc: 0.9388\n",
      "Epoch 202/400\n",
      " - 16s - loss: 0.1863 - acc: 0.9692 - val_loss: 0.3029 - val_acc: 0.9476\n",
      "Epoch 203/400\n",
      " - 16s - loss: 0.1925 - acc: 0.9679 - val_loss: 0.2262 - val_acc: 0.9640\n",
      "Epoch 204/400\n",
      " - 16s - loss: 0.1736 - acc: 0.9711 - val_loss: 0.2034 - val_acc: 0.9637\n",
      "Epoch 205/400\n",
      " - 17s - loss: 0.1852 - acc: 0.9690 - val_loss: 0.2336 - val_acc: 0.9604\n",
      "Epoch 206/400\n",
      " - 16s - loss: 0.1827 - acc: 0.9700 - val_loss: 0.2279 - val_acc: 0.9596\n",
      "Epoch 207/400\n",
      " - 16s - loss: 0.1861 - acc: 0.9685 - val_loss: 0.2331 - val_acc: 0.9609\n",
      "Epoch 208/400\n",
      " - 17s - loss: 0.1749 - acc: 0.9710 - val_loss: 0.2096 - val_acc: 0.9655\n",
      "Epoch 209/400\n",
      " - 16s - loss: 0.1805 - acc: 0.9697 - val_loss: 0.2831 - val_acc: 0.9509\n",
      "Epoch 210/400\n",
      " - 16s - loss: 0.1785 - acc: 0.9698 - val_loss: 0.2389 - val_acc: 0.9588\n",
      "Epoch 211/400\n",
      " - 17s - loss: 0.1748 - acc: 0.9710 - val_loss: 0.2512 - val_acc: 0.9568\n",
      "Epoch 212/400\n",
      " - 17s - loss: 0.1740 - acc: 0.9711 - val_loss: 0.2494 - val_acc: 0.9548\n",
      "Epoch 213/400\n",
      " - 15s - loss: 0.1729 - acc: 0.9709 - val_loss: 0.5027 - val_acc: 0.9131\n",
      "Epoch 214/400\n",
      " - 15s - loss: 0.1762 - acc: 0.9706 - val_loss: 0.2853 - val_acc: 0.9608\n",
      "Epoch 215/400\n",
      " - 15s - loss: 0.1752 - acc: 0.9709 - val_loss: 0.2011 - val_acc: 0.9663\n",
      "Epoch 216/400\n",
      " - 15s - loss: 0.1698 - acc: 0.9717 - val_loss: 0.2210 - val_acc: 0.9626\n",
      "Epoch 217/400\n",
      " - 15s - loss: 0.1693 - acc: 0.9717 - val_loss: 0.2089 - val_acc: 0.9636\n",
      "Epoch 218/400\n",
      " - 15s - loss: 0.1729 - acc: 0.9709 - val_loss: 0.2097 - val_acc: 0.9651\n",
      "Epoch 219/400\n",
      " - 15s - loss: 0.1701 - acc: 0.9714 - val_loss: 0.2039 - val_acc: 0.9605\n",
      "Epoch 220/400\n",
      " - 15s - loss: 0.1684 - acc: 0.9714 - val_loss: 0.2204 - val_acc: 0.9639\n",
      "Epoch 221/400\n",
      " - 15s - loss: 0.1635 - acc: 0.9729 - val_loss: 0.2222 - val_acc: 0.9616\n",
      "Epoch 222/400\n",
      " - 15s - loss: 0.1719 - acc: 0.9709 - val_loss: 0.2092 - val_acc: 0.9657\n",
      "Epoch 223/400\n",
      " - 15s - loss: 0.1641 - acc: 0.9726 - val_loss: 0.2106 - val_acc: 0.9664\n",
      "Epoch 224/400\n",
      " - 15s - loss: 0.1647 - acc: 0.9723 - val_loss: 0.3068 - val_acc: 0.9432\n",
      "Epoch 225/400\n",
      " - 15s - loss: 0.1644 - acc: 0.9727 - val_loss: 0.2194 - val_acc: 0.9584\n",
      "Epoch 226/400\n",
      " - 15s - loss: 0.1699 - acc: 0.9710 - val_loss: 0.2051 - val_acc: 0.9657\n",
      "Epoch 227/400\n",
      " - 15s - loss: 0.1582 - acc: 0.9734 - val_loss: 0.2744 - val_acc: 0.9551\n",
      "Epoch 228/400\n",
      " - 15s - loss: 0.1625 - acc: 0.9725 - val_loss: 0.1873 - val_acc: 0.9668\n",
      "Epoch 229/400\n",
      " - 15s - loss: 0.1682 - acc: 0.9713 - val_loss: 0.2444 - val_acc: 0.9516\n",
      "Epoch 230/400\n",
      " - 15s - loss: 0.1606 - acc: 0.9724 - val_loss: 0.2570 - val_acc: 0.9545\n",
      "Epoch 231/400\n",
      " - 15s - loss: 0.1624 - acc: 0.9727 - val_loss: 0.2283 - val_acc: 0.9646\n",
      "Epoch 232/400\n",
      " - 15s - loss: 0.1543 - acc: 0.9742 - val_loss: 0.2081 - val_acc: 0.9669\n",
      "Epoch 233/400\n",
      " - 15s - loss: 0.1590 - acc: 0.9731 - val_loss: 0.2499 - val_acc: 0.9577\n",
      "Epoch 234/400\n",
      " - 15s - loss: 0.1591 - acc: 0.9731 - val_loss: 0.2183 - val_acc: 0.9630\n",
      "Epoch 235/400\n",
      " - 15s - loss: 0.1575 - acc: 0.9731 - val_loss: 0.2888 - val_acc: 0.9440\n",
      "Epoch 236/400\n",
      " - 15s - loss: 0.1625 - acc: 0.9723 - val_loss: 0.2433 - val_acc: 0.9588\n",
      "Epoch 237/400\n",
      " - 15s - loss: 0.1507 - acc: 0.9747 - val_loss: 0.1997 - val_acc: 0.9673\n",
      "Epoch 238/400\n",
      " - 15s - loss: 0.1542 - acc: 0.9741 - val_loss: 0.2407 - val_acc: 0.9555\n",
      "Epoch 239/400\n",
      " - 15s - loss: 0.1534 - acc: 0.9744 - val_loss: 0.1951 - val_acc: 0.9651\n",
      "Epoch 240/400\n",
      " - 15s - loss: 0.1570 - acc: 0.9731 - val_loss: 0.2134 - val_acc: 0.9643\n",
      "Epoch 241/400\n",
      " - 15s - loss: 0.1545 - acc: 0.9742 - val_loss: 0.1968 - val_acc: 0.9661\n",
      "Epoch 242/400\n",
      " - 15s - loss: 0.1490 - acc: 0.9744 - val_loss: 0.2357 - val_acc: 0.9572\n",
      "Epoch 243/400\n",
      " - 15s - loss: 0.1567 - acc: 0.9730 - val_loss: 0.2633 - val_acc: 0.9571\n",
      "Epoch 244/400\n",
      " - 15s - loss: 0.1510 - acc: 0.9745 - val_loss: 0.1852 - val_acc: 0.9686\n",
      "Epoch 245/400\n",
      " - 15s - loss: 0.1506 - acc: 0.9745 - val_loss: 0.1869 - val_acc: 0.9679\n",
      "Epoch 246/400\n",
      " - 15s - loss: 0.1524 - acc: 0.9740 - val_loss: 0.2041 - val_acc: 0.9671\n",
      "Epoch 247/400\n",
      " - 15s - loss: 0.1490 - acc: 0.9747 - val_loss: 0.2392 - val_acc: 0.9516\n",
      "Epoch 248/400\n",
      " - 15s - loss: 0.1553 - acc: 0.9729 - val_loss: 0.2204 - val_acc: 0.9642\n",
      "Epoch 249/400\n",
      " - 15s - loss: 0.1488 - acc: 0.9748 - val_loss: 0.2047 - val_acc: 0.9669\n",
      "Epoch 250/400\n",
      " - 15s - loss: 0.1443 - acc: 0.9757 - val_loss: 0.1934 - val_acc: 0.9689\n",
      "Epoch 251/400\n",
      " - 15s - loss: 0.1472 - acc: 0.9748 - val_loss: 0.2368 - val_acc: 0.9577\n",
      "Epoch 252/400\n",
      " - 15s - loss: 0.1481 - acc: 0.9750 - val_loss: 0.2445 - val_acc: 0.9567\n",
      "Epoch 253/400\n",
      " - 15s - loss: 0.1433 - acc: 0.9760 - val_loss: 0.1971 - val_acc: 0.9660\n",
      "Epoch 254/400\n",
      " - 15s - loss: 0.1502 - acc: 0.9740 - val_loss: 0.2149 - val_acc: 0.9619\n",
      "Epoch 255/400\n",
      " - 15s - loss: 0.1441 - acc: 0.9756 - val_loss: 0.2280 - val_acc: 0.9637\n",
      "Epoch 256/400\n",
      " - 15s - loss: 0.1441 - acc: 0.9754 - val_loss: 0.2778 - val_acc: 0.9514\n",
      "Epoch 257/400\n",
      " - 15s - loss: 0.1445 - acc: 0.9756 - val_loss: 0.2029 - val_acc: 0.9658\n",
      "Epoch 258/400\n",
      " - 15s - loss: 0.1382 - acc: 0.9767 - val_loss: 0.3115 - val_acc: 0.9390\n",
      "Epoch 259/400\n",
      " - 15s - loss: 0.1419 - acc: 0.9762 - val_loss: 0.2047 - val_acc: 0.9663\n",
      "Epoch 260/400\n",
      " - 15s - loss: 0.1406 - acc: 0.9763 - val_loss: 0.2211 - val_acc: 0.9606\n",
      "Epoch 261/400\n",
      " - 15s - loss: 0.1414 - acc: 0.9758 - val_loss: 0.2974 - val_acc: 0.9507\n",
      "Epoch 262/400\n",
      " - 15s - loss: 0.1450 - acc: 0.9751 - val_loss: 0.2103 - val_acc: 0.9617\n",
      "Epoch 263/400\n",
      " - 15s - loss: 0.1366 - acc: 0.9772 - val_loss: 0.2027 - val_acc: 0.9662\n",
      "Epoch 264/400\n",
      " - 15s - loss: 0.1385 - acc: 0.9764 - val_loss: 0.1815 - val_acc: 0.9669\n",
      "Epoch 265/400\n",
      " - 15s - loss: 0.1369 - acc: 0.9770 - val_loss: 0.5587 - val_acc: 0.8702\n",
      "Epoch 266/400\n",
      " - 16s - loss: 0.1410 - acc: 0.9758 - val_loss: 0.2459 - val_acc: 0.9560\n",
      "Epoch 267/400\n",
      " - 16s - loss: 0.1349 - acc: 0.9772 - val_loss: 0.2365 - val_acc: 0.9608\n",
      "Epoch 268/400\n",
      " - 15s - loss: 0.1354 - acc: 0.9769 - val_loss: 0.2422 - val_acc: 0.9536\n",
      "Epoch 269/400\n",
      " - 15s - loss: 0.1362 - acc: 0.9768 - val_loss: 0.2646 - val_acc: 0.9569\n",
      "Epoch 270/400\n",
      " - 15s - loss: 0.1370 - acc: 0.9769 - val_loss: 0.2340 - val_acc: 0.9600\n",
      "Epoch 271/400\n",
      " - 15s - loss: 0.1343 - acc: 0.9774 - val_loss: 0.2792 - val_acc: 0.9452\n",
      "Epoch 272/400\n",
      " - 15s - loss: 0.1371 - acc: 0.9766 - val_loss: 0.2034 - val_acc: 0.9642\n",
      "Epoch 273/400\n",
      " - 15s - loss: 0.1325 - acc: 0.9775 - val_loss: 0.1874 - val_acc: 0.9685\n",
      "Epoch 274/400\n",
      " - 15s - loss: 0.1346 - acc: 0.9769 - val_loss: 0.1857 - val_acc: 0.9684\n",
      "Epoch 275/400\n",
      " - 15s - loss: 0.1358 - acc: 0.9767 - val_loss: 0.2941 - val_acc: 0.9406\n",
      "Epoch 276/400\n",
      " - 15s - loss: 0.1304 - acc: 0.9780 - val_loss: 0.2419 - val_acc: 0.9542\n",
      "Epoch 277/400\n",
      " - 15s - loss: 0.1297 - acc: 0.9781 - val_loss: 0.2078 - val_acc: 0.9599\n",
      "Epoch 278/400\n",
      " - 15s - loss: 0.1282 - acc: 0.9784 - val_loss: 0.2010 - val_acc: 0.9599\n",
      "Epoch 279/400\n",
      " - 15s - loss: 0.1299 - acc: 0.9776 - val_loss: 0.2159 - val_acc: 0.9603\n",
      "Epoch 280/400\n",
      " - 15s - loss: 0.1308 - acc: 0.9779 - val_loss: 0.1847 - val_acc: 0.9677\n",
      "Epoch 281/400\n",
      " - 15s - loss: 0.1283 - acc: 0.9782 - val_loss: 0.2168 - val_acc: 0.9598\n",
      "Epoch 282/400\n",
      " - 15s - loss: 0.1333 - acc: 0.9771 - val_loss: 0.1820 - val_acc: 0.9716\n",
      "Epoch 283/400\n",
      " - 15s - loss: 0.1247 - acc: 0.9789 - val_loss: 0.1844 - val_acc: 0.9676\n",
      "Epoch 284/400\n",
      " - 15s - loss: 0.1276 - acc: 0.9783 - val_loss: 0.7602 - val_acc: 0.8383\n",
      "Epoch 285/400\n",
      " - 15s - loss: 0.1254 - acc: 0.9788 - val_loss: 0.1839 - val_acc: 0.9667\n"
     ]
    },
    {
     "name": "stdout",
     "output_type": "stream",
     "text": [
      "Epoch 286/400\n",
      " - 15s - loss: 0.1249 - acc: 0.9786 - val_loss: 0.1930 - val_acc: 0.9669\n",
      "Epoch 287/400\n",
      " - 15s - loss: 0.1274 - acc: 0.9781 - val_loss: 0.1641 - val_acc: 0.9706\n",
      "Epoch 288/400\n",
      " - 15s - loss: 0.1244 - acc: 0.9789 - val_loss: 0.1872 - val_acc: 0.9629\n",
      "Epoch 289/400\n",
      " - 15s - loss: 0.1276 - acc: 0.9783 - val_loss: 0.1941 - val_acc: 0.9674\n",
      "Epoch 290/400\n",
      " - 15s - loss: 0.1221 - acc: 0.9793 - val_loss: 0.2363 - val_acc: 0.9648\n",
      "Epoch 291/400\n",
      " - 15s - loss: 0.1258 - acc: 0.9788 - val_loss: 0.1725 - val_acc: 0.9698\n",
      "Epoch 292/400\n",
      " - 15s - loss: 0.1250 - acc: 0.9786 - val_loss: 0.1689 - val_acc: 0.9707\n",
      "Epoch 293/400\n",
      " - 15s - loss: 0.1166 - acc: 0.9806 - val_loss: 0.1890 - val_acc: 0.9662\n",
      "Epoch 294/400\n",
      " - 15s - loss: 0.1255 - acc: 0.9784 - val_loss: 0.2458 - val_acc: 0.9545\n",
      "Epoch 295/400\n",
      " - 15s - loss: 0.1257 - acc: 0.9784 - val_loss: 0.1648 - val_acc: 0.9716\n",
      "Epoch 296/400\n",
      " - 15s - loss: 0.1219 - acc: 0.9792 - val_loss: 0.1879 - val_acc: 0.9673\n",
      "Epoch 297/400\n",
      " - 15s - loss: 0.1189 - acc: 0.9798 - val_loss: 0.1703 - val_acc: 0.9710\n",
      "Epoch 298/400\n",
      " - 15s - loss: 0.1212 - acc: 0.9793 - val_loss: 0.2208 - val_acc: 0.9643\n",
      "Epoch 299/400\n",
      " - 15s - loss: 0.1153 - acc: 0.9807 - val_loss: 0.1626 - val_acc: 0.9671\n",
      "Epoch 300/400\n",
      " - 15s - loss: 0.1233 - acc: 0.9786 - val_loss: 0.1986 - val_acc: 0.9606\n",
      "Epoch 301/400\n",
      " - 15s - loss: 0.1193 - acc: 0.9794 - val_loss: 0.2143 - val_acc: 0.9609\n",
      "Epoch 302/400\n",
      " - 15s - loss: 0.1178 - acc: 0.9799 - val_loss: 0.1855 - val_acc: 0.9675\n",
      "Epoch 303/400\n",
      " - 15s - loss: 0.1202 - acc: 0.9793 - val_loss: 0.1860 - val_acc: 0.9678\n",
      "Epoch 304/400\n",
      " - 15s - loss: 0.1140 - acc: 0.9808 - val_loss: 0.1841 - val_acc: 0.9654\n",
      "Epoch 305/400\n",
      " - 15s - loss: 0.1176 - acc: 0.9800 - val_loss: 0.1845 - val_acc: 0.9676\n",
      "Epoch 306/400\n",
      " - 15s - loss: 0.1200 - acc: 0.9794 - val_loss: 0.1800 - val_acc: 0.9715\n",
      "Epoch 307/400\n",
      " - 15s - loss: 0.1149 - acc: 0.9808 - val_loss: 0.3258 - val_acc: 0.9433\n",
      "Epoch 308/400\n",
      " - 15s - loss: 0.1152 - acc: 0.9806 - val_loss: 0.1828 - val_acc: 0.9696\n",
      "Epoch 309/400\n",
      " - 15s - loss: 0.1148 - acc: 0.9807 - val_loss: 0.1730 - val_acc: 0.9696\n",
      "Epoch 310/400\n",
      " - 15s - loss: 0.1169 - acc: 0.9800 - val_loss: 0.2103 - val_acc: 0.9645\n",
      "Epoch 311/400\n",
      " - 15s - loss: 0.1165 - acc: 0.9801 - val_loss: 0.2051 - val_acc: 0.9596\n",
      "Epoch 312/400\n",
      " - 15s - loss: 0.1133 - acc: 0.9810 - val_loss: 0.2145 - val_acc: 0.9569\n",
      "Epoch 313/400\n",
      " - 15s - loss: 0.1162 - acc: 0.9801 - val_loss: 0.2987 - val_acc: 0.9403\n",
      "Epoch 314/400\n",
      " - 15s - loss: 0.1149 - acc: 0.9803 - val_loss: 0.2246 - val_acc: 0.9646\n",
      "Epoch 315/400\n",
      " - 15s - loss: 0.1141 - acc: 0.9805 - val_loss: 0.1864 - val_acc: 0.9677\n",
      "Epoch 316/400\n",
      " - 15s - loss: 0.1127 - acc: 0.9810 - val_loss: 0.1818 - val_acc: 0.9680\n",
      "Epoch 317/400\n",
      " - 15s - loss: 0.1165 - acc: 0.9798 - val_loss: 0.1635 - val_acc: 0.9724\n",
      "Epoch 318/400\n",
      " - 15s - loss: 0.1116 - acc: 0.9810 - val_loss: 0.1698 - val_acc: 0.9694\n",
      "Epoch 319/400\n",
      " - 15s - loss: 0.1119 - acc: 0.9810 - val_loss: 0.2054 - val_acc: 0.9644\n",
      "Epoch 320/400\n",
      " - 15s - loss: 0.1157 - acc: 0.9803 - val_loss: 0.1885 - val_acc: 0.9639\n",
      "Epoch 321/400\n",
      " - 15s - loss: 0.1143 - acc: 0.9801 - val_loss: 0.2100 - val_acc: 0.9609\n",
      "Epoch 322/400\n",
      " - 15s - loss: 0.1112 - acc: 0.9813 - val_loss: 0.1825 - val_acc: 0.9677\n",
      "Epoch 323/400\n",
      " - 15s - loss: 0.1093 - acc: 0.9816 - val_loss: 0.1591 - val_acc: 0.9714\n",
      "Epoch 324/400\n",
      " - 15s - loss: 0.1107 - acc: 0.9811 - val_loss: 0.1651 - val_acc: 0.9704\n",
      "Epoch 325/400\n",
      " - 15s - loss: 0.1103 - acc: 0.9812 - val_loss: 0.2527 - val_acc: 0.9605\n",
      "Epoch 326/400\n",
      " - 15s - loss: 0.1086 - acc: 0.9817 - val_loss: 0.2364 - val_acc: 0.9524\n",
      "Epoch 327/400\n",
      " - 15s - loss: 0.1112 - acc: 0.9811 - val_loss: 0.1765 - val_acc: 0.9696\n",
      "Epoch 328/400\n",
      " - 15s - loss: 0.1065 - acc: 0.9825 - val_loss: 0.2537 - val_acc: 0.9481\n",
      "Epoch 329/400\n",
      " - 15s - loss: 0.1086 - acc: 0.9815 - val_loss: 0.1610 - val_acc: 0.9731\n",
      "Epoch 330/400\n",
      " - 15s - loss: 0.1086 - acc: 0.9813 - val_loss: 0.2111 - val_acc: 0.9631\n",
      "Epoch 331/400\n",
      " - 15s - loss: 0.1096 - acc: 0.9813 - val_loss: 0.1973 - val_acc: 0.9631\n",
      "Epoch 332/400\n",
      " - 15s - loss: 0.1089 - acc: 0.9813 - val_loss: 0.1633 - val_acc: 0.9715\n",
      "Epoch 333/400\n",
      " - 15s - loss: 0.1067 - acc: 0.9820 - val_loss: 0.1904 - val_acc: 0.9653\n",
      "Epoch 334/400\n",
      " - 15s - loss: 0.1077 - acc: 0.9816 - val_loss: 0.1687 - val_acc: 0.9705\n",
      "Epoch 335/400\n",
      " - 15s - loss: 0.1078 - acc: 0.9816 - val_loss: 0.2099 - val_acc: 0.9641\n",
      "Epoch 336/400\n",
      " - 15s - loss: 0.1034 - acc: 0.9828 - val_loss: 0.1795 - val_acc: 0.9640\n",
      "Epoch 337/400\n",
      " - 15s - loss: 0.1092 - acc: 0.9813 - val_loss: 0.2332 - val_acc: 0.9590\n",
      "Epoch 338/400\n",
      " - 15s - loss: 0.1028 - acc: 0.9831 - val_loss: 0.1782 - val_acc: 0.9695\n",
      "Epoch 339/400\n",
      " - 15s - loss: 0.1052 - acc: 0.9820 - val_loss: 0.1813 - val_acc: 0.9653\n",
      "Epoch 340/400\n",
      " - 15s - loss: 0.1081 - acc: 0.9812 - val_loss: 0.2026 - val_acc: 0.9679\n",
      "Epoch 341/400\n",
      " - 15s - loss: 0.1021 - acc: 0.9829 - val_loss: 0.1925 - val_acc: 0.9661\n",
      "Epoch 342/400\n",
      " - 15s - loss: 0.1060 - acc: 0.9820 - val_loss: 0.1587 - val_acc: 0.9728\n",
      "Epoch 343/400\n",
      " - 15s - loss: 0.1026 - acc: 0.9828 - val_loss: 0.2416 - val_acc: 0.9560\n",
      "Epoch 344/400\n",
      " - 15s - loss: 0.1020 - acc: 0.9830 - val_loss: 0.1731 - val_acc: 0.9696\n",
      "Epoch 345/400\n",
      " - 15s - loss: 0.1030 - acc: 0.9825 - val_loss: 0.1596 - val_acc: 0.9713\n",
      "Epoch 346/400\n",
      " - 15s - loss: 0.1028 - acc: 0.9825 - val_loss: 0.1817 - val_acc: 0.9680\n",
      "Epoch 347/400\n",
      " - 15s - loss: 0.1035 - acc: 0.9822 - val_loss: 0.1688 - val_acc: 0.9708\n",
      "Epoch 348/400\n",
      " - 15s - loss: 0.1015 - acc: 0.9830 - val_loss: 0.1602 - val_acc: 0.9739\n",
      "Epoch 349/400\n",
      " - 15s - loss: 0.1029 - acc: 0.9824 - val_loss: 0.1973 - val_acc: 0.9656\n",
      "Epoch 350/400\n",
      " - 15s - loss: 0.0991 - acc: 0.9836 - val_loss: 0.1703 - val_acc: 0.9719\n",
      "Epoch 351/400\n",
      " - 15s - loss: 0.1016 - acc: 0.9827 - val_loss: 0.2508 - val_acc: 0.9443\n",
      "Epoch 352/400\n",
      " - 15s - loss: 0.1018 - acc: 0.9827 - val_loss: 0.1876 - val_acc: 0.9675\n",
      "Epoch 353/400\n",
      " - 15s - loss: 0.0988 - acc: 0.9836 - val_loss: 0.2088 - val_acc: 0.9607\n",
      "Epoch 354/400\n",
      " - 15s - loss: 0.1026 - acc: 0.9827 - val_loss: 0.1787 - val_acc: 0.9671\n",
      "Epoch 355/400\n",
      " - 15s - loss: 0.0987 - acc: 0.9832 - val_loss: 0.1614 - val_acc: 0.9713\n",
      "Epoch 356/400\n",
      " - 15s - loss: 0.1003 - acc: 0.9830 - val_loss: 0.1671 - val_acc: 0.9705\n",
      "Epoch 357/400\n",
      " - 15s - loss: 0.0988 - acc: 0.9833 - val_loss: 0.1949 - val_acc: 0.9624\n",
      "Epoch 358/400\n",
      " - 15s - loss: 0.0992 - acc: 0.9834 - val_loss: 0.1589 - val_acc: 0.9717\n",
      "Epoch 359/400\n",
      " - 15s - loss: 0.1003 - acc: 0.9831 - val_loss: 0.1746 - val_acc: 0.9691\n",
      "Epoch 360/400\n",
      " - 15s - loss: 0.0987 - acc: 0.9834 - val_loss: 0.5241 - val_acc: 0.8616\n",
      "Epoch 361/400\n",
      " - 15s - loss: 0.1013 - acc: 0.9827 - val_loss: 0.1753 - val_acc: 0.9684\n",
      "Epoch 362/400\n",
      " - 15s - loss: 0.0991 - acc: 0.9831 - val_loss: 0.1556 - val_acc: 0.9721\n",
      "Epoch 363/400\n",
      " - 15s - loss: 0.0966 - acc: 0.9837 - val_loss: 0.1627 - val_acc: 0.9704\n",
      "Epoch 364/400\n",
      " - 15s - loss: 0.0965 - acc: 0.9838 - val_loss: 0.1487 - val_acc: 0.9747\n",
      "Epoch 365/400\n",
      " - 15s - loss: 0.1001 - acc: 0.9826 - val_loss: 0.2017 - val_acc: 0.9663\n",
      "Epoch 366/400\n",
      " - 15s - loss: 0.0943 - acc: 0.9844 - val_loss: 0.1532 - val_acc: 0.9736\n",
      "Epoch 367/400\n",
      " - 15s - loss: 0.0998 - acc: 0.9828 - val_loss: 0.1716 - val_acc: 0.9711\n",
      "Epoch 368/400\n",
      " - 15s - loss: 0.0954 - acc: 0.9839 - val_loss: 0.1575 - val_acc: 0.9707\n",
      "Epoch 369/400\n",
      " - 15s - loss: 0.0970 - acc: 0.9834 - val_loss: 0.1597 - val_acc: 0.9730\n",
      "Epoch 370/400\n",
      " - 15s - loss: 0.0955 - acc: 0.9840 - val_loss: 0.1827 - val_acc: 0.9706\n",
      "Epoch 371/400\n",
      " - 15s - loss: 0.0954 - acc: 0.9840 - val_loss: 0.1518 - val_acc: 0.9747\n",
      "Epoch 372/400\n",
      " - 15s - loss: 0.0987 - acc: 0.9831 - val_loss: 0.2624 - val_acc: 0.9459\n",
      "Epoch 373/400\n",
      " - 15s - loss: 0.0951 - acc: 0.9841 - val_loss: 0.1778 - val_acc: 0.9660\n",
      "Epoch 374/400\n",
      " - 15s - loss: 0.0934 - acc: 0.9846 - val_loss: 0.2413 - val_acc: 0.9519\n",
      "Epoch 375/400\n",
      " - 15s - loss: 0.0962 - acc: 0.9842 - val_loss: 0.1530 - val_acc: 0.9723\n",
      "Epoch 376/400\n",
      " - 15s - loss: 0.0989 - acc: 0.9831 - val_loss: 0.1777 - val_acc: 0.9676\n",
      "Epoch 377/400\n",
      " - 15s - loss: 0.0923 - acc: 0.9846 - val_loss: 0.1798 - val_acc: 0.9684\n",
      "Epoch 378/400\n",
      " - 15s - loss: 0.0949 - acc: 0.9840 - val_loss: 0.1508 - val_acc: 0.9718\n",
      "Epoch 379/400\n",
      " - 15s - loss: 0.0946 - acc: 0.9840 - val_loss: 0.1584 - val_acc: 0.9716\n",
      "Epoch 380/400\n",
      " - 15s - loss: 0.0922 - acc: 0.9847 - val_loss: 0.1686 - val_acc: 0.9701\n"
     ]
    },
    {
     "name": "stdout",
     "output_type": "stream",
     "text": [
      "Epoch 381/400\n",
      " - 15s - loss: 0.0924 - acc: 0.9845 - val_loss: 0.1663 - val_acc: 0.9688\n",
      "Epoch 382/400\n",
      " - 15s - loss: 0.0949 - acc: 0.9837 - val_loss: 0.1758 - val_acc: 0.9669\n",
      "Epoch 383/400\n",
      " - 15s - loss: 0.0942 - acc: 0.9841 - val_loss: 0.1528 - val_acc: 0.9742\n",
      "Epoch 384/400\n",
      " - 15s - loss: 0.0919 - acc: 0.9845 - val_loss: 0.1943 - val_acc: 0.9608\n",
      "Epoch 385/400\n",
      " - 15s - loss: 0.0921 - acc: 0.9847 - val_loss: 0.1557 - val_acc: 0.9737\n",
      "Epoch 386/400\n",
      " - 15s - loss: 0.0923 - acc: 0.9846 - val_loss: 0.1648 - val_acc: 0.9701\n",
      "Epoch 387/400\n",
      " - 15s - loss: 0.0896 - acc: 0.9854 - val_loss: 0.1663 - val_acc: 0.9691\n",
      "Epoch 388/400\n",
      " - 15s - loss: 0.0892 - acc: 0.9853 - val_loss: 0.1604 - val_acc: 0.9727\n",
      "Epoch 389/400\n",
      " - 15s - loss: 0.0904 - acc: 0.9850 - val_loss: 0.1574 - val_acc: 0.9725\n",
      "Epoch 390/400\n",
      " - 15s - loss: 0.0903 - acc: 0.9848 - val_loss: 0.1674 - val_acc: 0.9701\n",
      "Epoch 391/400\n",
      " - 15s - loss: 0.0925 - acc: 0.9842 - val_loss: 0.1886 - val_acc: 0.9692\n",
      "Epoch 392/400\n",
      " - 15s - loss: 0.0900 - acc: 0.9849 - val_loss: 0.1597 - val_acc: 0.9731\n",
      "Epoch 393/400\n",
      " - 15s - loss: 0.0882 - acc: 0.9854 - val_loss: 0.1716 - val_acc: 0.9707\n",
      "Epoch 394/400\n",
      " - 15s - loss: 0.0914 - acc: 0.9843 - val_loss: 0.1621 - val_acc: 0.9706\n",
      "Epoch 395/400\n",
      " - 15s - loss: 0.0885 - acc: 0.9854 - val_loss: 0.1694 - val_acc: 0.9653\n",
      "Epoch 396/400\n",
      " - 15s - loss: 0.0879 - acc: 0.9855 - val_loss: 0.2415 - val_acc: 0.9582\n",
      "Epoch 397/400\n",
      " - 15s - loss: 0.0916 - acc: 0.9844 - val_loss: 0.1548 - val_acc: 0.9724\n",
      "Epoch 398/400\n",
      " - 15s - loss: 0.0894 - acc: 0.9850 - val_loss: 0.1800 - val_acc: 0.9669\n",
      "Epoch 399/400\n",
      " - 15s - loss: 0.0879 - acc: 0.9854 - val_loss: 0.1497 - val_acc: 0.9737\n",
      "Epoch 400/400\n",
      " - 15s - loss: 0.0880 - acc: 0.9852 - val_loss: 0.1742 - val_acc: 0.9658\n"
     ]
    }
   ],
   "source": [
    "# model.fit_generator(gen, rnd_trn, 100, verbose=2, \n",
    "#                     validation_data=gen_test, nb_val_samples=rnd_test)\n",
    "# model.fit_generator(train_data, rnd_trn, 100, verbose=2, \n",
    "#                     validation_data=gen_test, nb_val_samples=rnd_test)\n",
    "history=model3.fit(train_data, train_label, batch_size=batch_size, epochs=nb_epoch,verbose=2, validation_data=(test_data, test_label), shuffle=True)"
   ]
  },
  {
   "cell_type": "markdown",
   "metadata": {},
   "source": [
    "## View results"
   ]
  },
  {
   "cell_type": "markdown",
   "metadata": {},
   "source": [
    "Let's take a look at some of the results we achieved."
   ]
  },
  {
   "cell_type": "markdown",
   "metadata": {},
   "source": [
    "This is pretty good! We can see it is having some difficulty with the street between the light posts, but we would expect that a model that was pre-trained on a much larger dataset would perform better."
   ]
  },
  {
   "cell_type": "code",
   "execution_count": 24,
   "metadata": {},
   "outputs": [
    {
     "name": "stdout",
     "output_type": "stream",
     "text": [
      "/home/leslie/Downloads/One-Hundred-Layers-Tiramisu-master/One-Hundred-Layers-Tiramisu-master\n"
     ]
    }
   ],
   "source": [
    "import matplotlib\n",
    "import os\n",
    "path=os.getcwd()\n",
    "print(path)"
   ]
  },
  {
   "cell_type": "code",
   "execution_count": 25,
   "metadata": {},
   "outputs": [],
   "source": [
    "#TO SAVE OUTPUT IMAGES OF MODEL\n",
    "if not os.path.exists(path+\"/output_imgs_1_4_BS10/\"):\n",
    "        os.makedirs(path+\"/output_imgs_1_4_BS10/\")"
   ]
  },
  {
   "cell_type": "code",
   "execution_count": 63,
   "metadata": {},
   "outputs": [],
   "source": [
    "#SAVE GROUND TRUTH\n",
    "# from scipy.misc import imsave\n",
    "for i in range(len(test_data)):\n",
    "   \n",
    "    p=np.resize(test_label[i,:],(224,224))\n",
    "#     if not os.path.exists(path+\"/output_imgs/\"):\n",
    "#         os.makedirs(path+\"/output_imgs/)\n",
    "\n",
    "    matplotlib.image.imsave('output_imgs_ori/outfile'+str(i)+'.png', p)\n",
    "#     imsave('output_imgs/outfile'+i+'.jpg', p)"
   ]
  },
  {
   "cell_type": "code",
   "execution_count": 26,
   "metadata": {},
   "outputs": [],
   "source": [
    "#SAVE PREDICTED IMAGES\n",
    "# from scipy.misc import imsave\n",
    "for i in range(len(test_data)):\n",
    "    p=model3.predict(np.expand_dims(test_data[i,:],0))\n",
    "    p=np.resize(p,(224,224))\n",
    "#     if not os.path.exists(path+\"/output_imgs/\"):\n",
    "#         os.makedirs(path+\"/output_imgs/)\n",
    "    g = (p>=0.5).astype(np.int32)\n",
    "    matplotlib.image.imsave('output_imgs_1_4_BS10/outfile'+str(i)+'.png', g)\n",
    "#     imsave('output_imgs/outfile'+i+'.jpg', p)"
   ]
  },
  {
   "cell_type": "code",
   "execution_count": 55,
   "metadata": {},
   "outputs": [],
   "source": [
    "p = model3.predict(np.expand_dims(train_data[99,:],0))\n",
    "g = (p>=0.5).astype(np.int32)"
   ]
  },
  {
   "cell_type": "code",
   "execution_count": 49,
   "metadata": {
    "scrolled": true
   },
   "outputs": [
    {
     "data": {
      "text/plain": [
       "<matplotlib.image.AxesImage at 0x7f6f3e793450>"
      ]
     },
     "execution_count": 49,
     "metadata": {},
     "output_type": "execute_result"
    },
    {
     "data": {
      "image/png": "[encoded data removed]",
      "text/plain": [
       "<Figure size 432x288 with 1 Axes>"
      ]
     },
     "metadata": {},
     "output_type": "display_data"
    }
   ],
   "source": [
    "# ground truth\n",
    "plt.imshow(np.resize(train_label[100,:],(224,224)))"
   ]
  },
  {
   "cell_type": "code",
   "execution_count": 53,
   "metadata": {},
   "outputs": [
    {
     "data": {
      "text/plain": [
       "<matplotlib.image.AxesImage at 0x7f6f3dc6a0d0>"
      ]
     },
     "execution_count": 53,
     "metadata": {},
     "output_type": "execute_result"
    },
    {
     "data": {
      "image/png": "[encoded data removed]",
      "text/plain": [
       "<Figure size 432x288 with 1 Axes>"
      ]
     },
     "metadata": {},
     "output_type": "display_data"
    }
   ],
   "source": [
    "# predicted\n",
    "plt.imshow(np.resize(g,(224,224)))"
   ]
  },
  {
   "cell_type": "code",
   "execution_count": 40,
   "metadata": {},
   "outputs": [
    {
     "data": {
      "text/plain": [
       "<matplotlib.image.AxesImage at 0xb38015b38>"
      ]
     },
     "execution_count": 40,
     "metadata": {},
     "output_type": "execute_result"
    },
    {
     "data": {
      "image/png": "[encoded data removed]",
      "text/plain": [
       "<Figure size 432x288 with 1 Axes>"
      ]
     },
     "metadata": {},
     "output_type": "display_data"
    }
   ],
   "source": [
    "# initial predicted images with epoch=2\n",
    "plt.imshow(np.resize(p,(224,224)))"
   ]
  },
  {
   "cell_type": "markdown",
   "metadata": {},
   "source": [
    "## End"
   ]
  },
  {
   "cell_type": "code",
   "execution_count": null,
   "metadata": {},
   "outputs": [],
   "source": [
    "# PLOTS FOR IOU CURVE\n",
    "# import matplotlib.pyplot as plt\n",
    "# # list all data in history\n",
    "# print(history.history.keys())\n",
    "# # summarize history for accuracy\n",
    "# plt.plot(history.history['iou_coef'])\n",
    "# plt.plot(history.history['val_iou_coef'])\n",
    "# plt.title('model iou')\n",
    "# plt.ylabel('iou')\n",
    "# plt.xlabel('epoch')\n",
    "# plt.legend(['train', 'test'], loc='upper left')\n",
    "# plt.show()\n",
    "# # summarize history for loss\n",
    "# plt.plot(history.history['loss'])\n",
    "# plt.plot(history.history['val_loss'])\n",
    "# plt.title('model loss')\n",
    "# plt.ylabel('loss')\n",
    "# plt.xlabel('epoch')\n",
    "# plt.legend(['train', 'test'], loc='upper left')\n",
    "# plt.show()"
   ]
  },
  {
   "cell_type": "code",
   "execution_count": 27,
   "metadata": {},
   "outputs": [
    {
     "name": "stdout",
     "output_type": "stream",
     "text": [
      "['acc', 'loss', 'val_acc', 'val_loss']\n"
     ]
    },
    {
     "data": {
      "image/png": "[encoded data removed]",
      "text/plain": [
       "<Figure size 432x288 with 1 Axes>"
      ]
     },
     "metadata": {},
     "output_type": "display_data"
    },
    {
     "data": {
      "image/png": "[encoded data removed]",
      "text/plain": [
       "<Figure size 432x288 with 1 Axes>"
      ]
     },
     "metadata": {},
     "output_type": "display_data"
    }
   ],
   "source": [
    "import matplotlib.pyplot as plt\n",
    "# list all data in history\n",
    "print(history.history.keys())\n",
    "# summarize history for accuracy\n",
    "plt.plot(history.history['acc'])\n",
    "plt.plot(history.history['val_acc'])\n",
    "plt.title('model accuracy')\n",
    "plt.ylabel('accuracy')\n",
    "plt.xlabel('epoch')\n",
    "plt.legend(['train', 'test'], loc='upper left')\n",
    "plt.show()\n",
    "# summarize history for loss\n",
    "plt.plot(history.history['loss'])\n",
    "plt.plot(history.history['val_loss'])\n",
    "plt.title('model loss')\n",
    "plt.ylabel('loss')\n",
    "plt.xlabel('epoch')\n",
    "plt.legend(['train', 'test'], loc='upper left')\n",
    "plt.show()"
   ]
  },
  {
   "cell_type": "code",
   "execution_count": 28,
   "metadata": {},
   "outputs": [],
   "source": [
    "model3.save_weights('weights/prop_tiramisu_1_4_BS10_weights_67_12_func_10-e7_decay{}.hdf5'.format(nb_epoch))"
   ]
  },
  {
   "cell_type": "code",
   "execution_count": 30,
   "metadata": {},
   "outputs": [
    {
     "name": "stdout",
     "output_type": "stream",
     "text": [
      "['acc', 'loss', 'val_acc', 'val_loss']\n"
     ]
    },
    {
     "data": {
      "image/png": "[encoded data removed]",
      "text/plain": [
       "<Figure size 432x288 with 1 Axes>"
      ]
     },
     "metadata": {},
     "output_type": "display_data"
    }
   ],
   "source": [
    "##save plots\n",
    "import matplotlib.pyplot as plt\n",
    "# list all data in history\n",
    "print(history.history.keys())\n",
    "# summarize history for accuracy\n",
    "plt.plot(history.history['acc'])\n",
    "plt.plot(history.history['val_acc'])\n",
    "plt.title('model accuracy')\n",
    "plt.ylabel('accuracy')\n",
    "plt.xlabel('epoch')\n",
    "plt.legend(['train', 'test'], loc='upper left')\n",
    "#plt.show()\n",
    "plt.savefig('Model Accuracy Curve_1_4_BS10.png')\n",
    "# summarize history for loss\n"
   ]
  },
  {
   "cell_type": "code",
   "execution_count": 29,
   "metadata": {},
   "outputs": [
    {
     "data": {
      "image/png": "[encoded data removed]",
      "text/plain": [
       "<Figure size 432x288 with 1 Axes>"
      ]
     },
     "metadata": {},
     "output_type": "display_data"
    }
   ],
   "source": [
    "plt.plot(history.history['loss'])\n",
    "plt.plot(history.history['val_loss'])\n",
    "plt.title('model loss')\n",
    "plt.ylabel('loss')\n",
    "plt.xlabel('epoch')\n",
    "plt.legend(['train', 'test'], loc='upper left')\n",
    "#plt.show()\n",
    "plt.savefig('Loss Curve_1_4_BS10.png')"
   ]
  },
  {
   "cell_type": "code",
   "execution_count": 86,
   "metadata": {
    "scrolled": true
   },
   "outputs": [
    {
     "name": "stdout",
     "output_type": "stream",
     "text": [
      "Confusion matrix, without normalization\n",
      "[[31265  1584]\n",
      " [ 6027 11300]]\n",
      "Normalized confusion matrix\n",
      "[[0.95 0.05]\n",
      " [0.35 0.65]]\n"
     ]
    },
    {
     "data": {
      "image/png": "[encoded data removed]",
      "text/plain": [
       "<Figure size 432x288 with 2 Axes>"
      ]
     },
     "metadata": {},
     "output_type": "display_data"
    },
    {
     "data": {
      "image/png": "[encoded data removed]",
      "text/plain": [
       "<Figure size 432x288 with 2 Axes>"
      ]
     },
     "metadata": {},
     "output_type": "display_data"
    }
   ],
   "source": [
    "##confusion matrix for diseased sample test\n",
    "import itertools\n",
    "import numpy as np\n",
    "import matplotlib.pyplot as plt\n",
    "\n",
    "from sklearn import svm, datasets\n",
    "from sklearn.model_selection import train_test_split\n",
    "from sklearn.metrics import confusion_matrix\n",
    "\n",
    "def plot_confusion_matrix(cm, classes,\n",
    "                          normalize=False,\n",
    "                          title='Confusion matrix',\n",
    "                          cmap=plt.cm.Blues):\n",
    "    \"\"\"\n",
    "    This function prints and plots the confusion matrix.\n",
    "    Normalization can be applied by setting `normalize=True`.\n",
    "    \"\"\"\n",
    "    if normalize:\n",
    "        cm = cm.astype('float') / cm.sum(axis=1)[:, np.newaxis]\n",
    "        print(\"Normalized confusion matrix\")\n",
    "    else:\n",
    "        print('Confusion matrix, without normalization')\n",
    "\n",
    "    print(cm)\n",
    "\n",
    "    plt.imshow(cm, interpolation='nearest', cmap=cmap)\n",
    "    plt.title(title)\n",
    "    plt.colorbar()\n",
    "    tick_marks = np.arange(len(classes))\n",
    "    plt.xticks(tick_marks, classes, rotation=45)\n",
    "    plt.yticks(tick_marks, classes)\n",
    "\n",
    "    fmt = '.2f' if normalize else 'd'\n",
    "    thresh = cm.max() / 2.\n",
    "    for i, j in itertools.product(range(cm.shape[0]), range(cm.shape[1])):\n",
    "        plt.text(j, i, format(cm[i, j], fmt),\n",
    "                 horizontalalignment=\"center\",\n",
    "                 color=\"white\" if cm[i, j] > thresh else \"black\")\n",
    "\n",
    "    plt.tight_layout()\n",
    "    plt.ylabel('True label')\n",
    "    plt.xlabel('Predicted label')\n",
    "\n",
    "# Compute confusion matrix\n",
    "cnf_matrix = confusion_matrix(test_label[33,:], g33)\n",
    "np.set_printoptions(precision=2)\n",
    "class_names=[0,1]\n",
    "# Plot non-normalized confusion matrix\n",
    "plt.figure()\n",
    "plot_confusion_matrix(cnf_matrix, classes=class_names,\n",
    "                      title='Confusion matrix, without normalization')\n",
    "\n",
    "# Plot normalized confusion matrix\n",
    "plt.figure()\n",
    "plot_confusion_matrix(cnf_matrix, classes=class_names, normalize=True,\n",
    "                      title='Normalized confusion matrix')\n",
    "\n",
    "plt.show()"
   ]
  },
  {
   "cell_type": "code",
   "execution_count": 87,
   "metadata": {},
   "outputs": [
    {
     "data": {
      "text/plain": [
       "(50176,)"
      ]
     },
     "execution_count": 87,
     "metadata": {},
     "output_type": "execute_result"
    }
   ],
   "source": [
    "##confusion matrix\n",
    "p42=model2.predict(np.expand_dims(test_data[42,:],0))\n",
    "g42 = (p42>=0.5).astype(np.int32)\n",
    "np.unique(g42)\n",
    "g42=np.ravel(g42)\n",
    "g42.shape"
   ]
  },
  {
   "cell_type": "code",
   "execution_count": 88,
   "metadata": {
    "scrolled": true
   },
   "outputs": [
    {
     "name": "stdout",
     "output_type": "stream",
     "text": [
      "Confusion matrix, without normalization\n",
      "[[38186   255]\n",
      " [  222 11513]]\n",
      "Normalized confusion matrix\n",
      "[[0.99 0.01]\n",
      " [0.02 0.98]]\n"
     ]
    },
    {
     "data": {
      "image/png": "[encoded data removed]",
      "text/plain": [
       "<Figure size 432x288 with 2 Axes>"
      ]
     },
     "metadata": {},
     "output_type": "display_data"
    },
    {
     "data": {
      "image/png": "[encoded data removed]",
      "text/plain": [
       "<Figure size 432x288 with 2 Axes>"
      ]
     },
     "metadata": {},
     "output_type": "display_data"
    }
   ],
   "source": [
    "##confusion matrix for non diseased sample - test\n",
    "import itertools\n",
    "import numpy as np\n",
    "import matplotlib.pyplot as plt\n",
    "\n",
    "from sklearn import svm, datasets\n",
    "from sklearn.model_selection import train_test_split\n",
    "from sklearn.metrics import confusion_matrix\n",
    "\n",
    "def plot_confusion_matrix(cm, classes,\n",
    "                          normalize=False,\n",
    "                          title='Confusion matrix',\n",
    "                          cmap=plt.cm.Blues):\n",
    "    \"\"\"\n",
    "    This function prints and plots the confusion matrix.\n",
    "    Normalization can be applied by setting `normalize=True`.\n",
    "    \"\"\"\n",
    "    if normalize:\n",
    "        cm = cm.astype('float') / cm.sum(axis=1)[:, np.newaxis]\n",
    "        print(\"Normalized confusion matrix\")\n",
    "    else:\n",
    "        print('Confusion matrix, without normalization')\n",
    "\n",
    "    print(cm)\n",
    "\n",
    "    plt.imshow(cm, interpolation='nearest', cmap=cmap)\n",
    "    plt.title(title)\n",
    "    plt.colorbar()\n",
    "    tick_marks = np.arange(len(classes))\n",
    "    plt.xticks(tick_marks, classes, rotation=45)\n",
    "    plt.yticks(tick_marks, classes)\n",
    "\n",
    "    fmt = '.2f' if normalize else 'd'\n",
    "    thresh = cm.max() / 2.\n",
    "    for i, j in itertools.product(range(cm.shape[0]), range(cm.shape[1])):\n",
    "        plt.text(j, i, format(cm[i, j], fmt),\n",
    "                 horizontalalignment=\"center\",\n",
    "                 color=\"white\" if cm[i, j] > thresh else \"black\")\n",
    "\n",
    "    plt.tight_layout()\n",
    "    plt.ylabel('True label')\n",
    "    plt.xlabel('Predicted label')\n",
    "\n",
    "# Compute confusion matrix\n",
    "cnf_matrix = confusion_matrix(test_label[42,:], g42)\n",
    "np.set_printoptions(precision=2)\n",
    "class_names=[0,1]\n",
    "# Plot non-normalized confusion matrix\n",
    "plt.figure()\n",
    "plot_confusion_matrix(cnf_matrix, classes=class_names,\n",
    "                      title='Confusion matrix, without normalization')\n",
    "\n",
    "# Plot normalized confusion matrix\n",
    "plt.figure()\n",
    "plot_confusion_matrix(cnf_matrix, classes=class_names, normalize=True,\n",
    "                      title='Normalized confusion matrix')\n",
    "\n",
    "plt.show()"
   ]
  },
  {
   "cell_type": "code",
   "execution_count": null,
   "metadata": {},
   "outputs": [],
   "source": []
  }
 ],
 "metadata": {
  "kernelspec": {
   "display_name": "Python 3",
   "language": "python",
   "name": "python3"
  },
  "language_info": {
   "codemirror_mode": {
    "name": "ipython",
    "version": 3
   },
   "file_extension": ".py",
   "mimetype": "text/x-python",
   "name": "python",
   "nbconvert_exporter": "python",
   "pygments_lexer": "ipython3",
   "version": "3.5.5"
  }
 },
 "nbformat": 4,
 "nbformat_minor": 2
}
